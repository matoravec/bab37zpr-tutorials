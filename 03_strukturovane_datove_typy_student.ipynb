{
 "cells": [
  {
   "cell_type": "markdown",
   "metadata": {},
   "source": [
    "# Štruktúrované dátové typy\n",
    "\n",
    "## Inicializácia"
   ]
  },
  {
   "cell_type": "code",
   "execution_count": null,
   "metadata": {},
   "outputs": [],
   "source": [
    "import math\n",
    "import random"
   ]
  },
  {
   "cell_type": "markdown",
   "metadata": {},
   "source": [
    "## Zoznam (list)\n",
    "\n",
    "* **Usporiadaná** $n$-tica hodnôt\n",
    "* V jednom zozname môže byť **viacero dátových typov**\n",
    "* Vytvorenie zoznamu\n",
    "\n",
    "```python\n",
    "l1 = [] # An empty list\n",
    "l2 = [1, 2, 3] # By explicitly naming all of its values (from literal)\n",
    "l3 = ['string', 5, ['a', 'b', 'c']] # A list could contain a list as its element\n",
    "l4 = list(range(11)) # From another object (here: an iterator)\n",
    "```\n",
    "\n",
    "* Indexovanie *pozíciou*\n",
    "    * Hranaté zátvorky\n",
    "    \n",
    "    ```python\n",
    "    l3[0]\n",
    "    l3[-2]\n",
    "    ...\n",
    "    ```\n",
    "\n",
    "* **Modifikovateľná** štruktúra"
   ]
  },
  {
   "cell_type": "code",
   "execution_count": null,
   "metadata": {},
   "outputs": [],
   "source": []
  },
  {
   "cell_type": "markdown",
   "metadata": {},
   "source": [
    "* **Iterovateľný** dátový typ\n",
    "    * Možno využiť v predpise cyklu"
   ]
  },
  {
   "cell_type": "code",
   "execution_count": null,
   "metadata": {},
   "outputs": [],
   "source": []
  },
  {
   "cell_type": "markdown",
   "metadata": {},
   "source": [
    "### Dynamické pridávanie prvkov\n",
    "\n",
    "* Metóda `list.append()`"
   ]
  },
  {
   "cell_type": "code",
   "execution_count": null,
   "metadata": {},
   "outputs": [],
   "source": []
  },
  {
   "cell_type": "markdown",
   "metadata": {},
   "source": [
    "### Dynamické odoberanie prvkov\n",
    "\n",
    "* Metóda `list.pop()`"
   ]
  },
  {
   "cell_type": "code",
   "execution_count": null,
   "metadata": {
    "scrolled": true
   },
   "outputs": [],
   "source": []
  },
  {
   "cell_type": "markdown",
   "metadata": {},
   "source": [
    "### Otočenie poradia prvkov\n",
    "\n",
    "* Metóda `list.reverse()`"
   ]
  },
  {
   "cell_type": "code",
   "execution_count": null,
   "metadata": {},
   "outputs": [],
   "source": []
  },
  {
   "cell_type": "markdown",
   "metadata": {},
   "source": [
    "### Ostatné metódy triedy *list*"
   ]
  },
  {
   "cell_type": "code",
   "execution_count": null,
   "metadata": {},
   "outputs": [],
   "source": []
  },
  {
   "cell_type": "markdown",
   "metadata": {},
   "source": [
    "-----------------------\n",
    "\n",
    "## N-tica (tuple)\n",
    "\n",
    "* Navonok veľmi podobná zoznamu, avšak **nie je modifikovateľná**\n",
    "* Niekedy vhodné použiť z dôvodu bezpečnosti\n",
    "    * Ak funkcii dáme ako argument *tuple*, funkcia ho bude môcť čítať, ale nie zmeniť\n",
    "* Vytvorenie podobne ako *list*, avšak s použitím **okrúhlych zátvoriek**, resp. metódy `tuple()`\n",
    "\n",
    "```python\n",
    "t = () # An empty tuple\n",
    "t = (0, 'one')\n",
    "t = ('a', ['b', 'c'], (1, 2, 3))\n",
    "t = tuple(range(10))\n",
    "```\n",
    "\n",
    "* Nedisponuje žiadnymi modifikujúcimi metódami (`append`, `pop`, `reverse`,...)"
   ]
  },
  {
   "cell_type": "code",
   "execution_count": null,
   "metadata": {},
   "outputs": [],
   "source": []
  },
  {
   "cell_type": "markdown",
   "metadata": {},
   "source": [
    "-----------\n",
    "\n",
    "## Množina (set)\n",
    "\n",
    "* Správanie ako množina v matematike\n",
    "    * Nie je usporiadaná\n",
    "        * Nemožno teda indexovať\n",
    "    * Každý z prvkov je unikátny\n",
    "    \n",
    "* Je **iterovateľná** a **modifikovateľná**\n",
    "    * Možno pridávať prvky\n",
    "    \n",
    "* Zápis pomocou kučeravých zátvoriek, resp. metódy `set()`\n",
    "\n",
    "```python\n",
    "s = set() # An empty set\n",
    "s = {1, 1, 2, 2, 3} # The same as {1, 2, 3}\n",
    "s = set(range(10))\n",
    "```"
   ]
  },
  {
   "cell_type": "code",
   "execution_count": null,
   "metadata": {},
   "outputs": [],
   "source": []
  },
  {
   "cell_type": "markdown",
   "metadata": {},
   "source": [
    "### Ponechanie unikátnych prvkov v zozname"
   ]
  },
  {
   "cell_type": "code",
   "execution_count": null,
   "metadata": {},
   "outputs": [],
   "source": []
  },
  {
   "cell_type": "markdown",
   "metadata": {},
   "source": [
    "--------\n",
    "\n",
    "## Slovník (dictionary)\n",
    "\n",
    "* Každý prvok tvorený **heslom** (*key*) a **hodnotou** (*value*)\n",
    "* Hodnoty sú ekvivalentné zoznamu, heslá slúžia na indexáciu\n",
    "* Vytvorenie slovníka\n",
    "\n",
    "```python\n",
    "d1 = {} # An empty dictionary\n",
    "d2 = dict() # An empty dictionary\n",
    "d3 = dict.fromkeys(['one', 'two', 'three']) # Empty with keys 'one', 'two', 'three'\n",
    "d4 = dict.fromkeys('abcde') # Empty with keys 'a', 'b', 'c', 'd', 'e'\n",
    "d5 = {'one': 1, 'two': [1, 2, 3]} # By a literal\n",
    "d6 = dict(zip('keys', [1, 2, 3, 4])) # {'k': 1, 'e': 2, 'y': 3, 's': 4}\n",
    "```\n",
    "* Indexovanie:\n",
    "```python\n",
    "d = {'a': [1, 2, 3], 'b': ['a', 'b', 'c']}\n",
    "d['a'][0]\n",
    "d['b']\n",
    "...\n",
    "```"
   ]
  },
  {
   "cell_type": "code",
   "execution_count": null,
   "metadata": {},
   "outputs": [],
   "source": []
  },
  {
   "cell_type": "markdown",
   "metadata": {},
   "source": [
    "--------\n",
    "\n",
    "## Zjednodušený zápis štruktúrovaných typov: *list / set comprehensions*\n",
    "\n",
    "```python\n",
    "[<expression_using_variable> for <variable> in <iterable>]\n",
    "[<expression_using_variable> if <logical_expression> else <expression> for <variable> in <iterable>]\n",
    "```\n",
    "* To isté aj s množinovými zátvorkami"
   ]
  },
  {
   "cell_type": "code",
   "execution_count": null,
   "metadata": {},
   "outputs": [],
   "source": []
  },
  {
   "cell_type": "markdown",
   "metadata": {},
   "source": [
    "--------\n",
    "\n",
    "## Úlohy z [CW](https://cw.fel.cvut.cz/wiki/courses/bab37zpr/tutorials/lab04)\n",
    "\n",
    "1. Napíšte program, ktorý prehodí hodnoty dvoch premenných."
   ]
  },
  {
   "cell_type": "code",
   "execution_count": null,
   "metadata": {},
   "outputs": [],
   "source": [
    "a = 5\n",
    "b = 7\n",
    "\n",
    "##################\n",
    "# Your code here #\n",
    "##################\n",
    "\n",
    "print('a: {:d}, b: {:d}'.format(a, b))"
   ]
  },
  {
   "cell_type": "code",
   "execution_count": null,
   "metadata": {},
   "outputs": [],
   "source": [
    "a = 5\n",
    "b = 7\n",
    "\n",
    "##################\n",
    "# Your code here #\n",
    "##################\n",
    "\n",
    "print('a: {:d}, b: {:d}'.format(a, b))"
   ]
  },
  {
   "cell_type": "code",
   "execution_count": null,
   "metadata": {},
   "outputs": [],
   "source": [
    "a = 5\n",
    "b = 7\n",
    "\n",
    "##################\n",
    "# Your code here #\n",
    "##################\n",
    "\n",
    "print('a: {:d}, b: {:d}'.format(a, b))"
   ]
  },
  {
   "cell_type": "markdown",
   "metadata": {},
   "source": [
    "2. Implementujte nasledujúci program:\n",
    "\n",
    "```python\n",
    "def rectangle(arg):\n",
    "    # A function for rectangular area calculation\n",
    "    \n",
    "def circle(arg):\n",
    "    # A function for circular area calculation\n",
    "    \n",
    "def area(f, arg):\n",
    "    # A function for circular or rectangular area calculation\n",
    "    \n",
    "print('Area of the circle: {:.5f}'.format(area('circle', 2.21)))\n",
    "print('Area of the rectangle: {:.5f}'.format(area('rectangle', (3, 4))))\n",
    "```"
   ]
  },
  {
   "cell_type": "code",
   "execution_count": null,
   "metadata": {},
   "outputs": [],
   "source": []
  },
  {
   "cell_type": "markdown",
   "metadata": {},
   "source": [
    "3. Vyskúšajte rôzne spôsoby prechádzania a vytvárania zoznamov.\n",
    "\n",
    "\n",
    "* Postupné pridávanie prvkov:"
   ]
  },
  {
   "cell_type": "code",
   "execution_count": null,
   "metadata": {},
   "outputs": [],
   "source": []
  },
  {
   "cell_type": "markdown",
   "metadata": {},
   "source": [
    "* Spájanie"
   ]
  },
  {
   "cell_type": "code",
   "execution_count": null,
   "metadata": {},
   "outputs": [],
   "source": []
  },
  {
   "cell_type": "markdown",
   "metadata": {},
   "source": [
    "* Metóda `list.extend()`"
   ]
  },
  {
   "cell_type": "code",
   "execution_count": null,
   "metadata": {},
   "outputs": [],
   "source": []
  },
  {
   "cell_type": "markdown",
   "metadata": {},
   "source": [
    "* Indexácia"
   ]
  },
  {
   "cell_type": "code",
   "execution_count": null,
   "metadata": {},
   "outputs": [],
   "source": []
  },
  {
   "cell_type": "markdown",
   "metadata": {},
   "source": [
    "* Operátor ```in```"
   ]
  },
  {
   "cell_type": "code",
   "execution_count": null,
   "metadata": {},
   "outputs": [],
   "source": []
  },
  {
   "cell_type": "markdown",
   "metadata": {},
   "source": [
    "4. Preskúmajte rozdiel medzi kópiou zoznamu a aliasom\n",
    "    * Kópia zoznamu: \n",
    "    ```python\n",
    "    copy_of_list = original_list.copy()\n",
    "    another_copy = list(original_list)\n",
    "    ```\n",
    "    * Odkaz na zoznam:\n",
    "    ```python\n",
    "    reference_to_list = original_list\n",
    "    ```"
   ]
  },
  {
   "cell_type": "code",
   "execution_count": null,
   "metadata": {},
   "outputs": [],
   "source": []
  },
  {
   "cell_type": "markdown",
   "metadata": {},
   "source": [
    "5. Navrhnite funkciu, ktorej návratovou hodnotou bude zoznam, inicializovaný náhodnými celými číslami v danom rozsahu."
   ]
  },
  {
   "cell_type": "code",
   "execution_count": null,
   "metadata": {},
   "outputs": [],
   "source": []
  },
  {
   "cell_type": "markdown",
   "metadata": {},
   "source": [
    "6. Napíšte funkcie na sčítanie a skalárne násobenie $s$ vektorov."
   ]
  },
  {
   "cell_type": "code",
   "execution_count": null,
   "metadata": {},
   "outputs": [],
   "source": [
    "# s = 3\n",
    "def vector_sum(v1, v2, v3):\n",
    "##################\n",
    "# Your code here #\n",
    "##################\n",
    "\n",
    "def vector_ewp(v1, v2, v3):\n",
    "##################\n",
    "# Your code here #\n",
    "##################\n",
    "\n",
    "v1 = [1, 2, 3]\n",
    "v2 = [1, 0, 1]\n",
    "v3 = [2, 2, 1]\n",
    "# ------------\n",
    "#    [4, 4, 5] (sum)\n",
    "#    [2, 0, 3] (element-wise product)\n",
    "\n",
    "print(vector_sum(v1, v2, v3))\n",
    "print(vector_ewp(v1, v2, v3))"
   ]
  },
  {
   "cell_type": "markdown",
   "metadata": {},
   "source": [
    "7. Vytvorte zoznam, reprezentujúci maticu. Napíšte program, ktorý vypíše jednotlivé prvky matice."
   ]
  },
  {
   "cell_type": "code",
   "execution_count": null,
   "metadata": {},
   "outputs": [],
   "source": [
    "rows = 5 # Number of rows\n",
    "columns = 8 # Number of columns\n",
    "\n",
    "##################\n",
    "# Your code here #\n",
    "##################"
   ]
  },
  {
   "cell_type": "markdown",
   "metadata": {},
   "source": [
    "8. Zoznam áut je popísaný nasledujúcou dátovou štruktúrou. Vypíšte menný zoznam majiteľov áut. Koľko je v garáži áut značky Volvo?"
   ]
  },
  {
   "cell_type": "code",
   "execution_count": null,
   "metadata": {},
   "outputs": [],
   "source": [
    "garaz = [(\"Petr Kellner\", [\"Porsche\", \"BMW\", \"Volvo\"]),\n",
    "         (\"Karel Komarek\", [\"BMW\", \"Volvo\"]),\n",
    "         (\"Andrej Babis\", [\"BMW\", \"Porsche\"]),\n",
    "         (\"Daniel Kretinsky\", [\"BMW\", \"Ferrari\", \"Ford Mustang\"])]"
   ]
  },
  {
   "cell_type": "code",
   "execution_count": null,
   "metadata": {},
   "outputs": [],
   "source": [
    "##################\n",
    "# Your code here #\n",
    "##################"
   ]
  }
 ],
 "metadata": {
  "kernelspec": {
   "display_name": "Python 3",
   "language": "python",
   "name": "python3"
  },
  "language_info": {
   "codemirror_mode": {
    "name": "ipython",
    "version": 3
   },
   "file_extension": ".py",
   "mimetype": "text/x-python",
   "name": "python",
   "nbconvert_exporter": "python",
   "pygments_lexer": "ipython3",
   "version": "3.8.3"
  }
 },
 "nbformat": 4,
 "nbformat_minor": 4
}
