{
 "cells": [
  {
   "cell_type": "markdown",
   "metadata": {},
   "source": [
    "# Práca s poľami, reťazcami a súbormi\n",
    "\n",
    "## Inicializácia"
   ]
  },
  {
   "cell_type": "code",
   "execution_count": null,
   "metadata": {},
   "outputs": [],
   "source": [
    "import os\n",
    "import math\n",
    "import random\n",
    "from sympy import *"
   ]
  },
  {
   "cell_type": "code",
   "execution_count": null,
   "metadata": {},
   "outputs": [],
   "source": [
    "def get_unsorted(length=100):\n",
    "    \"\"\"\n",
    "    An unsorted array of integers.\n",
    "    \n",
    "    Args:\n",
    "        length (int): Number of elements in the returned array (*default* 100).\n",
    "    \n",
    "    Returns:\n",
    "        list[int]: An array full of random integers ranging from -100 to 100 (100 not included).\n",
    "    \"\"\"\n",
    "    return [random.randrange(-100, 100) for i in range(length)]"
   ]
  },
  {
   "cell_type": "markdown",
   "metadata": {},
   "source": [
    "----------\n",
    "\n",
    "## Zoraďovanie polí\n",
    "\n",
    "- *Poľom* nazveme akúkoľvek reprezentáciu usporiadanej $n$-tice **rovnakého dátového typu**.\n",
    "    - Zoraďovací predpis, samozrejme, možno definovať i pre $n$-ticu zloženú z rôznych dátových typov. Pre názornosť ale takéto prípady vynecháme. Platia na ne rovnaké algoritmy ako na homogénne $n$-tice, teda polia v našom ponímaní.\n",
    "    - Pre jednoduchosť budeme pracovať s *reálnymi číslami*\n",
    "        - Prirodzene definované operátory `<`, `>`, `<=`, `>=`, `==`\n",
    "    \n",
    "- Cieľ: Usporiadať hodnoty v poli\n",
    "    - *Vzostupne*\n",
    "        - Zostupné usporiadanie je založené na rovnakom princípe, iba zmysel porovnaní bude opačný\n",
    "   \n",
    "--------\n",
    "### Bubble sort\n",
    "\n",
    "<img src=\"img/sorting/bubble_sort.gif\" width=800 />\n",
    "\n",
    "- Jeden beh:\n",
    "    - Okienko o dvoch susedných hodnotách $a$ a $b$\n",
    "    - Pokiaľ $a > b$, nastane zmena pozícií\n",
    "    - Posun okienka o jeden prvok vpravo\n",
    "    \n",
    "- Pri každom behu sa na správnu pozíciu dostane aspoň jedna hodnota.\n",
    "    - Pre $n$-prvkové pole teda treba $n - 1$ behov\n",
    "        - Pri každom z nich $n - 1$ porovnaní\n",
    "\n",
    "- Asymptotická zložitosť algoritmu $\\mathcal{O}(n^2)$\n",
    "- Schopnosť detekovať, že pole je už zoradené\n",
    "    - V najlepšom prípade (už zoradené pole) je zložitosť $\\mathcal{O}(n)$ (Prebehne iba 1 beh)"
   ]
  },
  {
   "cell_type": "code",
   "execution_count": null,
   "metadata": {},
   "outputs": [],
   "source": [
    "a = get_unsorted()\n",
    "        \n",
    "def bubble_sort(a):\n",
    "    ##################\n",
    "    # Your code here #\n",
    "    ##################\n",
    "                \n",
    "    return a\n",
    "\n",
    "%time bubble_sort(a)\n",
    "print(a)"
   ]
  },
  {
   "cell_type": "markdown",
   "metadata": {},
   "source": [
    "-----------\n",
    "\n",
    "### Insertion sort\n",
    "\n",
    "<img src=\"img/sorting/insertion_sort.gif\" width=800 />\n",
    "\n",
    "- Prvý prvok poľa je sám o sebe zoradeným poľom.\n",
    "- Zoberieme 2. prvok a zaradíme ho do poľa vľavo\n",
    "    - Tým získame dvojprvkové zoradené pole na začiatku celého poľa\n",
    "- Zoberieme 3. prvok a zaradíme ho do dvojprvkového zoradeného poľa\n",
    "    - Tým získame trojprvkové zoradené pole na začiatku celého poľa\n",
    "- ...a pokračujeme až po posledný prvok celkového poľa.\n",
    "\n",
    "\n",
    "- Prechádzame $n-1$ prvkov\n",
    "    - Pre prvý 1 porovnanie\n",
    "    - Pre druhý najviac 2 porovnania\n",
    "    - Pre tretí najviac 3 porovnania atď.\n",
    "- V najhoršom prípade teda celkovo $\\sum_{k=1}^{n-1}k$ porovnaní"
   ]
  },
  {
   "cell_type": "code",
   "execution_count": null,
   "metadata": {},
   "outputs": [],
   "source": [
    "k, n = symbols('k n')\n",
    "Sum(k, (k, 1, k - 1)).doit()"
   ]
  },
  {
   "cell_type": "markdown",
   "metadata": {},
   "source": [
    "- Asymptotická zložitosť $\\mathcal{O}(n^2)$"
   ]
  },
  {
   "cell_type": "code",
   "execution_count": null,
   "metadata": {},
   "outputs": [],
   "source": [
    "a = get_unsorted()\n",
    "\n",
    "def insertion_sort(a):\n",
    "    ##################\n",
    "    # Your code here #\n",
    "    ##################\n",
    "    \n",
    "    return a\n",
    "        \n",
    "%time insertion_sort(a)\n",
    "print(a)"
   ]
  },
  {
   "cell_type": "markdown",
   "metadata": {},
   "source": [
    "-----------\n",
    "\n",
    "### Quicksort\n",
    "\n",
    "- Patrí do skupiny algoritmov typu *rozdeľ a panuj*.\n",
    "- Zaraďuje sa do triedy zložitosti $\\mathcal{O}(n\\log n)$\n",
    "- Využitie *rekurzie*\n",
    "\n",
    "> #### Rekurzia\n",
    ">\n",
    "> - Pokiaľ nie je splnená ukončovacia podmienka, funkcia **volá samú seba**."
   ]
  },
  {
   "cell_type": "code",
   "execution_count": null,
   "metadata": {},
   "outputs": [],
   "source": []
  },
  {
   "cell_type": "markdown",
   "metadata": {},
   "source": [
    "* Algoritmus quicksort:\n",
    "\n",
    "\n",
    "> * Vyber **pivot** (napr. prvý prvok poľa)\n",
    ">\n",
    "> * Prejdi celé pole a **preusporiadaj** ho tak, aby naľavo od pivota boli iba prvky **menšie než pivot** a napravo od neho iba prvky, ktoré sú **väčšie než pivot**.\n",
    ">\n",
    "> * **Zoraď pomocou *quicksort*** pole vľavo od pivota i pole vpravo od pivota."
   ]
  },
  {
   "cell_type": "code",
   "execution_count": null,
   "metadata": {},
   "outputs": [],
   "source": [
    "def quick_sort(a):\n",
    "    ##################\n",
    "    # Your code here #\n",
    "    ##################  \n",
    "    \n",
    "a = get_unsorted()\n",
    "\n",
    "%time a = quick_sort(a)\n",
    "print(a)"
   ]
  },
  {
   "cell_type": "markdown",
   "metadata": {},
   "source": [
    "-----------\n",
    "### Bogosort"
   ]
  },
  {
   "cell_type": "code",
   "execution_count": null,
   "metadata": {},
   "outputs": [],
   "source": [
    "def issorted(a):\n",
    "    ##################\n",
    "    # Your code here #\n",
    "    ##################\n",
    "\n",
    "def bogo_sort(a):\n",
    "    while not issorted(a):\n",
    "        random.shuffle(a)\n",
    "    return a\n",
    "\n",
    "a = get_unsorted(5)\n",
    "%time bogo_sort(a)\n",
    "\n",
    "print(a)"
   ]
  },
  {
   "cell_type": "markdown",
   "metadata": {},
   "source": [
    "------------\n",
    "* Zoraďovacích algoritmov existuje ešte omnoho viac $-$ viď napr. [Wikipedia](https://en.wikipedia.org/wiki/Sorting_algorithm)\n",
    "\n",
    "### Zabudované zoraďovacie funkcie Pythonu\n",
    "\n",
    "* `list.sort()` ([Dokumentácia](https://docs.python.org/3/library/stdtypes.html#list.sort))$~\\to ~$ Zoradenie zoznamu *na mieste*\n",
    "\n",
    "    * Parameter `reverse` (bool): `list.sort()` defaultne[<sup>1</sup>](#foot01) zoraďuje zoznam *vzostupne*. Pokiaľ je hodnota argumentu pre parameter `reverse` nastavená na  `True`, zmysel porovnávaní bude zmenený a pole bude zoradené v *zostupnom* zmysle (*default* `False`)\n",
    "    \n",
    "    * Parameter `key` (callable): Funkcia, ktorá transformuje hodnoty zoznamu na kľúče, ktoré majú vstúpovať do porovnávaní (*default* `None`)\n",
    "        * Príklad:"
   ]
  },
  {
   "cell_type": "code",
   "execution_count": null,
   "metadata": {},
   "outputs": [],
   "source": [
    "l = [7, 'foo', 'Whale', 'Foo', 'whale', '7', 'seven', [1, 2, 3]]"
   ]
  },
  {
   "cell_type": "markdown",
   "metadata": {},
   "source": [
    "* `sorted()` [Dokumentácia](https://docs.python.org/3/library/functions.html#sorted) $~\\to ~$ Vytvorenie zoradeného poľa z iterovateľného objektu, ktorý je jej povinným parametrom\n",
    "    * Parametre `key` a `reverse` majú rovnaký význam, ako v metóde `list.sort()`"
   ]
  },
  {
   "cell_type": "markdown",
   "metadata": {},
   "source": [
    "----------\n",
    "## Úlohy z [CW](https://cw.fel.cvut.cz/wiki/courses/bab37zpr/tutorials/lab05)\n",
    "\n",
    "1. Napíšte funkciu `my_find(a, b)`, ktorá v reťazci `a` hľadá reťazec `b` (nepoužívajte zabudovanú funkciu `str.find()`)\n",
    "    * Pokiaľ je reťazec nájdený, funkcia vráti index jeho prvého výskytu *zľava*.\n",
    "    * Pokiaľ reťazec nenájde, vráti -1.\n",
    "    * Efektívna implementácia: [Boyer-Moore-Horspool algoritmus](https://en.wikipedia.org/wiki/Boyer%E2%80%93Moore%E2%80%93Horspool_algorithm)."
   ]
  },
  {
   "cell_type": "code",
   "execution_count": null,
   "metadata": {},
   "outputs": [],
   "source": [
    "# The Python find(a, b) function:\n",
    "a = 'mechanotherapy'\n",
    "b = 'another'"
   ]
  },
  {
   "cell_type": "code",
   "execution_count": null,
   "metadata": {},
   "outputs": [],
   "source": [
    "def my_find(a, b):\n",
    "    ##################\n",
    "    # Your code here #\n",
    "    ##################\n",
    "    \n",
    "a = 'mechanotherapy'\n",
    "b = 'another'\n",
    "\n",
    "print(my_find(a, b))\n",
    "print(my_find(a, 'that'))"
   ]
  },
  {
   "cell_type": "markdown",
   "metadata": {},
   "source": [
    "2. Napíšte funkciu `my_replace(a, b, c)`, ktorá v reťazci `a` nahradí všetky výskyty reťazca `b` reťazcom `c`. "
   ]
  },
  {
   "cell_type": "code",
   "execution_count": null,
   "metadata": {},
   "outputs": [],
   "source": [
    "# The Python find(a, b) function:\n",
    "a = 'mechanotherapy'\n",
    "b = 'mechano'\n",
    "c = 'hydro'"
   ]
  },
  {
   "cell_type": "code",
   "execution_count": null,
   "metadata": {},
   "outputs": [],
   "source": [
    "def my_replace(a, b, c):\n",
    "    ##################\n",
    "    # Your code here #\n",
    "    ##################\n",
    "    \n",
    "a = 'mechanotherapy mechanotherapy'\n",
    "b = 'mechano'\n",
    "c = 'hydro'\n",
    "\n",
    "print(my_replace(a, b, c))"
   ]
  },
  {
   "cell_type": "markdown",
   "metadata": {},
   "source": [
    "3. Napíšte program, ktorý načíta štandardný vstup a v načítanom reťazci zamení slovo `Hello` za slovo `Hi`. Pokiaľ sa vo vstupnom reťazci objaví slovo `End`, program skončí."
   ]
  },
  {
   "cell_type": "code",
   "execution_count": null,
   "metadata": {},
   "outputs": [],
   "source": [
    "##################\n",
    "# Your code here #\n",
    "##################"
   ]
  },
  {
   "cell_type": "markdown",
   "metadata": {},
   "source": [
    "--------\n",
    "## Práca so súbormi\n",
    "\n",
    "* Súbory všeobecne môžeme rozdeliť na\n",
    "    * **Binárne** $-$ postupnosť 0 a 1 \n",
    "        * Na dekódovanie je potrebné poznať *protokol*\n",
    "    * **Textové**\n",
    "        * Tiež ide o postupnosť 0 a 1, ale podlieha protokolu pre kódovanie textu (Unicode (UTF-8), ISO 646 (ASCII),...) ([Wikipedia](https://en.wikipedia.org/wiki/Character_encoding))\n",
    "        \n",
    "* **Na prípone nezáleží**\n",
    "    * Prípona súboru by v ideálnom prípade mala vyjadrovať kódovanie súboru, ale neexistuje mechanizmus, ktorý by to zaručil.\n",
    "        * Nie je problém uložiť obrázok vo formáte JPEG s ako súbor s príponou `.txt`, `.exe`,...\n",
    "    * Názov súboru vôbec *nemusí obsahovať príponu*\n",
    "        \n",
    "-----\n",
    "        \n",
    "### Otvorenie súboru\n",
    "\n",
    "* Funkcia `open()` ([Dokumentácia](https://docs.python.org/3/library/functions.html#open))\n",
    "    * Jediný povinný parameter: *cesta k súboru*\n",
    "    \n",
    "#### Ako zadať cestu k súboru?\n",
    "\n",
    "* Manuálne ako *absolútnu* cestu\n",
    "    * Windows: `C:\\Windows\\Users\\Jozko\\Documents\\subor.dat`\n",
    "    * Unix: `/home/Jozko/Documents/subor.dat`\n",
    "    \n",
    "* Manuálne ako *relatívnu* cestu (volanie zo zložky `Jozko`)\n",
    "    * Windows: `Documents\\subor.dat`\n",
    "    * Unix: `./Documents/subor.dat`\n",
    "    \n",
    "* S využitím balíčka `os`\n",
    "\n",
    ">```python\n",
    ">import os\n",
    ">\n",
    ">path2 = os.path.abspath('./Documents/subor.dat') # Call from Jozko directory\n",
    ">path1 = os.path.abspath(os.path.expanduser('~/Documents/subor.dat')) # Call from anywhere\n",
    ">```"
   ]
  },
  {
   "cell_type": "code",
   "execution_count": null,
   "metadata": {},
   "outputs": [],
   "source": []
  },
  {
   "cell_type": "markdown",
   "metadata": {},
   "source": [
    "* Prečo využívať `os`?\n",
    "    * Väčšie programy sú často (skoro vždy) rozdelené do súborov, tieto súbory sú pre prehľadnosť triedené do zložiek.\n",
    "    * Aby sa súbory navzájom „videli,“ musia poznať relatívne cesty k sebe (alebo aspoň k zložkám, v ktorých majú ostatné súbory vyhľadávať)\n",
    "    * Balíček `os` zabezpečí, že cesty k súborom budú použiteľné na akejkoľvek platforme\n",
    "    --------\n",
    "    \n",
    "    * Dôležitým parametrom funkcie `open()` je tiež *mód otvorenia* súboru $-$ čo bude po otvorení so súborom možné vykonávať.\n",
    "        * Argument má tvar textového reťazca, zloženého z príznakov:\n",
    "    \n",
    "| Príznak | Význam |\n",
    "| ----- | ---------------------------- |\n",
    "| `'r'` | Čítanie súboru (**Default**) |\n",
    "| `'w'` | Písanie do *čistého* súboru |\n",
    "| `'x'` | Písanie do čistého súboru, ale iba ak súbor s takým istým menom *neexistuje* |\n",
    "| `'a'` | Písanie na koniec existujúceho súboru. Ak súbor neexistuje, je vytvorený. |\n",
    "| `'b'` | Zápis binárneho súboru |\n",
    "| `'t'` | Zápis textového súboru (**Default**) |\n",
    "| `'+'` | Otvorenie na zápis i čítanie |\n",
    "\n",
    "> Príklad: `open('file', 'rb')`\n",
    "\n",
    "### Zatvorenie súboru\n",
    "\n",
    "* Pri zápise informácie do súboru sú bity najprv zbierané (tzv. *buffer* fáza) a neskôr ukladané (tzv. *flush* fáza).\n",
    "* Metóda `file.close()` zabezpečí, že všetky fázy zápisu sú ukončené a zahodí referenciu na súbor.\n",
    "\n",
    ">```python\n",
    ">f = open('file')\n",
    ">...\n",
    ">f.close()\n",
    ">```\n",
    "\n",
    "#### Klauzula `with`\n",
    "\n",
    "* Postará sa o korektné zatvorenie súboru (netreba volať metódu `file.close()`)\n",
    "* Robí kód prehľadnejším\n",
    "\n",
    ">```python\n",
    ">with open('file', 'w') as f:\n",
    ">    f.write('abcd')\n",
    ">```\n",
    "\n",
    "### Čítanie zo súboru\n",
    "\n",
    "* `file.read()`\n",
    "    * Čítanie *size* znakov (bitov v `b` móde) zo súboru. Default hodnota parametra `size` je -1 s významom *celý súbor*.\n",
    "* `file.readline()`\n",
    "    * Generátor, generujúci riadky súboru.\n",
    "* `file.readlines()`\n",
    "    * Vracia zoznam, ktorého prvky sú riadky súboru.\n",
    "    * Ekvivalent `list(file.readline())`\n",
    "    \n",
    "### Zápis do súboru\n",
    "\n",
    "* `file.write()`\n",
    "    * Argumentom je hodnota, ktorá má byť zapísaná.\n",
    "    \n",
    "---------\n",
    "## Dokončenie úloh z CW"
   ]
  },
  {
   "cell_type": "markdown",
   "metadata": {},
   "source": [
    "4. Napíšte funkciu, ktorá načíta pole čísel zo súboru a vráti najväčšiu hodnotu v poli a zároveň jej index. Pre pole nulovej dĺžky vráti index -1.\n",
    "\n",
    "\n",
    "* Textový súbor obsahuje čísla (float), oddelené čiarkami (znakom `,`). Medzi číslami môžu, ale nemusia byť zlomy riadkov.\n",
    "* Príklad:\n",
    "\n",
    ">```\n",
    ">,-244,166,29\n",
    ">,58,22\n",
    ">,-11,-97\n",
    ">\n",
    ">\n",
    ">,-29,-102\n",
    ">,20\n",
    ">,-162,134\n",
    ">,91\n",
    ">,187\n",
    ">```"
   ]
  },
  {
   "cell_type": "code",
   "execution_count": null,
   "metadata": {},
   "outputs": [],
   "source": [
    "# Loading data\n",
    "\n",
    "##################\n",
    "# Your code here #\n",
    "##################"
   ]
  },
  {
   "cell_type": "code",
   "execution_count": null,
   "metadata": {},
   "outputs": [],
   "source": [
    "def my_max(l):\n",
    "    ##################\n",
    "    # Your code here #\n",
    "    ##################"
   ]
  },
  {
   "cell_type": "code",
   "execution_count": null,
   "metadata": {},
   "outputs": [],
   "source": [
    "print(my_max([-8, 3]))"
   ]
  },
  {
   "cell_type": "markdown",
   "metadata": {},
   "source": [
    "5. Napíšte funkciu, ktorá v poli nájde druhý najväčší prvok a vráti jeho hodnotu a index. Pre pole dĺžky menej než 2 vráti funkcia index -1."
   ]
  },
  {
   "cell_type": "code",
   "execution_count": null,
   "metadata": {},
   "outputs": [],
   "source": [
    "def second_highest(l):\n",
    "    ##################\n",
    "    # Your code here #\n",
    "    ##################"
   ]
  },
  {
   "cell_type": "code",
   "execution_count": null,
   "metadata": {},
   "outputs": [],
   "source": [
    "a = [1,2,-8,4,0,87,4,5,8,7]\n",
    "\n",
    "print(second_highest(a))"
   ]
  },
  {
   "cell_type": "markdown",
   "metadata": {},
   "source": [
    "6. Napíšte funkciu, ktorá z textového súboru načíta maticu\n",
    "\n",
    "\n",
    "* Formát textového súboru: stĺpce oddelené medzerami, riadky novým riadkom.\n",
    "\n",
    ">```\n",
    ">4 -8 4.2 7\n",
    ">.1 7 5. 2\n",
    ">1 1 1 1\n",
    ">```"
   ]
  },
  {
   "cell_type": "code",
   "execution_count": null,
   "metadata": {},
   "outputs": [],
   "source": [
    "def load_matrix(filename):\n",
    "    ##################\n",
    "    # Your code here #\n",
    "    ##################"
   ]
  },
  {
   "cell_type": "code",
   "execution_count": null,
   "metadata": {},
   "outputs": [],
   "source": [
    "print(load_matrix(os.path.abspath('./matrix.dat')))"
   ]
  },
  {
   "cell_type": "markdown",
   "metadata": {},
   "source": [
    "-----\n",
    "<span id=\"foot01\"><sup>1</sup>Vždy mám pocit, že toto slovo, hoc nespisovné, vystihuje presnú podstatu toho, čo ním chce byť povedané. Narozdiel od jeho kolegov <em>štandardne</em>, <em>prednastavene</em>, <em>bežne</em></span>."
   ]
  }
 ],
 "metadata": {
  "kernelspec": {
   "display_name": "Python 3",
   "language": "python",
   "name": "python3"
  },
  "language_info": {
   "codemirror_mode": {
    "name": "ipython",
    "version": 3
   },
   "file_extension": ".py",
   "mimetype": "text/x-python",
   "name": "python",
   "nbconvert_exporter": "python",
   "pygments_lexer": "ipython3",
   "version": "3.8.3"
  }
 },
 "nbformat": 4,
 "nbformat_minor": 4
}
