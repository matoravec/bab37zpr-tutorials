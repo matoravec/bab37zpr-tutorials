{
 "cells": [
  {
   "cell_type": "markdown",
   "metadata": {},
   "source": [
    "# Vektorová a maticová matematika bez použitia Numpy\n",
    "\n",
    "## Inicializácia"
   ]
  },
  {
   "cell_type": "code",
   "execution_count": null,
   "metadata": {},
   "outputs": [],
   "source": [
    "import math\n",
    "import random"
   ]
  },
  {
   "cell_type": "code",
   "execution_count": null,
   "metadata": {},
   "outputs": [],
   "source": [
    "def randvector(n, start=-100, stop=100, *, dtype='f'):\n",
    "    if start > stop:\n",
    "        return\n",
    "        raise ValueError('Start value cannot be greater than stop value.')\n",
    "    if dtype == 'f':\n",
    "        return [start + random.random() * (stop - start) for i in range(n)]\n",
    "    elif dtype == 'i':\n",
    "        return [random.randint(int(start), int(stop)) for i in range(n)]\n",
    "    elif dtype == 'c':\n",
    "        return [complex(start + random.random() * (stop - start), start + random.random() * (stop - start)) for i in range(n)]\n",
    "    else:\n",
    "        return"
   ]
  },
  {
   "cell_type": "markdown",
   "metadata": {},
   "source": [
    "----------\n",
    "## Zopár konvencií\n",
    "\n",
    "V tomto notebooku budeme používať bežné matematické výrazy ako *vektor*, *matica* apod. Vzhľadom na to, že dátové typy týchto názvov v čistom *Python*e neexistujú, dohodneme sa na použití nasledujúcich prezývok:\n",
    "\n",
    "| Názov v tomto notebooku | Čo je tým myslené |\n",
    "|:----------------------- | -----------------:|\n",
    "| Vektor | Homogénny zoznam |\n",
    "| Matica | Homogénny zoznam vektorov o jednotnej dĺžke |\n",
    "\n",
    "-------------\n",
    "## Vlastné matematické operácie\n",
    "\n",
    "### 1. Násobenie vektorov\n",
    "\n",
    "#### 1.1 Skalárne\n",
    "\n",
    "Nech $a = (a_0, a_1,\\ldots,a_{N-1})^{\\top}$ a $b = (b_0, b_1,\\ldots,b_{N-1})^{\\top}$ sú vektory. Ich skalárnym súčinom (Ospravedlňujem sa za zanedbávanie všetkých matematických presností, skalárny súčin možno, samozrejme, definovať i inak než euklidovsky) nazveme výraz\n",
    "\n",
    "$$ a \\cdot b = \\sum_{i=0}^{N-1} a_ib_i.$$\n",
    "\n",
    "##### Na čo si treba pri implementácii dávať pozor\n",
    "\n",
    "* Aby vektory skutočne boli vektormi (viď tabuľka vyššie)\n",
    "* Aby mali vektory rovnaký počet prvkov"
   ]
  },
  {
   "cell_type": "code",
   "execution_count": null,
   "metadata": {},
   "outputs": [],
   "source": [
    "a = randvector(10, dtype='i')\n",
    "b = randvector(10, dtype='i')\n",
    "\n",
    "def ishomo(v):\n",
    "    \"\"\"Judges whether a list is homogeneous.\"\"\"\n",
    "    \n",
    "    ##################\n",
    "    # Your code here #\n",
    "    ##################\n",
    "\n",
    "def dot(a, b):\n",
    "    \"\"\"\n",
    "    Vector dot product.\n",
    "    \n",
    "    Args:\n",
    "        a (list): The first vector. Has to be homogeneous.\n",
    "        b (list): The second vector. Has to be homogeneous.\n",
    "        \n",
    "    Returns:\n",
    "        float or int: Dot product of `a` and `b`.\n",
    "        None: If dimensions mismatch is detected or any of the vectors is heterogeneous.\n",
    "        \n",
    "    Raises:\n",
    "        ValueError: If dimensions mismatch is detected or any of the vectors is heterogeneous.\n",
    "        \n",
    "    \"\"\"\n",
    "    ##################\n",
    "    # Your code here #\n",
    "    ##################"
   ]
  },
  {
   "cell_type": "code",
   "execution_count": null,
   "metadata": {},
   "outputs": [],
   "source": [
    "print(dot(a, b))"
   ]
  },
  {
   "cell_type": "markdown",
   "metadata": {},
   "source": [
    "#### 1.2 Vektorové\n",
    "\n",
    "* Vektorový súčin bežne definujeme pre vektory v $\\mathbb{R}^3$.\n",
    "* $ a \\times b = \\lVert a\\rVert \\lVert b\\rVert \\sin(\\angle) n_1$, kde $\\angle$ je uhol, ktorý vektory $a$ a $b$ zvierajú a $n_1$ je jednotkový normálový vektor roviny, v ktorej ležia oba činitele. Smer vektoru $n$ je daný pravidlom pravej ruky.\n",
    "* Praktický výpočet: definícia pomocou formálneho determinantu\n",
    "\n",
    "$$a\\times b=\\left\\lvert\\begin{array}{ccc}i&j&k\\\\ a_1&a_2&a_3\\\\ b_1&b_2&b_3\\end{array}\\right\\rvert$$\n",
    "\n",
    "kde $i$, $j$, $k$ je štandardná báza $\\mathbb{R}^3$.\n",
    "\n",
    "##### Na čo si treba pri implementácii dávať pozor\n",
    "\n",
    "* Homogenita vstupných polí\n",
    "* Dátový typ ich prvkov (vektorový súčin definovaný nad reálnymi číslami)\n",
    "* Počet prvkov vstupných vektorov (oba by mali byť trojprvkové)"
   ]
  },
  {
   "cell_type": "code",
   "execution_count": null,
   "metadata": {},
   "outputs": [],
   "source": [
    "def cross(a, b):\n",
    "    \"\"\"\n",
    "    Vector cross product\n",
    "    \n",
    "    Args:\n",
    "        a (list): The first vector. Has to be homogeneous.\n",
    "        b (list): The second vector. Has to be homogeneous.\n",
    "        \n",
    "    Returns:\n",
    "        list: Homogeneous list containing three values.\n",
    "        None: If an exception occurred.\n",
    "        \n",
    "    \"\"\"\n",
    "    ##################\n",
    "    # Your code here #\n",
    "    ##################"
   ]
  },
  {
   "cell_type": "code",
   "execution_count": null,
   "metadata": {},
   "outputs": [],
   "source": [
    "a = randvector(3, 0, 10, dtype='i')\n",
    "b = randvector(3, 0, 10, dtype='i')\n",
    "\n",
    "print(cross(a, b))"
   ]
  },
  {
   "cell_type": "markdown",
   "metadata": {},
   "source": [
    "----------\n",
    "### 2 Násobenie matíc\n",
    "\n",
    "#### 2.1 Po prvkoch\n",
    "\n",
    "* Rozmery všetkých matíc, vstupujúcich i vystupujúcich, musia byť rovnaké."
   ]
  },
  {
   "cell_type": "code",
   "execution_count": null,
   "metadata": {},
   "outputs": [],
   "source": [
    "def mat_prod_ew(*matrices):\n",
    "    \"\"\"\n",
    "    Element-wise matrix multiplication.\n",
    "    \n",
    "    Args:\n",
    "        matrices (list of list each): Matrices to be multiplied, each one as a distinct argument\n",
    "        \n",
    "    Returns:\n",
    "        list of list: Element-wise product of the matrices\n",
    "        \n",
    "    \"\"\"\n",
    "    ##################\n",
    "    # Your code here #\n",
    "    ##################"
   ]
  },
  {
   "cell_type": "code",
   "execution_count": null,
   "metadata": {},
   "outputs": [],
   "source": [
    "m1 = [randvector(5, 0, 10, dtype='i') for i in range(6)]\n",
    "m2 = [randvector(5, 0, 10, dtype='i') for i in range(6)]\n",
    "m3 = [randvector(5, 0, 10, dtype='i') for i in range(6)]\n",
    "mat_prod_ew(m1, m2, m3)"
   ]
  },
  {
   "cell_type": "markdown",
   "metadata": {},
   "source": [
    "#### 2.2 Maticovo\n",
    "\n",
    "Majme matice\n",
    "\n",
    "$$A = \\left[ \\begin{array}{cccc} A_{0,0}&A_{0,1}&\\cdots &A_{0,c_A-1}\\\\ A_{1,0}&A_{1,1}&\\cdots &A_{1,c_A-1}\\\\ \\vdots&\\vdots&\\ddots&\\vdots\\\\ A_{r_A-1,0}&A_{r_A-1,1}&\\cdots &A_{r_A-1,c_A-1}\\\\  \\end{array} \\right]\\hspace{2cm} B = \\left[ \\begin{array}{cccc} B_{0,0}&B_{0,1}&\\cdots &B_{0,c_B-1}\\\\ B_{1,0}&B_{1,1}&\\cdots &B_{1,c_B-1}\\\\ \\vdots&\\vdots&\\ddots&\\vdots\\\\ B_{r_B-1,0}&B_{r_B-1,1}&\\cdots &B_{r_B-1,c_B-1}\\\\  \\end{array} \\right],$$\n",
    "\n",
    "kde $r_A, c_A, r_B$ a $c_B$ sú počty riadkov a stĺpcov v maticiach $A$ a $B$.\n",
    "\n",
    "Pokiaľ platí, že $c_A = r_B$, maticový súčin $A\\cdot B$ definujeme ako maticu $P$ o rozmeroch $r_A\\times c_B$, ktorej prvky sú\n",
    "\n",
    "$$ P_{i,k} = \\sum_{j=0}^{c_A - 1} A_{i,j}B_{j,k}.$$\n",
    "\n",
    "##### Na čo si dať pri implementácii pozor \n",
    "\n",
    "* Rozmery vstupných matíc"
   ]
  },
  {
   "cell_type": "code",
   "execution_count": null,
   "metadata": {},
   "outputs": [],
   "source": [
    "def isfull(m):\n",
    "    \"\"\"Checks whether the given list of lists has the same number of elements in each of its sublists. \"\"\"\n",
    "    \n",
    "    ##################\n",
    "    # Your code here #\n",
    "    ##################"
   ]
  },
  {
   "cell_type": "code",
   "execution_count": null,
   "metadata": {},
   "outputs": [],
   "source": [
    "def mat_prod(A, B):\n",
    "    \"\"\"\n",
    "    Matrix product A . B.\n",
    "    \n",
    "    Args:\n",
    "        A (list of list): The first (left) matrix. Expected shape is i * j.\n",
    "        B (list of list): The second (right) matrix. Expected shape is j * k.\n",
    "        \n",
    "    Returns:\n",
    "        list of list: Matrix of shape i * k\n",
    "        \n",
    "    \"\"\"\n",
    "    ##################\n",
    "    # Your code here #\n",
    "    ##################"
   ]
  },
  {
   "cell_type": "code",
   "execution_count": null,
   "metadata": {},
   "outputs": [],
   "source": [
    "m1 = [randvector(3, 0, 10, dtype='i') for i in range(6)]\n",
    "m2 = [randvector(6, 0, 10, dtype='i') for i in range(3)]\n",
    "\n",
    "print(m2)\n",
    "print(m1)\n",
    "\n",
    "p = mat_prod(m2, m1)\n",
    "\n",
    "print(p)"
   ]
  },
  {
   "cell_type": "markdown",
   "metadata": {},
   "source": [
    "---------\n",
    "##### Try - except - finally\n",
    "\n",
    "* Ošetrovanie vstupov nie je nutné robiť iba pomocou podmienok (`if`)\n",
    "* Pokiaľ vieme, že program, ktorému nebudú poskytnuté korektné vstupy skončí chybou, môžeme použiť vyhodnotenie pomocou `try` - `except` - `finally`:\n",
    "\n",
    "```python\n",
    "try:\n",
    "    <Program, ktorý chceme uskutočniť>\n",
    "except <Voliteľne: konkrétny názov výnimky>:\n",
    "    <Program, ktorý bude uskutočnený v prípade chyby>\n",
    "finally: # Nemusí byť prítomné, je to voliteľný príkaz\n",
    "    <Program, ktorý bude uskutočnený v ktoromkoľvek prípade>\n",
    "```"
   ]
  },
  {
   "cell_type": "code",
   "execution_count": null,
   "metadata": {},
   "outputs": [],
   "source": [
    "def mat_prod(A, B):\n",
    "    \"\"\"\n",
    "    Matrix product A . B.\n",
    "    \n",
    "    Args:\n",
    "        A (list of list): The first (left) matrix. Expected shape is i * j.\n",
    "        B (list of list): The second (right) matrix. Expected shape is j * k.\n",
    "        \n",
    "    Returns:\n",
    "        list of list: Matrix of shape i * k\n",
    "        \n",
    "    \"\"\"\n",
    "    ##################\n",
    "    # Your code here #\n",
    "    ##################"
   ]
  },
  {
   "cell_type": "code",
   "execution_count": null,
   "metadata": {},
   "outputs": [],
   "source": [
    "m1 = [randvector(3, 0, 10, dtype='i') for i in range(6)]\n",
    "m2 = [randvector(6, 0, 10, dtype='i') for i in range(3)]\n",
    "\n",
    "print(m2)\n",
    "print(m1)\n",
    "\n",
    "p = mat_prod(m1, m1)\n",
    "\n",
    "print(p)\n",
    "\n",
    "p = mat_prod(m2, m1)\n",
    "\n",
    "print(p)"
   ]
  },
  {
   "cell_type": "markdown",
   "metadata": {},
   "source": [
    "-----\n",
    "## A na čo to možno použiť?\n",
    "\n",
    "* Cieľom bolo skôr naučiť sa používať výnimky (*Exceptions*) a ošetrovať program pred neželanými vstupmi\n",
    "* Využitie sa, samozrejme, ponúka kdekoľvek, kde je treba násobiť vektory či matice, k dispozícii sú však i omnoho efektívnejšie implementácie\n",
    "    * **Balíček itertools** ([dokumentácia](https://docs.python.org/3/library/itertools.html))\n",
    "    * **Balíček Numpy** ([dokumentácia](https://numpy.org/doc/stable/)), ktorý je dnes na desktopoch pre vektorové operácie výrazne preferovaný\n",
    "        * Niektoré jeho funkcie sú predkompilovaným kódom v C\n",
    "        * Dosahuje niekoľkonásobne vyššie rýchlosti než použitie čistého *Python*u."
   ]
  }
 ],
 "metadata": {
  "kernelspec": {
   "display_name": "Python 3",
   "language": "python",
   "name": "python3"
  },
  "language_info": {
   "codemirror_mode": {
    "name": "ipython",
    "version": 3
   },
   "file_extension": ".py",
   "mimetype": "text/x-python",
   "name": "python",
   "nbconvert_exporter": "python",
   "pygments_lexer": "ipython3",
   "version": "3.8.5"
  }
 },
 "nbformat": 4,
 "nbformat_minor": 4
}
