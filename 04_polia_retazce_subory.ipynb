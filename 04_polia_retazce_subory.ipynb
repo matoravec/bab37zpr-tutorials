{
 "cells": [
  {
   "cell_type": "markdown",
   "metadata": {},
   "source": [
    "# Práca s poľami, reťazcami a súbormi\n",
    "\n",
    "## Inicializácia"
   ]
  },
  {
   "cell_type": "code",
   "execution_count": 105,
   "metadata": {},
   "outputs": [],
   "source": [
    "import os\n",
    "import math\n",
    "import random\n",
    "from sympy import *"
   ]
  },
  {
   "cell_type": "code",
   "execution_count": 127,
   "metadata": {},
   "outputs": [],
   "source": [
    "def get_unsorted(length=100):\n",
    "    \"\"\"\n",
    "    An unsorted array of integers.\n",
    "    \n",
    "    Args:\n",
    "        length (int): Number of elements in the returned array (*default* 100).\n",
    "    \n",
    "    Returns:\n",
    "        list[int]: An array full of random integers ranging from -100 to 100 (100 not included).\n",
    "    \"\"\"\n",
    "    return [random.randrange(-100, 100) for i in range(length)]"
   ]
  },
  {
   "cell_type": "markdown",
   "metadata": {},
   "source": [
    "----------\n",
    "\n",
    "## Zoraďovanie polí\n",
    "\n",
    "- *Poľom* nazveme akúkoľvek reprezentáciu usporiadanej $n$-tice **rovnakého dátového typu**.\n",
    "    - Zoraďovací predpis, samozrejme, možno definovať i pre $n$-ticu zloženú z rôznych dátových typov. Pre názornosť ale takéto prípady vynecháme. Platia na ne rovnaké algoritmy ako na homogénne $n$-tice, teda polia v našom ponímaní.\n",
    "    - Pre jednoduchosť budeme pracovať s *reálnymi číslami*\n",
    "        - Prirodzene definované operátory `<`, `>`, `<=`, `>=`, `==`\n",
    "    \n",
    "- Cieľ: Usporiadať hodnoty v poli\n",
    "    - *Vzostupne*\n",
    "        - Zostupné usporiadanie je založené na rovnakom princípe, iba zmysel porovnaní bude opačný\n",
    "   \n",
    "--------\n",
    "### Bubble sort\n",
    "\n",
    "<img src=\"img/sorting/bubble_sort.gif\" width=800 />\n",
    "\n",
    "- Jeden beh:\n",
    "    - Okienko o dvoch susedných hodnotách $a$ a $b$\n",
    "    - Pokiaľ $a > b$, nastane zmena pozícií\n",
    "    - Posun okienka o jeden prvok vpravo\n",
    "    \n",
    "- Pri každom behu sa na správnu pozíciu dostane aspoň jedna hodnota.\n",
    "    - Pre $n$-prvkové pole teda treba $n - 1$ behov\n",
    "        - Pri každom z nich $n - 1$ porovnaní\n",
    "\n",
    "- Asymptotická zložitosť algoritmu $\\mathcal{O}(n^2)$\n",
    "- Schopnosť detekovať, že pole je už zoradené\n",
    "    - V najlepšom prípade (už zoradené pole) je zložitosť $\\mathcal{O}(n)$ (Prebehne iba 1 beh)"
   ]
  },
  {
   "cell_type": "code",
   "execution_count": 107,
   "metadata": {},
   "outputs": [
    {
     "name": "stdout",
     "output_type": "stream",
     "text": [
      "CPU times: user 5.79 ms, sys: 0 ns, total: 5.79 ms\n",
      "Wall time: 5.87 ms\n",
      "[-99, -98, -97, -97, -94, -88, -88, -86, -85, -84, -82, -80, -78, -77, -71, -70, -66, -65, -65, -64, -64, -60, -59, -59, -57, -53, -51, -48, -47, -44, -42, -39, -34, -28, -26, -24, -24, -19, -17, -16, -13, -12, -12, -11, -10, -9, -7, -5, -3, -2, -1, 2, 4, 9, 10, 14, 19, 20, 22, 25, 26, 27, 27, 28, 37, 39, 39, 39, 40, 42, 45, 45, 47, 47, 48, 51, 53, 53, 58, 60, 61, 65, 69, 72, 72, 72, 78, 79, 84, 84, 84, 84, 86, 86, 86, 87, 88, 88, 90, 97]\n"
     ]
    }
   ],
   "source": [
    "a = get_unsorted()\n",
    "        \n",
    "def bubble_sort(a):\n",
    "    n = len(a)\n",
    "    sorted = False\n",
    "    \n",
    "    while not sorted:\n",
    "        sorted = True # Initialize the sorted flag by True\n",
    "        for i in range(n - 1):\n",
    "            if a[i] > a[i + 1]: # If a bad order occurs\n",
    "                a[i], a[i + 1] = a[i + 1], a[i] # Swap the elements\n",
    "                sorted = False # Mark the array as not sorted\n",
    "                \n",
    "    return a\n",
    "\n",
    "%time bubble_sort(a)\n",
    "print(a)"
   ]
  },
  {
   "cell_type": "markdown",
   "metadata": {},
   "source": [
    "-----------\n",
    "\n",
    "### Insertion sort\n",
    "\n",
    "<img src=\"img/sorting/insertion_sort.gif\" width=800 />\n",
    "\n",
    "- Prvý prvok poľa je sám o sebe zoradeným poľom.\n",
    "- Zoberieme 2. prvok a zaradíme ho do poľa vľavo\n",
    "    - Tým získame dvojprvkové zoradené pole na začiatku celého poľa\n",
    "- Zoberieme 3. prvok a zaradíme ho do dvojprvkového zoradeného poľa\n",
    "    - Tým získame trojprvkové zoradené pole na začiatku celého poľa\n",
    "- ...a pokračujeme až po posledný prvok celkového poľa.\n",
    "\n",
    "\n",
    "- Prechádzame $n-1$ prvkov\n",
    "    - Pre prvý 1 porovnanie\n",
    "    - Pre druhý najviac 2 porovnania\n",
    "    - Pre tretí najviac 3 porovnania atď.\n",
    "- V najhoršom prípade teda celkovo $\\sum_{k=1}^{n-1}k$ porovnaní"
   ]
  },
  {
   "cell_type": "code",
   "execution_count": 108,
   "metadata": {},
   "outputs": [
    {
     "data": {
      "text/latex": [
       "$\\displaystyle \\frac{k^{2}}{2} - \\frac{k}{2}$"
      ],
      "text/plain": [
       "k**2/2 - k/2"
      ]
     },
     "execution_count": 108,
     "metadata": {},
     "output_type": "execute_result"
    }
   ],
   "source": [
    "k, n = symbols('k n')\n",
    "Sum(k, (k, 1, k - 1)).doit()"
   ]
  },
  {
   "cell_type": "markdown",
   "metadata": {},
   "source": [
    "- Asymptotická zložitosť $\\mathcal{O}(n^2)$"
   ]
  },
  {
   "cell_type": "code",
   "execution_count": 109,
   "metadata": {},
   "outputs": [
    {
     "name": "stdout",
     "output_type": "stream",
     "text": [
      "CPU times: user 45.9 ms, sys: 0 ns, total: 45.9 ms\n",
      "Wall time: 45.7 ms\n",
      "[-100, -100, -98, -95, -94, -94, -93, -93, -92, -91, -91, -91, -90, -87, -87, -81, -81, -81, -78, -77, -75, -75, -74, -73, -71, -70, -67, -63, -62, -60, -59, -58, -54, -49, -47, -47, -46, -46, -41, -39, -38, -37, -28, -27, -24, -24, -20, -17, -15, -13, -12, -10, -10, -9, -7, -4, -3, 1, 1, 1, 4, 4, 8, 12, 13, 18, 18, 19, 20, 21, 22, 27, 31, 32, 36, 38, 50, 54, 56, 59, 60, 61, 63, 64, 64, 66, 69, 75, 75, 80, 81, 82, 85, 86, 92, 93, 94, 96, 97, 99]\n"
     ]
    }
   ],
   "source": [
    "a = get_unsorted()\n",
    "\n",
    "def insertion_sort(a):\n",
    "    n = len(a)\n",
    "    for i in range(1, n):\n",
    "        a[:i + 1] = bubble_sort(a[:i] + [a[i]])\n",
    "        \n",
    "%time insertion_sort(a)\n",
    "print(a)"
   ]
  },
  {
   "cell_type": "markdown",
   "metadata": {},
   "source": [
    "-----------\n",
    "\n",
    "### Quicksort\n",
    "\n",
    "- Patrí do skupiny algoritmov typu *rozdeľ a panuj*.\n",
    "- Zaraďuje sa do triedy zložitosti $\\mathcal{O}(n\\log n)$\n",
    "- Využitie *rekurzie*\n",
    "\n",
    "> #### Rekurzia\n",
    ">\n",
    "> - Pokiaľ nie je splnená ukončovacia podmienka, funkcia **volá samú seba**."
   ]
  },
  {
   "cell_type": "code",
   "execution_count": 110,
   "metadata": {},
   "outputs": [
    {
     "name": "stdout",
     "output_type": "stream",
     "text": [
      "7 pieces left.\n",
      "6 pieces left.\n",
      "5 pieces left.\n",
      "4 pieces left.\n",
      "3 pieces left.\n",
      "2 pieces left.\n",
      "1 pieces left.\n",
      "0 pieces left.\n",
      "The cake is already eaten.\n"
     ]
    }
   ],
   "source": [
    "def eat_cake(n_pcs):\n",
    "    print('{:d} pieces left.'.format(n_pcs))\n",
    "    if n_pcs > 0:\n",
    "        eat_cake(n_pcs - 1)\n",
    "    else:\n",
    "        print('The cake is already eaten.')\n",
    "        \n",
    "eat_cake(7)"
   ]
  },
  {
   "cell_type": "markdown",
   "metadata": {},
   "source": [
    "* Algoritmus quicksort:\n",
    "\n",
    "\n",
    "> * Vyber **pivot** (napr. prvý prvok poľa)\n",
    ">\n",
    "> * Prejdi celé pole a **preusporiadaj** ho tak, aby naľavo od pivota boli iba prvky **menšie než pivot** a napravo od neho iba prvky, ktoré sú **väčšie než pivot**.\n",
    ">\n",
    "> * **Zoraď pomocou *quicksort*** pole vľavo od pivota i pole vpravo od pivota."
   ]
  },
  {
   "cell_type": "code",
   "execution_count": 111,
   "metadata": {},
   "outputs": [
    {
     "name": "stdout",
     "output_type": "stream",
     "text": [
      "CPU times: user 802 µs, sys: 148 µs, total: 950 µs\n",
      "Wall time: 1.12 ms\n",
      "[-99, -96, -95, -95, -94, -93, -90, -89, -88, -88, -87, -83, -82, -81, -78, -77, -76, -69, -69, -66, -65, -63, -61, -57, -56, -54, -51, -46, -45, -44, -44, -42, -38, -28, -24, -23, -21, -20, -20, -18, -17, -15, -14, -13, -10, -9, -2, 0, 1, 1, 3, 9, 10, 13, 14, 14, 18, 18, 25, 25, 26, 27, 33, 42, 42, 44, 47, 47, 47, 47, 47, 48, 49, 52, 53, 55, 56, 58, 59, 59, 61, 69, 69, 69, 70, 72, 74, 76, 76, 79, 86, 87, 91, 93, 94, 95, 98, 98, 99, 99]\n"
     ]
    }
   ],
   "source": [
    "def quick_sort(a):\n",
    "    pivot = a[0] # Set the first element as pivot\n",
    "    smaller = [] # List for elements smaller than pivot\n",
    "    greater = [] # List for elements greater than pivot\n",
    "        \n",
    "    for element in a[1:]: # For all the elements but pivot:\n",
    "        if element < pivot: # If an element is smaller than pivot...\n",
    "            smaller.append(element) # ...append it to the 'smaller' list\n",
    "        else: # If the element is greater instead...\n",
    "            greater.append(element) # ...append it to the 'greater' list\n",
    "        \n",
    "    smaller = quick_sort(smaller) if len(smaller) else smaller # If there is something in the 'smaller' list, call quick_sort on it\n",
    "    greater = quick_sort(greater) if len(greater) else greater # If there is something in the 'greater' list, call quick_sort on it\n",
    "    \n",
    "    return smaller + [pivot] + greater # Build a return value as a linkage of [smaller], [pivot], and [greater]\n",
    "    \n",
    "    \n",
    "a = get_unsorted()\n",
    "\n",
    "%time a = quick_sort(a)\n",
    "print(a)"
   ]
  },
  {
   "cell_type": "markdown",
   "metadata": {},
   "source": [
    "-----------\n",
    "### Bogosort"
   ]
  },
  {
   "cell_type": "code",
   "execution_count": 112,
   "metadata": {},
   "outputs": [
    {
     "name": "stdout",
     "output_type": "stream",
     "text": [
      "CPU times: user 312 µs, sys: 0 ns, total: 312 µs\n",
      "Wall time: 322 µs\n",
      "[-84, -59, 13, 28, 61]\n"
     ]
    }
   ],
   "source": [
    "def issorted(a):\n",
    "    return all([a[i] <= a[i + 1] for i in range(len(a) - 1)]) \n",
    "\n",
    "def bogo_sort(a):\n",
    "    while not issorted(a):\n",
    "        random.shuffle(a)\n",
    "    return a\n",
    "\n",
    "a = get_unsorted(5)\n",
    "%time bogo_sort(a)\n",
    "\n",
    "print(a)"
   ]
  },
  {
   "cell_type": "markdown",
   "metadata": {},
   "source": [
    "------------\n",
    "* Zoraďovacích algoritmov existuje ešte omnoho viac $-$ viď napr. [Wikipedia](https://en.wikipedia.org/wiki/Sorting_algorithm)\n",
    "\n",
    "### Zabudované zoraďovacie funkcie Pythonu\n",
    "\n",
    "* `list.sort()` ([Dokumentácia](https://docs.python.org/3/library/stdtypes.html#list.sort))$~\\to ~$ Zoradenie zoznamu *na mieste*\n",
    "\n",
    "    * Parameter `reverse` (bool): `list.sort()` defaultne[<sup>1</sup>](#foot01) zoraďuje zoznam *vzostupne*. Pokiaľ je hodnota argumentu pre parameter `reverse` nastavená na  `True`, zmysel porovnávaní bude zmenený a pole bude zoradené v *zostupnom* zmysle (*default* `False`)\n",
    "    \n",
    "    * Parameter `key` (callable): Funkcia, ktorá transformuje hodnoty zoznamu na kľúče, ktoré majú vstúpovať do porovnávaní (*default* `None`)\n",
    "        * Príklad:"
   ]
  },
  {
   "cell_type": "code",
   "execution_count": 113,
   "metadata": {},
   "outputs": [
    {
     "name": "stdout",
     "output_type": "stream",
     "text": [
      "[7, '7', 'Foo', 'Whale', [1, 2, 3], 'foo', 'seven', 'whale']\n",
      "[7, '7', [1, 2, 3], 'foo', 'Foo', 'seven', 'Whale', 'whale']\n"
     ]
    }
   ],
   "source": [
    "l = [7, 'foo', 'Whale', 'Foo', 'whale', '7', 'seven', [1, 2, 3]]\n",
    "# l.sort() # Error\n",
    "l.sort(key=str)\n",
    "print(l)\n",
    "\n",
    "l = [7, 'foo', 'Whale', 'Foo', 'whale', '7', 'seven', [1, 2, 3]]\n",
    "l.sort(key=lambda x: str(x).lower())\n",
    "print(l)"
   ]
  },
  {
   "cell_type": "markdown",
   "metadata": {},
   "source": [
    "* `sorted()` [Dokumentácia](https://docs.python.org/3/library/functions.html#sorted) $~\\to ~$ Vytvorenie zoradeného poľa z iterovateľného objektu, ktorý je jej povinným parametrom\n",
    "    * Parametre `key` a `reverse` majú rovnaký význam, ako v metóde `list.sort()`"
   ]
  },
  {
   "cell_type": "markdown",
   "metadata": {},
   "source": [
    "----------\n",
    "## Úlohy z [CW](https://cw.fel.cvut.cz/wiki/courses/bab37zpr/tutorials/lab05)\n",
    "\n",
    "1. Napíšte funkciu `my_find(a, b)`, ktorá v reťazci `a` hľadá reťazec `b` (nepoužívajte zabudovanú funkciu `str.find()`)\n",
    "    * Pokiaľ je reťazec nájdený, funkcia vráti index jeho prvého výskytu *zľava*.\n",
    "    * Pokiaľ reťazec nenájde, vráti -1.\n",
    "    * Efektívna implementácia: [Boyer-Moore-Horspool algoritmus](https://en.wikipedia.org/wiki/Boyer%E2%80%93Moore%E2%80%93Horspool_algorithm)."
   ]
  },
  {
   "cell_type": "code",
   "execution_count": 114,
   "metadata": {},
   "outputs": [
    {
     "name": "stdout",
     "output_type": "stream",
     "text": [
      "4\n",
      "-1\n"
     ]
    }
   ],
   "source": [
    "# The Python find(a, b) function:\n",
    "a = 'mechanotherapy'\n",
    "b = 'another'\n",
    "\n",
    "print(a.find(b))\n",
    "print(a.find('that'))"
   ]
  },
  {
   "cell_type": "code",
   "execution_count": 115,
   "metadata": {},
   "outputs": [
    {
     "name": "stdout",
     "output_type": "stream",
     "text": [
      "4\n",
      "-1\n"
     ]
    }
   ],
   "source": [
    "def my_find(a, b):\n",
    "    if len(a) > len(b):\n",
    "        for start in range(len(a) - len(b)):\n",
    "            if a[start:start + len(b)] in b:\n",
    "                return start # No need for break keyword\n",
    "        return -1\n",
    "    else:\n",
    "        return -1\n",
    "    \n",
    "a = 'mechanotherapy'\n",
    "b = 'another'\n",
    "\n",
    "print(my_find(a, b))\n",
    "print(my_find(a, 'that'))"
   ]
  },
  {
   "cell_type": "markdown",
   "metadata": {},
   "source": [
    "2. Napíšte funkciu `my_replace(a, b, c)`, ktorá v reťazci `a` nahradí všetky výskyty reťazca `b` reťazcom `c`. "
   ]
  },
  {
   "cell_type": "code",
   "execution_count": 116,
   "metadata": {},
   "outputs": [
    {
     "name": "stdout",
     "output_type": "stream",
     "text": [
      "hydrotherapy\n"
     ]
    }
   ],
   "source": [
    "# The Python find(a, b) function:\n",
    "a = 'mechanotherapy'\n",
    "b = 'mechano'\n",
    "c = 'hydro'\n",
    "\n",
    "print(a.replace(b, c))"
   ]
  },
  {
   "cell_type": "code",
   "execution_count": 117,
   "metadata": {},
   "outputs": [
    {
     "name": "stdout",
     "output_type": "stream",
     "text": [
      "hydrotherapy hydrotherapy\n"
     ]
    }
   ],
   "source": [
    "def my_replace(a, b, c):\n",
    "    start = 0\n",
    "    out = a\n",
    "    while not start == -1:\n",
    "        start = my_find(out, b)\n",
    "        if not start == -1:\n",
    "            out = out[:start] + c + out[start + len(b):]\n",
    "    \n",
    "    return out\n",
    "    \n",
    "a = 'mechanotherapy mechanotherapy'\n",
    "b = 'mechano'\n",
    "c = 'hydro'\n",
    "\n",
    "print(my_replace(a, b, c))\n",
    "\n",
    "# a = 'mechanotherapy'\n",
    "# b = 'physio'\n",
    "# c = 'hydro'\n",
    "\n",
    "# print(my_replace(a, b, c))"
   ]
  },
  {
   "cell_type": "markdown",
   "metadata": {},
   "source": [
    "3. Napíšte program, ktorý načíta štandardný vstup a v načítanom reťazci zamení slovo `Hello` za slovo `Hi`. Pokiaľ sa vo vstupnom reťazci objaví slovo `End`, program skončí."
   ]
  },
  {
   "cell_type": "code",
   "execution_count": 118,
   "metadata": {},
   "outputs": [
    {
     "name": "stdout",
     "output_type": "stream",
     "text": [
      "abcdHelloHellHiAbcdEndHellosHelloEndHell\n",
      "abcdHiHellHiAbcd\n"
     ]
    }
   ],
   "source": [
    "while True:\n",
    "    line = input()\n",
    "        \n",
    "    end = line.find('End') # Index of 'End'\n",
    "    \n",
    "    if end + 1: # Equivalent to (if end == -1). If there is an E\n",
    "        line = line[:end]  \n",
    "    \n",
    "    while line.find('Hello') + 1: # while there is a 'Hello' substring present\n",
    "        line = line.replace('Hello', 'Hi')\n",
    "        \n",
    "    print(line)\n",
    "    \n",
    "    if end + 1: # if there is an 'End' substring present\n",
    "        break"
   ]
  },
  {
   "cell_type": "markdown",
   "metadata": {},
   "source": [
    "--------\n",
    "## Práca so súbormi\n",
    "\n",
    "* Súbory všeobecne môžeme rozdeliť na\n",
    "    * **Binárne** $-$ postupnosť 0 a 1 \n",
    "        * Na dekódovanie je potrebné poznať *protokol*\n",
    "    * **Textové**\n",
    "        * Tiež ide o postupnosť 0 a 1, ale podlieha protokolu pre kódovanie textu (Unicode (UTF-8), ISO 646 (ASCII),...) ([Wikipedia](https://en.wikipedia.org/wiki/Character_encoding))\n",
    "        \n",
    "* **Na prípone nezáleží**\n",
    "    * Prípona súboru by v ideálnom prípade mala vyjadrovať kódovanie súboru, ale neexistuje mechanizmus, ktorý by to zaručil.\n",
    "        * Nie je problém uložiť obrázok vo formáte JPEG s ako súbor s príponou `.txt`, `.exe`,...\n",
    "    * Názov súboru vôbec *nemusí obsahovať príponu*\n",
    "        \n",
    "-----\n",
    "        \n",
    "### Otvorenie súboru\n",
    "\n",
    "* Funkcia `open()` ([Dokumentácia](https://docs.python.org/3/library/functions.html#open))\n",
    "    * Jediný povinný parameter: *cesta k súboru*\n",
    "    \n",
    "#### Ako zadať cestu k súboru?\n",
    "\n",
    "* Manuálne ako *absolútnu* cestu\n",
    "    * Windows: `C:\\Windows\\Users\\Jozko\\Documents\\subor.dat`\n",
    "    * Unix: `/home/Jozko/Documents/subor.dat`\n",
    "    \n",
    "* Manuálne ako *relatívnu* cestu (volanie zo zložky `Jozko`)\n",
    "    * Windows: `Documents\\subor.dat`\n",
    "    * Unix: `./Documents/subor.dat`\n",
    "    \n",
    "* S využitím balíčka `os`\n",
    "\n",
    ">```python\n",
    ">import os\n",
    ">\n",
    ">path2 = os.path.abspath('./Documents/subor.dat') # Call from Jozko directory\n",
    ">path1 = os.path.abspath(os.path.expanduser('~/Documents/subor.dat')) # Call from anywhere\n",
    ">```"
   ]
  },
  {
   "cell_type": "code",
   "execution_count": 119,
   "metadata": {},
   "outputs": [
    {
     "name": "stdout",
     "output_type": "stream",
     "text": [
      "/home/matej/Documents\n"
     ]
    }
   ],
   "source": [
    "path = os.path.abspath('.') # Path to this folder\n",
    "path = os.path.abspath(os.path.expanduser('~/Documents')) # Path to the Documents folder of the current user\n",
    "\n",
    "print(path)"
   ]
  },
  {
   "cell_type": "markdown",
   "metadata": {},
   "source": [
    "* Prečo využívať `os`?\n",
    "    * Väčšie programy sú často (skoro vždy) rozdelené do súborov, tieto súbory sú pre prehľadnosť triedené do zložiek.\n",
    "    * Aby sa súbory navzájom „videli,“ musia poznať relatívne cesty k sebe (alebo aspoň k zložkám, v ktorých majú ostatné súbory vyhľadávať)\n",
    "    * Balíček `os` zabezpečí, že cesty k súborom budú použiteľné na akejkoľvek platforme\n",
    "    --------\n",
    "    \n",
    "    * Dôležitým parametrom funkcie `open()` je tiež *mód otvorenia* súboru $-$ čo bude po otvorení so súborom možné vykonávať.\n",
    "        * Argument má tvar textového reťazca, zloženého z príznakov:\n",
    "    \n",
    "| Príznak | Význam |\n",
    "| ----- | ---------------------------- |\n",
    "| `'r'` | Čítanie súboru (**Default**) |\n",
    "| `'w'` | Písanie do *čistého* súboru |\n",
    "| `'x'` | Písanie do čistého súboru, ale iba ak súbor s takým istým menom *neexistuje* |\n",
    "| `'a'` | Písanie na koniec existujúceho súboru. Ak súbor neexistuje, je vytvorený. |\n",
    "| `'b'` | Zápis binárneho súboru |\n",
    "| `'t'` | Zápis textového súboru (**Default**) |\n",
    "| `'+'` | Otvorenie na zápis i čítanie |\n",
    "\n",
    "> Príklad: `open('file', 'rb')`\n",
    "\n",
    "### Zatvorenie súboru\n",
    "\n",
    "* Pri zápise informácie do súboru sú bity najprv zbierané (tzv. *buffer* fáza) a neskôr ukladané (tzv. *flush* fáza).\n",
    "* Metóda `file.close()` zabezpečí, že všetky fázy zápisu sú ukončené a zahodí referenciu na súbor.\n",
    "\n",
    ">```python\n",
    ">f = open('file')\n",
    ">...\n",
    ">f.close()\n",
    ">```\n",
    "\n",
    "#### Klauzula `with`\n",
    "\n",
    "* Postará sa o korektné zatvorenie súboru (netreba volať metódu `file.close()`)\n",
    "* Robí kód prehľadnejším\n",
    "\n",
    ">```python\n",
    ">with open('file', 'w') as f:\n",
    ">    f.write('abcd')\n",
    ">```\n",
    "\n",
    "### Čítanie zo súboru\n",
    "\n",
    "* `file.read()`\n",
    "    * Čítanie *size* znakov (bytov v `b` móde) zo súboru. Default hodnota parametra `size` je -1 s významom *celý súbor*.\n",
    "* `file.readline()`\n",
    "    * Generátor, generujúci riadky súboru.\n",
    "* `file.readlines()`\n",
    "    * Vracia zoznam, ktorého prvky sú riadky súboru.\n",
    "    * Ekvivalent `list(file.readline())`\n",
    "    \n",
    "### Zápis do súboru\n",
    "\n",
    "* `file.write()`\n",
    "    * Argumentom je hodnota, ktorá má byť zapísaná.\n",
    "    \n",
    "---------\n",
    "## Dokončenie úloh z CW"
   ]
  },
  {
   "cell_type": "markdown",
   "metadata": {},
   "source": [
    "4. Napíšte funkciu, ktorá načíta pole čísel zo súboru a vráti najväčšiu hodnotu v poli a zároveň jej index. Pre pole nulovej dĺžky vráti index -1.\n",
    "\n",
    "\n",
    "* Textový súbor obsahuje čísla (float), oddelené čiarkami (znakom `,`). Medzi číslami môžu, ale nemusia byť zlomy riadkov.\n",
    "* Príklad:\n",
    "\n",
    ">```\n",
    ">,-244,166,29\n",
    ">,58,22\n",
    ">,-11,-97\n",
    ">\n",
    ">\n",
    ">,-29,-102\n",
    ">,20\n",
    ">,-162,134\n",
    ">,91\n",
    ">,187\n",
    ">```"
   ]
  },
  {
   "cell_type": "code",
   "execution_count": 120,
   "metadata": {},
   "outputs": [],
   "source": [
    "# Loading data\n",
    "data = []\n",
    "with open(os.path.abspath('data.dat'), 'r') as f:\n",
    "    for line in f:\n",
    "        if not line.replace('\\n', ''): # If the line is empty but a newline\n",
    "            continue\n",
    "        ln = line.split(',')\n",
    "        ln = list(filter(lambda x: x != '', ln)) # Removes empty entries\n",
    "        ln = list(map(float, ln)) # Converts elements to integers\n",
    "        data.extend(ln) # Appends the line-list to the final list\n",
    "        \n",
    "        ## --- The commands above could be chained if needed: \n",
    "        # data.extend(list(map(float, list(filter(lambda x: x != '', line.split(','))))))"
   ]
  },
  {
   "cell_type": "code",
   "execution_count": 121,
   "metadata": {},
   "outputs": [],
   "source": [
    "def my_max(l):\n",
    "    if len(l):\n",
    "        val = l[0]\n",
    "        idx = 0\n",
    "        for i in range(1, len(l)):\n",
    "            if l[i] > val:\n",
    "                val, idx = l[i], i\n",
    "            \n",
    "        return val, idx\n",
    "    else:\n",
    "        return None, -1"
   ]
  },
  {
   "cell_type": "code",
   "execution_count": 122,
   "metadata": {},
   "outputs": [
    {
     "name": "stdout",
     "output_type": "stream",
     "text": [
      "(3, 1)\n"
     ]
    }
   ],
   "source": [
    "print(my_max([-8, 3]))"
   ]
  },
  {
   "cell_type": "markdown",
   "metadata": {},
   "source": [
    "5. Napíšte funkciu, ktorá v poli nájde druhý najväčší prvok a vráti jeho hodnotu a index. Pre pole dĺžky menej než 2 vráti funkcia index -1."
   ]
  },
  {
   "cell_type": "code",
   "execution_count": 123,
   "metadata": {},
   "outputs": [],
   "source": [
    "def second_highest(l):\n",
    "    if len(l) < 2:\n",
    "        return None, -1\n",
    "    else:\n",
    "        # Exploring the first two values, assigning them to highest element, second higest element, and their respective indices\n",
    "        highest, second = l[:2] if l[0] > l[1] else (l[1], l[0])\n",
    "        idx_highest, idx_second = (0, 1) if l[0] > l[1] else (1, 0)\n",
    "        \n",
    "        for i in range(2, len(l)):\n",
    "            if l[i] > highest:\n",
    "                highest, second = l[i], highest # New second is the old highest, new highest is l[i]\n",
    "                idx_highest, idx_second = i, idx_highest # Indices in the same manner\n",
    "            elif l[i] > second:\n",
    "                second, idx_second = l[i], i # Update the second\n",
    "                \n",
    "        return second, idx_second"
   ]
  },
  {
   "cell_type": "code",
   "execution_count": 124,
   "metadata": {},
   "outputs": [
    {
     "name": "stdout",
     "output_type": "stream",
     "text": [
      "(8, 8)\n"
     ]
    }
   ],
   "source": [
    "a = [1,2,-8,4,0,87,4,5,8,7]\n",
    "\n",
    "print(second_highest(a))"
   ]
  },
  {
   "cell_type": "markdown",
   "metadata": {},
   "source": [
    "6. Napíšte funkciu, ktorá z textového súboru načíta maticu\n",
    "\n",
    "\n",
    "* Formát textového súboru: stĺpce oddelené medzerami, riadky novým riadkom.\n",
    "\n",
    ">```\n",
    ">4 -8 4.2 7\n",
    ">.1 7 5. 2\n",
    ">1 1 1 1\n",
    ">```"
   ]
  },
  {
   "cell_type": "code",
   "execution_count": 125,
   "metadata": {},
   "outputs": [],
   "source": [
    "def load_matrix(filename):\n",
    "    if os.path.exists(filename): # Check for path existence\n",
    "        with open(filename) as f:\n",
    "            lines = f.readlines()\n",
    "            if all([len(line.split(' ')) - len(lines[0].split(' ')) == 0 for line in lines]): # Each line has to contain the same amount of numbers\n",
    "                matrix = [line.replace('\\n', '').split(' ') for line in lines]\n",
    "                return matrix\n",
    "            else:\n",
    "                raise Exception('Invalid matrix data.')\n",
    "    else:\n",
    "        raise FileNotFoundError('File not found.')"
   ]
  },
  {
   "cell_type": "code",
   "execution_count": 126,
   "metadata": {},
   "outputs": [
    {
     "name": "stdout",
     "output_type": "stream",
     "text": [
      "[['15', '1', '4.5', '9.', '12', '15', '1', '4.5', '9.', '12', '15', '1', '4.5', '9.', '8'], ['3', '5.2', '8', '7', '0', '-1', '9.2', '8', '7', '0', '-5', '13.2', '8', '8', '0'], ['14', '-978', '4', '1', '0', '10', '-982', '4', '9', '0', '10', '-986', '4', '1', '4'], ['15', '2', '4.7', '11.', '14', '15', '3', '4.7', '11.', '14', '15', '3', '4.7', '11.', '14'], ['15', '3', '4.7', '11.', '14', '15', '3', '4.7', '11.', '14', '15', '3', '4.7', '11.', '14'], ['15', '3', '4.7', '11.', '14', '15', '3', '4.7', '11.', '14', '15', '3', '4.7', '11.', '14'], ['15', '3', '4.7', '11.', '14', '15', '3', '4.7', '11.', '14', '15', '3', '4.7', '11.', '14'], ['15', '3', '4.7', '11.', '14', '15', '3', '4.7', '11.', '14', '15', '3', '4.7', '11.', '14'], ['15', '3', '4.7', '11.', '14', '15', '3', '4.7', '11.', '14', '15', '3', '4.7', '11.', '14'], ['15', '3', '4.8', '11.', '14', '15', '3', '4.7', '11.', '14', '15', '3', '4.7', '10.', '9'], ['4', '6.3', '10', '7', '0', '1', '9.4', '8', '9', '0', '-3', '13.4', '8', '9', '0'], ['15', '-977', '4', '2', '0', '11', '-985', '8', '10', '0', '11', '-986', '5', '1', '0'], ['4', '6.3', '10', '8', '0', '1', '9.4', '8', '9', '0', '-3', '13.4', '8', '9', '0'], ['15', '-977', '4', '2', '0', '11', '-985', '8', '10', '0', '11', '-986', '5', '1', '0'], ['4', '6.3', '10', '7', '0', '1', '9.4', '8', '9', '0', '-3', '13.4', '8', '9', '0'], ['15', '-977', '4', '2', '1', '11', '-985', '8', '10', '0', '11', '-986', '5', '1', '0'], ['4', '6.3', '10', '7', '0', '1', '9.4', '8', '9', '0', '-3', '13.4', '8', '9', '0'], ['15', '-977', '4', '2', '0', '11', '-981', '4', '10', '0', '11', '-986', '5', '0', '5'], ['0', '6.3', '10', '7', '0', '2', '9.4', '8', '9', '0', '-3', '13.4', '8', '9', '0'], ['15', '-977', '4', '2', '0', '11', '-985', '8', '10', '0', '11', '-986', '5', '1', '0'], ['4', '6.3', '10', '7', '0', '1', '9.4', '8', '9', '0', '-3', '13.4', '8', '9', '0'], ['15', '-977', '4', '2', '0', '11', '-980', '4', '10', '0', '11', '-986', '5', '5', '0'], ['0', '6.3', '9', '7', '5', '0', '6.3', '10', '7', '0', '5', '5.4', '8', '8', '0'], ['22', '-986', '4', '1', '0', '10', '-978', '4', '1', '0', '10', '-986', '4', '0', '0']]\n"
     ]
    }
   ],
   "source": [
    "print(load_matrix(os.path.abspath('./matrix.dat')))"
   ]
  },
  {
   "cell_type": "markdown",
   "metadata": {},
   "source": [
    "-----\n",
    "<span id=\"foot01\"><sup>1</sup>Vždy mám pocit, že toto slovo, hoc nespisovné, vystihuje presnú podstatu toho, čo ním chce byť povedané. Narozdiel od jeho kolegov <em>štandardne</em>, <em>prednastavene</em>, <em>bežne</em></span>."
   ]
  }
 ],
 "metadata": {
  "kernelspec": {
   "display_name": "Python 3",
   "language": "python",
   "name": "python3"
  },
  "language_info": {
   "codemirror_mode": {
    "name": "ipython",
    "version": 3
   },
   "file_extension": ".py",
   "mimetype": "text/x-python",
   "name": "python",
   "nbconvert_exporter": "python",
   "pygments_lexer": "ipython3",
   "version": "3.8.3"
  }
 },
 "nbformat": 4,
 "nbformat_minor": 4
}
