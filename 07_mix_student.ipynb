{
 "cells": [
  {
   "cell_type": "markdown",
   "metadata": {},
   "source": [
    "# Opakovanie a prehĺbenie už preberaného\n",
    "\n",
    "## Inicializácia"
   ]
  },
  {
   "cell_type": "code",
   "execution_count": null,
   "metadata": {},
   "outputs": [],
   "source": [
    "import math"
   ]
  },
  {
   "cell_type": "markdown",
   "metadata": {},
   "source": [
    "## 1 Feedback anketa\n",
    "\n",
    "* **Ďakujeme** za vyplnenie\n",
    "* Ospravedlňujem sa za angličtinu v komentároch $-$ ukázalo sa, že je s ňou problém. Prechádzam na komentáre v slovenčine. Nomenklatúru ponechám anglickú, *Python* sám je celý po anglicky.\n",
    "* Poskytli ste nám množstvo tipov na problematiku, ktorú by sme mali prebrať ešte raz. Poďme teda na to :-)\n",
    "\n",
    "### 1.1 Lambda funkcie\n",
    "\n",
    "* Niekedy je potrebné ako argument funkcie dodať **funkciu**\n",
    "* **Príklad:** Chceme zoradiť pole celých čísel $(n_0,n_1,\\dots,n_N)$ podľa veľkosti výrazu \n",
    "\n",
    "$$n_k(-1)^{n_k},~~~k\\in\\{0,1,\\dots,N\\}$$"
   ]
  },
  {
   "cell_type": "code",
   "execution_count": null,
   "metadata": {},
   "outputs": [],
   "source": [
    "a = [7, -6, -2, 0, 7, 5, 6, 1, 9, -3, -1, 500]\n",
    "\n",
    "# Možnosť #1\n",
    "\n",
    "###########\n",
    "# Váš kód #\n",
    "###########"
   ]
  },
  {
   "cell_type": "code",
   "execution_count": null,
   "metadata": {},
   "outputs": [],
   "source": [
    "a = [7, -6, -2, 0, 7, 5, 6, 1, 9, -3, -1, 500]\n",
    "\n",
    "# Možnosť #2\n",
    "\n",
    "###########\n",
    "# Váš kód #\n",
    "###########"
   ]
  },
  {
   "cell_type": "markdown",
   "metadata": {},
   "source": [
    "* **Iný príklad** na využitie `lambda` funkcie: Zoradenie poľa písmen `letters` podľa poradia ich výskytu v stringu `word`.\n",
    "    * Návratovou hodnotou funkcie môže byť aj *funkcia*"
   ]
  },
  {
   "cell_type": "code",
   "execution_count": null,
   "metadata": {},
   "outputs": [],
   "source": [
    "letters = ['a', 'c', 'm', 'n', 'p']\n",
    "\n",
    "###########\n",
    "# Váš kód #\n",
    "###########"
   ]
  },
  {
   "cell_type": "markdown",
   "metadata": {},
   "source": [
    "### 1.2 Triedy a objekty\n",
    "\n",
    "* Na popis niektorých entít nie sú štandardné dátové typy vhodné\n",
    "    * Entita **študent**:\n",
    "        * Parametre: Meno, ročník, počet zapísaných predmetov\n",
    "        * Operácie, ktoré možno na študenta aplikovať: Zápis predmetu, odstránenie predmetu, pokrok o ročník ďalej\n",
    "        * Možno implementovať bez použitia triedy, ale aj (vhodnejšie) s jej použitím:"
   ]
  },
  {
   "cell_type": "code",
   "execution_count": null,
   "metadata": {},
   "outputs": [],
   "source": [
    "###########\n",
    "# Váš kód #\n",
    "###########"
   ]
  },
  {
   "cell_type": "code",
   "execution_count": null,
   "metadata": {},
   "outputs": [],
   "source": [
    "###########\n",
    "# Váš kód #\n",
    "###########"
   ]
  },
  {
   "cell_type": "markdown",
   "metadata": {},
   "source": [
    "* Výhody použitia triedy:\n",
    "    * Metódy a atribúty sú *priamo zviazané* so všetkými objektami danej triedy\n",
    "        * Vieme sa pozrieť na všetky metódy, ktoré je na objekt možné volať (`dir(Student)`)\n",
    "    * Je možné využiť **dedičnosť**\n",
    "        * Nová trieda (tzv. *podtrieda* (subclass)) môže byť vytvorená pomocou špecifikácie *modifikácií* oproti jej materskej triede.\n",
    "    * Je možné využiť (pseudo)**zapuzdrenie**\n",
    "        * Viditeľnosť premenných a dát iba v rámci tých blokov, v ktorých je s nimi požadovaná manipulácia\n",
    "            * *Protected* premenné\n",
    "                * Začínajú podtržítkom (napr. `_var`)\n",
    "                * Očakáva sa, že budú viditeľné iba v rámci objektov triedy a objektov jej podtried\n",
    "            * *Private* premenné\n",
    "                * Začínajú aspoň dvoma podtržítkami (napr. `__var`)\n",
    "                * Očakáva sa, že budú viditeľné iba v rámci objektov danej triedy.\n",
    "        * V oboch prípadoch ide ale iba o **konvenciu**. \n",
    "            * Protected premenné sú dostupné a modifikovateľné priamo\n",
    "            * Private premenné *Python* premenováva (tzv. *name mangling*) podľa kľúča `object.__var` $\\to$ `object._Class__var`. Pomocou tohoto zmeneného mena sú potom dostupné aj zvonku.\n",
    "        * Je teda možné ich meniť, ale **slušný programátor tieto konvencie dodržiava**\n",
    "            * Nesiaha na *protected* premenné mimo definícií triedy a jej podried\n",
    "            * Nesiaha na *private* premenné ani v definíciach podtried"
   ]
  },
  {
   "cell_type": "code",
   "execution_count": null,
   "metadata": {},
   "outputs": [],
   "source": [
    "###########\n",
    "# Váš kód #\n",
    "###########"
   ]
  },
  {
   "cell_type": "markdown",
   "metadata": {},
   "source": [
    "### 1.3 Ošetrenie chýb\n",
    "\n",
    "* Máme dve základné možnosti:\n",
    "    1. Prejsť všetky možnosti výsledku a pre každú z nich zvoliť iné ukončenie programu / podprogramu\n",
    "    2. Využiť bloky `try`/`except`/`finally`"
   ]
  },
  {
   "cell_type": "code",
   "execution_count": null,
   "metadata": {},
   "outputs": [],
   "source": [
    "###########\n",
    "# Váš kód #\n",
    "###########"
   ]
  },
  {
   "cell_type": "code",
   "execution_count": null,
   "metadata": {},
   "outputs": [],
   "source": [
    "###########\n",
    "# Váš kód #\n",
    "###########"
   ]
  },
  {
   "cell_type": "code",
   "execution_count": null,
   "metadata": {},
   "outputs": [],
   "source": [
    "###########\n",
    "# Váš kód #\n",
    "###########"
   ]
  },
  {
   "cell_type": "markdown",
   "metadata": {},
   "source": [
    "### 1.4 List/set comprehensions"
   ]
  },
  {
   "cell_type": "code",
   "execution_count": null,
   "metadata": {},
   "outputs": [],
   "source": [
    "# Vytvorenie zoznamu čísel od 1 do 10 bez použitia pretypovania iterátoru range() na zoznam\n",
    "\n",
    "# a) Bez list comprehension:\n",
    "\n",
    "###########\n",
    "# Váš kód #\n",
    "###########"
   ]
  },
  {
   "cell_type": "code",
   "execution_count": null,
   "metadata": {},
   "outputs": [],
   "source": [
    "# Overenie homogenity zoznamu\n",
    "a = [7, 8, 9, 5, -6, 7, 2]\n",
    "\n",
    "# a) Bez list comprehension:\n",
    "\n",
    "###########\n",
    "# Váš kód #\n",
    "###########\n",
    "\n",
    "# b) S použitím list comprehension:\n",
    "\n",
    "###########\n",
    "# Váš kód #\n",
    "###########"
   ]
  },
  {
   "cell_type": "markdown",
   "metadata": {},
   "source": [
    "### 1.5 Rozdiel medzi *yield* a *return*\n",
    "\n",
    "* Bežná **funkcia** je ukončená príkazom `return`.\n",
    "    * Vráti celú svoju návratovú hodnotu naraz\n",
    "    * Návratová hodnota je (s ohľadom na parametrizáciu) konštantná."
   ]
  },
  {
   "cell_type": "code",
   "execution_count": null,
   "metadata": {},
   "outputs": [],
   "source": [
    "def f(l):\n",
    "    \"\"\"Squares the input list elementwise. \"\"\"\n",
    "    ###########\n",
    "    # Váš kód #\n",
    "    ###########\n",
    "\n",
    "f([5, 6, 7])"
   ]
  },
  {
   "cell_type": "markdown",
   "metadata": {},
   "source": [
    "* **Generátor** vráti v závislosti na *poradovom čísle volania* vždy špecifickú hodnotu.\n",
    "    * Každé volanie je ukončené jedným príkazom `yield`\n",
    "        * Hodnoty dostávame postupne pomocou volania funkcie `next()` na inštanciu generátoru\n",
    "    * Je rozdiel medzi **predpisom** (definíciou) a **inštanciou**\n",
    "        * Inštancia generátoru si musí zapamätať *stav* na konci posledného volania funkcie `next()`\n",
    "        \n",
    "    * Výhoda oproti funkcii: \n",
    "        * Pokiaľ chceme napr. pracovať iba s ďalším prvkom poľa, nemusíme ukladať celé pole (šetrenie pamäte)\n",
    "        * Pre niekoho prehľadnosť"
   ]
  },
  {
   "cell_type": "code",
   "execution_count": null,
   "metadata": {},
   "outputs": [],
   "source": [
    "def g(l):\n",
    "    \"\"\"Yields squares of the input list elements. \"\"\"\n",
    "    ###########\n",
    "    # Váš kód #\n",
    "    ###########"
   ]
  },
  {
   "cell_type": "markdown",
   "metadata": {},
   "source": [
    "### 1.6 Viacrozmerné zoznamy, matice\n",
    "\n",
    "* V základnom *Pythone* neexistuje špecifický dátový typ pre matice.\n",
    "* Matice je preto nutné nejako *reprezentovať*\n",
    "\n",
    "1. Reprezentácia matice ako zoznam jej prvkov\n",
    "    * Je potrebné si pamätať počet jej prvkov (resp. rozmery)\n",
    "\n",
    "![abcd](img/matrix_by_elements.gif)"
   ]
  },
  {
   "cell_type": "code",
   "execution_count": null,
   "metadata": {},
   "outputs": [],
   "source": [
    "matrix = [1, 2, 3, 4, 5, 6, 7, 8, 9, 10, 11, 12, 13, 14, 15, 16]\n",
    "n_rows = 4\n",
    "n_columns = 4\n",
    "\n",
    "# Výpis celej matice:\n",
    "\n",
    "###########\n",
    "# Váš kód #\n",
    "###########\n",
    "            \n",
    "# Prvok na \"indexe\" (3, 2):\n",
    "\n",
    "###########\n",
    "# Váš kód #\n",
    "###########"
   ]
  },
  {
   "cell_type": "markdown",
   "metadata": {},
   "source": [
    "2. Reprezentícia matice ako zoznam jej riadkov\n",
    "    * Každý riadok je zoznamom\n",
    "    * Prvky celkového zoznamu budú tieto riadky $-$ *zoznamy*\n",
    "    \n",
    "![abcd](img/matrix_by_rows.gif)"
   ]
  },
  {
   "cell_type": "code",
   "execution_count": null,
   "metadata": {},
   "outputs": [],
   "source": [
    "matrix = [[1, 2, 3, 4], [5, 6, 7, 8], [9, 10, 11, 12], [13, 14, 15, 16]]\n",
    "\n",
    "###########\n",
    "# Váš kód #\n",
    "###########\n",
    "\n",
    "# Prvok na \"indexe\" (3, 2):\n",
    "\n",
    "###########\n",
    "# Váš kód #\n",
    "###########"
   ]
  },
  {
   "cell_type": "markdown",
   "metadata": {},
   "source": [
    "## Úlohy z [CW](https://cw.fel.cvut.cz/wiki/courses/bab37zpr/tutorials/lab08)\n",
    "\n",
    "0. Implementujte triedu, ktorá bude realizovať zásobník. Dáta budú vnútorne uložené v zozname, metódami triedy budú `push`, `pop`, `is_empty`."
   ]
  },
  {
   "cell_type": "code",
   "execution_count": null,
   "metadata": {},
   "outputs": [],
   "source": [
    "###########\n",
    "# Váš kód #\n",
    "###########"
   ]
  },
  {
   "cell_type": "markdown",
   "metadata": {},
   "source": [
    "1. Dekódujte správu zo štandardného vstupu pomocou zásobníku:\n",
    "    * Písmeno znamená *push* znaku (toho písmena) na zásobník\n",
    "    * Hviezdička znamená *pop* znaku zo zásobníku na výstup\n",
    "    * Medzery sa ignorujú\n",
    "    \n",
    "* Dekódujte vstup `TE*A*QYS***SEU****NI*O**`"
   ]
  },
  {
   "cell_type": "code",
   "execution_count": null,
   "metadata": {},
   "outputs": [],
   "source": [
    "###########\n",
    "# Váš kód #\n",
    "###########"
   ]
  },
  {
   "cell_type": "markdown",
   "metadata": {},
   "source": [
    "2. Napíšte program, ktorý s využitím zásobníku zvaliduje výraz, obsahujúci párové zátvorky `()`."
   ]
  },
  {
   "cell_type": "code",
   "execution_count": null,
   "metadata": {},
   "outputs": [],
   "source": [
    "###########\n",
    "# Váš kód #\n",
    "###########"
   ]
  },
  {
   "cell_type": "markdown",
   "metadata": {},
   "source": [
    "2b. Rozšírte program tak, aby vyhodnotil správnosť uzátvorkovania vo výraze so zátvorkami `()`, `[]`, `{}`."
   ]
  },
  {
   "cell_type": "code",
   "execution_count": null,
   "metadata": {},
   "outputs": [],
   "source": [
    "###########\n",
    "# Váš kód #\n",
    "###########"
   ]
  },
  {
   "cell_type": "code",
   "execution_count": null,
   "metadata": {},
   "outputs": [],
   "source": []
  }
 ],
 "metadata": {
  "kernelspec": {
   "display_name": "Python 3",
   "language": "python",
   "name": "python3"
  },
  "language_info": {
   "codemirror_mode": {
    "name": "ipython",
    "version": 3
   },
   "file_extension": ".py",
   "mimetype": "text/x-python",
   "name": "python",
   "nbconvert_exporter": "python",
   "pygments_lexer": "ipython3",
   "version": "3.8.5"
  }
 },
 "nbformat": 4,
 "nbformat_minor": 4
}
