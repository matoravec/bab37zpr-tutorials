{
 "cells": [
  {
   "cell_type": "markdown",
   "metadata": {},
   "source": [
    "# Numpy, Matplotlib\n",
    "\n",
    "## Inicializácia"
   ]
  },
  {
   "cell_type": "code",
   "execution_count": null,
   "metadata": {},
   "outputs": [],
   "source": [
    "import numpy as np\n",
    "import scipy\n",
    "import matplotlib.pyplot as plt\n",
    "import pandas as pd\n",
    "%matplotlib notebook"
   ]
  },
  {
   "cell_type": "markdown",
   "metadata": {},
   "source": [
    "<img src=\"./img/numpy.png\" alt=\"Numpy logo\" style=\"width: 250px;\"/>\n",
    "\n",
    "- Určené na **praktické**, **rýchle** a **pohodlné** riešenie matematických problémov\n",
    "- Domovská stránka projektu: https://numpy.org/\n",
    "- Veľmi široké využitie vo svete technických výpočtov\n",
    "- V mnohých prípadoch ľudia vedia pracovať s Numpy, no čistý Python je im cudzí\n",
    "    - V Numpy je prístup k riešeniu problémov skutočne rozdielny\n",
    "        - Vektorizácia\n",
    "        - `numpy.ndarray`\n",
    "        - Typovosť polí\n",
    "\n",
    "\n",
    "### Numpy.ndarray\n",
    "\n",
    "- Základný dátový typ v Numpy\n",
    "- Všetky jeho prvky majú **rovnaký typ**\n",
    "- V každom rozmere musí mať každý prvok rovnakú dimenzionalitu"
   ]
  },
  {
   "cell_type": "code",
   "execution_count": null,
   "metadata": {},
   "outputs": [],
   "source": []
  },
  {
   "cell_type": "code",
   "execution_count": null,
   "metadata": {},
   "outputs": [],
   "source": []
  },
  {
   "cell_type": "markdown",
   "metadata": {},
   "source": [
    "### Zmeny tvaru poľa\n",
    "\n",
    "- Univerzálna metóda `reshape()`"
   ]
  },
  {
   "cell_type": "code",
   "execution_count": null,
   "metadata": {},
   "outputs": [],
   "source": []
  },
  {
   "cell_type": "markdown",
   "metadata": {},
   "source": [
    "- Narovnanie poľa do jednej dimenzie: `ravel()` (vracia kópiu) a `flatten()` (vracia odkaz)\n",
    "    - Viac info: https://stackoverflow.com/questions/28930465/what-is-the-difference-between-flatten-and-ravel-functions-in-numpy"
   ]
  },
  {
   "cell_type": "code",
   "execution_count": null,
   "metadata": {},
   "outputs": [],
   "source": []
  },
  {
   "cell_type": "markdown",
   "metadata": {},
   "source": [
    "### Indexovanie\n",
    "\n",
    "- `ndarray` pozná svoju dimenzionalitu\n",
    "    - Je preto možné použiť viacrozmerný index\n",
    "- Čistý Python: Viacrozmerné pole je *pole polí (polí (...)*\n",
    "- Numpy: Viacrozmerné pole je *viacrozmerné pole*"
   ]
  },
  {
   "cell_type": "code",
   "execution_count": null,
   "metadata": {},
   "outputs": [],
   "source": []
  },
  {
   "cell_type": "markdown",
   "metadata": {},
   "source": [
    "### Vektorizácia\n",
    "\n",
    "- V Numpy s poliami pracujeme ako so samostatnými matematickými objektami\n",
    "    - Nie ako so skupinou rôznych prvkov\n",
    "    - Jednorozmerné pole $\\to$ vektor\n",
    "    - Dvojrozmerné pole $\\to$ matica\n",
    "    \n",
    "- Numpy používa **univerzálne funkcie** (`ufunc`s) a **broadcasting**\n",
    "    - Jednoducho povedané: Pokiaľ daná operácia má matematický zmysel, Numpy urobí všetko preto, aby bola vykonaná\n",
    "    - Príklad: sčítanie"
   ]
  },
  {
   "cell_type": "code",
   "execution_count": null,
   "metadata": {},
   "outputs": [],
   "source": []
  },
  {
   "cell_type": "markdown",
   "metadata": {},
   "source": [
    "<img src=\"./img/matplotlib.png\" alt=\"Numpy logo\" style=\"width: 250px;\"/>\n",
    "\n",
    "- Najpoužívanejší nástroj na vizualizáciu dát\n",
    "- Práca s objektami `figure`, `axes`, `line`,...\n",
    "- Podrobnejší popis: Úvod na prednáške, detaily https://matplotlib.org/\n",
    "- Všetko snáď lepšie pochopíme na príkladoch :-)\n",
    "\n",
    "## Príklady (Numpy + matplotlib dokopy)\n",
    "\n",
    "### 1. Tlmený harmonický oscilátor\n",
    "\n",
    "Vykreslite časovú zmenu amplitúdy tlmeného harmonického oscilátora s dekrementom útlmu $\\lambda = 1$ a nulovou počiatočnou fázou. Za riešenie periódy kmitov považujte $T=1~\\mathrm{s}$. Maximálna amplitúda je $A=1$."
   ]
  },
  {
   "cell_type": "code",
   "execution_count": null,
   "metadata": {},
   "outputs": [],
   "source": []
  },
  {
   "cell_type": "markdown",
   "metadata": {},
   "source": [
    "### Mandelbrotova množina\n",
    "\n",
    "* Je to množina komplexných čísel $z$, pre ktoré funkcia $f(z) = z^2 + c$ pri nekonečnej iterácii počínajúcej v $z=0+0\\jmath$ *konverguje*.\n",
    "    * Iterácia funkcie $f$: $f(f(f(\\cdots f(f(z))\\cdots )))$\n",
    "* Možno ju zobraziť ako obrázok\n",
    "    * Istý výsek komplexnej roviny rozdelíme\n",
    "    * V každom bode delenia vyhodnotíme, či je preň podmienka príslušnosti do Mandelbrotovej množiny splnená\n",
    "    * Pokiaľ áno, vykreslíme príslušný pixel (alebo množinu pixelov) farbou $F_1$, pokiaľ do Mandelbrotovej množiny nepatrí, vykreslíme ho (ju) farbou $F_2$\n",
    "* Vizualizácia sa dá ale urobiť ešte krajšie (i keď z hľadiska vyhodnotenia príslušnosti čísel k Mandelbrotovej množine menej informatívne):\n",
    "    * Zvolíme si hodnotu prahu $t$ a hodnotu maximálneho počtu iterácií $m$.\n",
    "    * Pokiaľ po $n$ iteráciach dosiahne hodnota iterovanej funkcie v čísle $z$ hodnotu $t$, prehlásime číslo $z$ za nemandelbrotovské. Priradíme mu však hodnotu $n$\n",
    "    * Pokiaľ v bode $z$ ani po $m$ iteráciach nedosiahne iterovaná funkcia hodnotu $t$, priradíme číslu $z$ hodnotu $n=0$.\n",
    "    * Maticu čísel $\\{n\\}$ pre skúmaný výsek komplexnej roviny namapujeme na farebnú škálu a vykreslíme."
   ]
  },
  {
   "cell_type": "code",
   "execution_count": null,
   "metadata": {},
   "outputs": [],
   "source": []
  },
  {
   "cell_type": "markdown",
   "metadata": {},
   "source": [
    "### Manipulácia s dátami: vekové rozloženie pozitívnych testov na COVID-19 podľa krajov\n",
    "\n",
    "* Úlohou je vykresliť tabuľku deviatich stĺpcových grafov\n",
    "    * Každý z grafov bude reprezentovať jeden kraj z množiny\n",
    "    \n",
    "    | Názov kraja | NUTS 3 identifikátor |\n",
    "    |:-----| ---- |\n",
    "    | Hlavní město Praha | CZ010 |\n",
    "    | Karlovarský kraj | CZ041 |\n",
    "    |Ústecký kraj|CZ042|\n",
    "    |Pardubický kraj|CZ053|\n",
    "    |Zlínský kraj|CZ072|\n",
    "    |Plzeňský kraj|CZ032|\n",
    "    |Středočeský kraj|CZ020|\n",
    "    |Liberecký kraj|CZ051|\n",
    "    |Kraj Vysočina|CZ063|\n",
    "    \n",
    "    * Každý z grafov bude *histogramom* s 5 binmi, zobrazujúcim rozloženie pozitívnych prípadov v danom kraji podľa *veku*\n",
    "    * Dátový súbor sa nazýva `osoby.csv`"
   ]
  },
  {
   "cell_type": "code",
   "execution_count": null,
   "metadata": {},
   "outputs": [],
   "source": []
  },
  {
   "cell_type": "code",
   "execution_count": null,
   "metadata": {},
   "outputs": [],
   "source": []
  },
  {
   "cell_type": "code",
   "execution_count": null,
   "metadata": {},
   "outputs": [],
   "source": []
  }
 ],
 "metadata": {
  "kernelspec": {
   "display_name": "Python 3",
   "language": "python",
   "name": "python3"
  },
  "language_info": {
   "codemirror_mode": {
    "name": "ipython",
    "version": 3
   },
   "file_extension": ".py",
   "mimetype": "text/x-python",
   "name": "python",
   "nbconvert_exporter": "python",
   "pygments_lexer": "ipython3",
   "version": "3.8.5"
  }
 },
 "nbformat": 4,
 "nbformat_minor": 4
}
