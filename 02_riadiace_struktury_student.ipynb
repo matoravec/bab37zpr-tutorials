{
 "cells": [
  {
   "cell_type": "markdown",
   "metadata": {},
   "source": [
    "# Riadiace štruktúry\n",
    "\n",
    "------------\n",
    "\n",
    "## Inicializácia\n",
    "\n",
    "----------\n",
    "\n",
    "> Pre správne zobrazenie interaktívnych grafov a symbolického výpočtu v tomto notebooku je nutné mať nainštalované balíčky `matplotlib`, `numpy`, `ipympl`, `ipywidgets` a `sympy` (Inštalácia pomocou *pip*) a tiež povoliť *ipywidgets* doplnok v *Jupyter notebook*:\n",
    "> ```\n",
    "> jupyter nbextension enable --py widgetsnbextension\n",
    "> ```"
   ]
  },
  {
   "cell_type": "code",
   "execution_count": null,
   "metadata": {},
   "outputs": [],
   "source": [
    "import math\n",
    "import ipywidgets as widgets\n",
    "import numpy as np\n",
    "import matplotlib.pyplot as plt\n",
    "from sympy import *\n",
    "%matplotlib inline"
   ]
  },
  {
   "cell_type": "markdown",
   "metadata": {},
   "source": [
    "## Názorná ukážka, o čo dnes pôjde\n",
    "\n",
    "-----------\n",
    "\n",
    "- *Príklad*: výpočet plochy pod grafom funkcie $y=2\\sin(5x) - \\frac{x}{6}$ na intervale $\\langle0,\\,2\\pi\\rangle$\n",
    "\n",
    "![Čo chceme vypočítať](img/y_fill.png)"
   ]
  },
  {
   "cell_type": "code",
   "execution_count": null,
   "metadata": {},
   "outputs": [],
   "source": [
    "x = np.linspace(0, 2 * np.pi, num=200)\n",
    "y = 2 * np.sin(5 * x) - x / 6\n",
    "\n",
    "def update(n=10):\n",
    "    fig, ax = plt.subplots(figsize=(13, 6))\n",
    "    ax.set_xlabel('x')\n",
    "    ax.set_ylabel('y')\n",
    "    \n",
    "    x_stairs = np.linspace(0, 2 * np.pi, num=n)\n",
    "    y_stairs = 2 * np.sin(5 * x_stairs) - x_stairs / 6\n",
    "    \n",
    "    x_step = x_stairs[1] - x_stairs[0]\n",
    "    area = np.sum(y_stairs * x_step)\n",
    "    \n",
    "    ax.plot(x, y, lw=3, c='r')\n",
    "    ax.fill_between(x_stairs, y_stairs, step='pre', alpha=.5)\n",
    "    ax.plot(x_stairs, y_stairs, ds='steps', lw=3)\n",
    "    \n",
    "    \n",
    "    plt.title('Počet krokov: {:d}{}Vypočítaná plocha: {:.5f}'.format(n - 1, 10 * ' ', area), fontdict={'fontsize': 25})\n",
    "\n",
    "    fig.canvas.draw()\n",
    "\n",
    "widgets.interact(update, n=(2, 200, 6));"
   ]
  },
  {
   "cell_type": "markdown",
   "metadata": {},
   "source": [
    "### Výpočet\n",
    "\n",
    "- Presný: [Riemannov integrál](https://en.wikipedia.org/wiki/Riemann_integral)"
   ]
  },
  {
   "cell_type": "code",
   "execution_count": null,
   "metadata": {},
   "outputs": [],
   "source": []
  },
  {
   "cell_type": "code",
   "execution_count": null,
   "metadata": {},
   "outputs": [],
   "source": []
  },
  {
   "cell_type": "markdown",
   "metadata": {},
   "source": [
    "- Odhad: Integrálny súčet na konečnom delení intervalu\n",
    "\n",
    "#### Riešenie č. 1\n",
    "\n",
    "- Pripomeňme si predpis funkcie: $y=2\\sin(5x) - \\frac{x}{6}$ a interval, na ktorom plochu počítame $\\langle0,\\,2\\pi\\rangle$"
   ]
  },
  {
   "cell_type": "code",
   "execution_count": null,
   "metadata": {},
   "outputs": [],
   "source": []
  },
  {
   "cell_type": "markdown",
   "metadata": {},
   "source": [
    "- Aj pre veľmi hrubé delenie intervalu je toto riešenie *veľmi zdĺhavé*\n",
    "    - Prepisovanie veľmi podobných častí kódu niekoľkokrát za sebou\n",
    "    \n",
    "#### Riešenie č. 2"
   ]
  },
  {
   "cell_type": "code",
   "execution_count": null,
   "metadata": {},
   "outputs": [],
   "source": []
  },
  {
   "cell_type": "markdown",
   "metadata": {},
   "source": [
    "- Použitie rôznych **typov** premenných na rôzne účely\n",
    "- Použitie **cyklov** na opakovanie podobných operácií mnohokrát\n",
    "- Použitie **funkcií** a **generátorov** na zapuzdrenie podprogramov\n",
    "- **Parametrizácia** a **modularita** celého programu"
   ]
  },
  {
   "cell_type": "markdown",
   "metadata": {},
   "source": [
    "## Vetvenie programu\n",
    "\n",
    "-----------\n",
    "\n",
    "- Viacero možností prechodu programom v závislosti na určitých *podmienkach*.\n",
    "\n",
    "### Podmienka *if*\n",
    "\n",
    "```python\n",
    "if logický_výraz:\n",
    "    <príkaz>\n",
    "    <príkaz>\n",
    "    ...\n",
    "    <príkaz>\n",
    "```\n",
    "\n",
    "#### Príklad: Výpis, či je v premennej _a_ uložené celé číslo"
   ]
  },
  {
   "cell_type": "code",
   "execution_count": null,
   "metadata": {},
   "outputs": [],
   "source": []
  },
  {
   "cell_type": "markdown",
   "metadata": {},
   "source": [
    "### Podmienka *if* $-$ *else*\n",
    "\n",
    "```python\n",
    "if logický_výraz:\n",
    "    <príkaz>\n",
    "    <príkaz>\n",
    "    ...\n",
    "    <príkaz>\n",
    "else:\n",
    "    <príkaz>\n",
    "    <príkaz>\n",
    "    ...\n",
    "    <príkaz>\n",
    "```\n",
    "\n",
    "#### Príklad: Porovnanie dvoch celých čísel"
   ]
  },
  {
   "cell_type": "code",
   "execution_count": null,
   "metadata": {},
   "outputs": [],
   "source": []
  },
  {
   "cell_type": "markdown",
   "metadata": {},
   "source": [
    "### Podmienka *if* $-$ *elif* $-$ *else*\n",
    "\n",
    "```python\n",
    "if logický_výraz:\n",
    "    <príkaz>\n",
    "    <príkaz>\n",
    "    ...\n",
    "    <príkaz>\n",
    "elif logický_výraz:\n",
    "    <príkaz>\n",
    "    <príkaz>\n",
    "    ...\n",
    "    <príkaz>\n",
    "...\n",
    "else:\n",
    "    <príkaz>\n",
    "    <príkaz>\n",
    "    ...\n",
    "    <príkaz>\n",
    "```\n",
    "\n",
    "#### Príklad: Porovnanie dvoch celých čísel"
   ]
  },
  {
   "cell_type": "code",
   "execution_count": null,
   "metadata": {},
   "outputs": [],
   "source": []
  },
  {
   "cell_type": "markdown",
   "metadata": {},
   "source": [
    "> **Úloha 1**: (2 min)\n",
    "> - Máme k dispozícii program, ktorý si od užívateľa vypýta celé čislo. Dopíšte do neho výpis reťazca `'Even'` v prípade, že ide o párne (sudé) číslo a výpis reťazca `'Odd'` v prípade, že ide o nepárne (liché) číslo."
   ]
  },
  {
   "cell_type": "code",
   "execution_count": null,
   "metadata": {},
   "outputs": [],
   "source": [
    "n = int(input('Enter an integer: '))\n",
    "\n",
    "##################\n",
    "# Your code here #\n",
    "##################"
   ]
  },
  {
   "cell_type": "markdown",
   "metadata": {},
   "source": [
    "> **Riešenie:**"
   ]
  },
  {
   "cell_type": "code",
   "execution_count": null,
   "metadata": {
    "scrolled": true
   },
   "outputs": [],
   "source": []
  },
  {
   "cell_type": "markdown",
   "metadata": {},
   "source": [
    "## Cykly\n",
    "\n",
    "-----------------\n",
    "\n",
    "- Opakovanie podprogramu viackrát\n",
    "\n",
    "### Cyklus *for*\n",
    "\n",
    "- Pre vopred známy počet opakovaní\n",
    "\n",
    "```python\n",
    "for <premenná> in <iterovateľný_objekt>:\n",
    "    <príkaz>\n",
    "    <príkaz>\n",
    "    ...\n",
    "    <príkaz>\n",
    "```\n",
    "\n",
    "#### Príklad: Výpis 7 trpaslíkov"
   ]
  },
  {
   "cell_type": "code",
   "execution_count": null,
   "metadata": {},
   "outputs": [],
   "source": []
  },
  {
   "cell_type": "markdown",
   "metadata": {},
   "source": [
    "### Cyklus *while*\n",
    "\n",
    "- Typicky pre vopred neznámy alebo nekonečný počet opakovaní\n",
    "\n",
    "```python\n",
    "while <logický_výraz_vyhodnocovaný_v_každom_cykle>:\n",
    "    <príkaz>\n",
    "    <príkaz>\n",
    "    ...\n",
    "    <príkaz>\n",
    "```\n",
    "\n",
    "- Možnosť vystúpiť z cyklu: príkaz `break`.\n",
    "\n",
    "#### Príklad: Detekcia hrušky medzi jablkami"
   ]
  },
  {
   "cell_type": "code",
   "execution_count": null,
   "metadata": {},
   "outputs": [],
   "source": []
  },
  {
   "cell_type": "markdown",
   "metadata": {},
   "source": [
    "## Príklady z [CW](https://cw.fel.cvut.cz/wiki/courses/bab37zpr/tutorials/lab02)\n",
    "\n",
    "-----------------\n",
    "\n",
    "1. Vypíšte čísla od 1 do 10 s využitím cyklu `for`"
   ]
  },
  {
   "cell_type": "code",
   "execution_count": null,
   "metadata": {},
   "outputs": [],
   "source": []
  },
  {
   "cell_type": "markdown",
   "metadata": {},
   "source": [
    "2. Vypíšte čísla od 1 do 10 s využitím cyklu `while`"
   ]
  },
  {
   "cell_type": "code",
   "execution_count": null,
   "metadata": {},
   "outputs": [],
   "source": []
  },
  {
   "cell_type": "markdown",
   "metadata": {},
   "source": [
    "3. Vypíšte všetky párne čísla od 1 do $n$, kde $n$ zadá užívateľ"
   ]
  },
  {
   "cell_type": "code",
   "execution_count": null,
   "metadata": {},
   "outputs": [],
   "source": []
  },
  {
   "cell_type": "markdown",
   "metadata": {},
   "source": [
    "4. Vypíšte súčin všetkých čísel z predchádzajúceho kroku"
   ]
  },
  {
   "cell_type": "code",
   "execution_count": null,
   "metadata": {},
   "outputs": [],
   "source": []
  },
  {
   "cell_type": "markdown",
   "metadata": {},
   "source": [
    "5. Vypíšte rad $n$ čísel v tvare $1, -1, 1, -1, \\ldots$"
   ]
  },
  {
   "cell_type": "code",
   "execution_count": null,
   "metadata": {},
   "outputs": [],
   "source": []
  },
  {
   "cell_type": "markdown",
   "metadata": {},
   "source": [
    "6. Napíšte program, ktorý umožní výpočet Ludolfovho čísla ako súčtu Leibnizovho radu $$\\pi=4\\sum^{\\infty}_{k=0}\\frac{(-1)^k}{2k+1}$$"
   ]
  },
  {
   "cell_type": "code",
   "execution_count": null,
   "metadata": {},
   "outputs": [],
   "source": []
  },
  {
   "cell_type": "markdown",
   "metadata": {},
   "source": [
    "## Funkcie\n",
    "\n",
    "------------\n",
    "\n",
    "<img src=\"img/funkcie_nacrt/funkcie_nacrt.png\" width=\"600\"/>\n",
    "\n",
    "- **Opakované použitie** časti kódu\n",
    "\n",
    "```python\n",
    "def <názov_funkcie>(<parametre_funkcie>):\n",
    "    <príkaz>\n",
    "    <príkaz>\n",
    "    ...\n",
    "    <príkaz>\n",
    "    \n",
    "    return <výstup>\n",
    "```\n",
    "#### Príklad: Funkcia na výpočet obsahu trojuholníka z dĺžky jeho strán"
   ]
  },
  {
   "cell_type": "code",
   "execution_count": null,
   "metadata": {},
   "outputs": [],
   "source": []
  },
  {
   "cell_type": "code",
   "execution_count": null,
   "metadata": {},
   "outputs": [],
   "source": []
  },
  {
   "cell_type": "markdown",
   "metadata": {},
   "source": [
    "### Default hodnoty parametrov\n",
    "\n",
    "- Priradenie default hodnoty pri definícii funkcie\n",
    "- Možnosť volať funkciu **bez explicitného zadania hodnôt parametrov**"
   ]
  },
  {
   "cell_type": "code",
   "execution_count": null,
   "metadata": {},
   "outputs": [],
   "source": []
  },
  {
   "cell_type": "markdown",
   "metadata": {},
   "source": [
    "- Vytvorenie „nadštandardnej funkcionality“"
   ]
  },
  {
   "cell_type": "code",
   "execution_count": null,
   "metadata": {},
   "outputs": [],
   "source": []
  },
  {
   "cell_type": "markdown",
   "metadata": {},
   "source": [
    "### Malé terminologické okienko\n",
    "\n",
    "- **Parameter** je *premenná*, s ktorou pracuje *definícia* funkcie\n",
    "- **Argument** je *hodnota premennej*, ktorú inštancia funkcie dostáva pri jej volaní\n",
    "\n",
    "### *Argumenty* vs. *keyword argumenty*\n",
    "\n",
    "- Funkcie je možné volať aj s explicitným vyjadrením názvov ich parametrov"
   ]
  },
  {
   "cell_type": "code",
   "execution_count": null,
   "metadata": {},
   "outputs": [],
   "source": []
  },
  {
   "cell_type": "markdown",
   "metadata": {},
   "source": [
    "- Výhody:\n",
    "    - Možnosť *meniť poradie* parametrov\n",
    "    - Pri funkciách s veľkým množstvom parametrov *prehľadnosť*\n",
    "    \n",
    "### Funkcie s premenným množstvom argumentov\n",
    "\n",
    "```python\n",
    "def f(<povinný_parameter_1><povinný_parameter_2,...,<povinný_parameter_3>, *args):\n",
    "    ...\n",
    "    return ...\n",
    "```\n",
    "\n",
    "- Namiesto zoznamu `args` možno dosadiť akékoľvek množstvo *pozičných* argumentov\n",
    "    - Ich hodnoty budú brané s ohľadom na **poradie**, nemožno ich do funkcie dodávať s menami"
   ]
  },
  {
   "cell_type": "code",
   "execution_count": null,
   "metadata": {},
   "outputs": [],
   "source": []
  },
  {
   "cell_type": "markdown",
   "metadata": {},
   "source": [
    "### Funkcie s povinne-keyword argumentami\n",
    "\n",
    "```python\n",
    "def f(<povinný_parameter_1>, <povinný_parameter_2, ..., <povinný_parameter_3>, *args, <povinný_kwarg_1>, <povinný_kwarg_2>, ...):\n",
    "    ...\n",
    "    return ...\n",
    "```\n",
    "\n",
    "- Nie je nutné využiť variabilné argumenty ([PEP-3102](https://www.python.org/dev/peps/pep-3102/)):\n",
    "```python\n",
    "def f(<povinný_parameter_1>, <povinný_parameter_2, ..., <povinný_parameter_3>, *, <povinný_kwarg_1>, <povinný_kwarg_2>, ...):\n",
    "    ...\n",
    "    return ...\n",
    "```"
   ]
  },
  {
   "cell_type": "code",
   "execution_count": null,
   "metadata": {},
   "outputs": [],
   "source": []
  },
  {
   "cell_type": "markdown",
   "metadata": {},
   "source": [
    "### Anonymné funkcie\n",
    "\n",
    "- Bežnejšie označované ako *lambda* funkcie\n",
    "- Skutočne *nemajú meno* :-)\n",
    "\n",
    "#### Príklad: Návrat päťnásobku argumentu\n",
    "*Pozn.:* Aby sme mohli anonymnú funkciu zavolať, tentokrát jej meno *priradíme* (správnejšie, no menej logicky povedané, priradíme *funkciu do mena*) "
   ]
  },
  {
   "cell_type": "code",
   "execution_count": null,
   "metadata": {},
   "outputs": [],
   "source": []
  },
  {
   "cell_type": "markdown",
   "metadata": {},
   "source": [
    "- Využitie:\n",
    "    - Najčastejšie asi pri volaní funkcií, ktoré majú *funkcie ako parametre*\n",
    "    - Jednoduché klonovanie funkcií podobného určenia"
   ]
  },
  {
   "cell_type": "code",
   "execution_count": null,
   "metadata": {},
   "outputs": [],
   "source": []
  },
  {
   "cell_type": "code",
   "execution_count": null,
   "metadata": {},
   "outputs": [],
   "source": []
  },
  {
   "cell_type": "markdown",
   "metadata": {},
   "source": [
    "## Jedna samostatná úloha\n",
    "\n",
    "---"
   ]
  },
  {
   "cell_type": "markdown",
   "metadata": {},
   "source": [
    "> **Úloha 2**: (5 min)\n",
    "> - Máme zoznam hodnôt s jednotkami *pF* a *A*.\n",
    "> - Hodnoty v pikofaradoch predstavujú *kondenzátory*, hodnoty v ampéroch *zdroje*.\n",
    "> - Chceme spočítať, koľko je v zozname kondenzátorov a koľko zdrojov.\n",
    "> - Príklad: Pre vstup \n",
    "```console\n",
    "['486 A', '99 A', '50 pF', '346 pF', '131 pF', '358 A', '482 A', '24 pF', '51 A', '407 A']\n",
    "```\n",
    "> by sme sa chceli dopočítať k 6 zdrojom a 4 kondenzátorom\n",
    "\n",
    "> - *Nápoveda 1*: Získanie jednotiek z reťazca tvaru `'24 pF'` možno urobiť pomocou `'24 pF'.split(' ')[-1]`\n",
    "> - *Nápoveda 2*: Aplikácia operácie na každý element poľa: funkcia `map`"
   ]
  },
  {
   "cell_type": "code",
   "execution_count": null,
   "metadata": {},
   "outputs": [],
   "source": [
    "l = [1, 2, 3, 4, 5]\n",
    "\n",
    "print(list(map(lambda k: k**2, l)))"
   ]
  },
  {
   "cell_type": "code",
   "execution_count": null,
   "metadata": {},
   "outputs": [],
   "source": [
    "values = ['{:2d} {}'.format(value, unit) for value, unit in zip(list(np.random.randint(500, size=10)), list(np.random.choice(['pF', 'A'], 10)))]\n",
    "print(values)\n",
    "\n",
    "##################\n",
    "# Your code here #\n",
    "##################"
   ]
  },
  {
   "cell_type": "markdown",
   "metadata": {},
   "source": [
    "> **Riešenie:**"
   ]
  },
  {
   "cell_type": "code",
   "execution_count": null,
   "metadata": {},
   "outputs": [],
   "source": []
  },
  {
   "cell_type": "markdown",
   "metadata": {},
   "source": [
    "## Dokončenie úloh z CW\n",
    "\n",
    "---"
   ]
  },
  {
   "cell_type": "markdown",
   "metadata": {},
   "source": [
    "7. Vytvorte *funkciu* pre výpočet Ludolfovho čísla pomocou $n$ prvkov Leibnizovho radu"
   ]
  },
  {
   "cell_type": "code",
   "execution_count": null,
   "metadata": {},
   "outputs": [],
   "source": []
  },
  {
   "cell_type": "markdown",
   "metadata": {},
   "source": [
    "8. Zistite, koľko členov radu je treba zahrnúť, aby sme dostali $\\pi$ s presnosťou na $10^{-6}$"
   ]
  },
  {
   "cell_type": "code",
   "execution_count": null,
   "metadata": {},
   "outputs": [],
   "source": []
  },
  {
   "cell_type": "markdown",
   "metadata": {},
   "source": [
    "### Jednoduchý automat na mince\n",
    "\n",
    "- Napíšte program, ktorý pre zadanú čiastku (v celých korunách) vypíše najmenší počet mincí (20, 10, 5, 2, 1), z ktorých sa dá daná čiastka zložiť"
   ]
  },
  {
   "cell_type": "code",
   "execution_count": null,
   "metadata": {},
   "outputs": [],
   "source": []
  },
  {
   "cell_type": "markdown",
   "metadata": {},
   "source": [
    "- Rozšírte program tak, aby vypisoval použité mince"
   ]
  },
  {
   "cell_type": "code",
   "execution_count": null,
   "metadata": {},
   "outputs": [],
   "source": []
  },
  {
   "cell_type": "markdown",
   "metadata": {},
   "source": [
    "- Nechajte program vypísať vloženú čiastku aj v iných menách"
   ]
  },
  {
   "cell_type": "code",
   "execution_count": null,
   "metadata": {},
   "outputs": [],
   "source": []
  },
  {
   "cell_type": "markdown",
   "metadata": {},
   "source": [
    "## Čo ďalej\n",
    "\n",
    "---\n",
    "\n",
    "- Ešte raz si prejsť dnešné cvičenie, pochopenie dnešnej látky je naozaj dôležité.\n",
    "- Naprogramovať si zopár vlastných úloh\n",
    "    - Tip 1: Skúste si prejsť zopár úloh z [KSP](https://ksp.mff.cuni.cz/tasks/32/tasks1.html)\n",
    "    - Tip 2: Výpočet $\\pi$ metódou Monte Carlo\n",
    "        - Trochu nad rámec dnešného cvičenia (je potrebné použiť nejaký generátor vzoriek)\n",
    "    - Tip 3: Hľadanie prvočísel menších než $N$ pomocou algoritmu [Eratosthenovho sita](https://en.wikipedia.org/wiki/Sieve_of_Eratosthenes).\n",
    "        - Jednoduchšia úloha"
   ]
  }
 ],
 "metadata": {
  "kernelspec": {
   "display_name": "Python 3",
   "language": "python",
   "name": "python3"
  },
  "language_info": {
   "codemirror_mode": {
    "name": "ipython",
    "version": 3
   },
   "file_extension": ".py",
   "mimetype": "text/x-python",
   "name": "python",
   "nbconvert_exporter": "python",
   "pygments_lexer": "ipython3",
   "version": "3.8.3"
  }
 },
 "nbformat": 4,
 "nbformat_minor": 4
}
