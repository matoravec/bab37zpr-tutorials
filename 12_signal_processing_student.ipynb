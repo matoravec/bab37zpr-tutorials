{
 "cells": [
  {
   "cell_type": "markdown",
   "metadata": {},
   "source": [
    "## Prechodový dej v RC obvode\n",
    "\n",
    "-------\n",
    "\n",
    "\n",
    "<img src=\"./img/rc.png\" width='400'>\n",
    "\n",
    "* Tesne po pripojení jednosmerného zdroja napätia (batérie) začne obvodom tiecť prúd $$i(0) = \\frac{u_1}{R}.$$\n",
    "* Vďaka prúdu (toku elektrónov) sa na kapacitore hromadí elektrický náboj $$q(t) = \\int i(t)\\,\\mathrm{d}t.$$\n",
    "* Náboj na doske kapacitoru je priamo úmerný napätiu na ňom: $$ u_C(t) = \\frac{q(t)}{C}. $$\n",
    "* Vďaka nárastu napätia na kapacitore dôjde k úbytku napätia na rezistore.\n",
    "\n",
    "\n",
    "* Druhý [Kirchhoffov zákon](https://en.wikipedia.org/wiki/Kirchhoff%27s_circuit_laws) aplikovaný na náš obvod: $$u_R+u_C-u_1=0.$$ $$Ri+\\frac{1}{C}\\int i\\,\\mathrm{d}t - u_1=0$$\n",
    "    * Integrálna rovnica $\\to$ deriváciou podľa času získame diferenciálnu rovnicu 1. rádu: $$R\\frac{\\mathrm{d}i}{\\mathrm{d}t} + \\frac{1}{C}i = 0$$ s počiatočnou podmienkou $$i(0) = \\frac{u_1}{R}.$$\n",
    "    \n",
    "#### Presné riešenie"
   ]
  },
  {
   "cell_type": "code",
   "execution_count": null,
   "metadata": {},
   "outputs": [],
   "source": [
    "from sympy import *"
   ]
  },
  {
   "cell_type": "code",
   "execution_count": null,
   "metadata": {},
   "outputs": [],
   "source": []
  },
  {
   "cell_type": "markdown",
   "metadata": {},
   "source": [
    "#### Numerické riešenie\n",
    "\n",
    "* Diskretizácia času $\\Rightarrow$ diferenciálna rovnica prejde na diferenčnú rovnicu premennej $$\\Delta t=1/f_p$$\n",
    "    * $f_p$ je vzorkovacia frekvencia\n",
    "    * Derivácie nahradíme spätnými diferenciami $$R\\frac{\\mathrm{d}i}{\\mathrm{d}t} + \\frac{1}{C}i = 0~~~\\longrightarrow ~~~ R\\frac{i_n-i_{n-1}}{\\Delta t} + \\frac{1}{C}i_n=0$$\n",
    "    \n",
    "* Tým dostávame predpis pre vzorku s indexom $n$ pri znalosti vzroky s indexom $n-1$ (minulej vzorky) $$i_n = \\frac{f_pRC}{f_pRC+1}i_{n-1}$$\n",
    "    * Hodnota prvej vzorky je onou počiatočnou podmienkou: $i_0=\\frac{u_1}{R}$.\n",
    "    \n",
    "#### Numerické riešenie $-$ Eulerova metóda\n",
    "\n",
    "* Eulerova metóda pre riešenie obyčajných diferenciálnych rovníc 1. rádu:\n",
    "    * Majme obyčajnú diferenciálnu rovnicu 1. rádu $$\\frac{\\mathrm{d}y}{\\mathrm{d}t} = f(t, y(t))$$ s počiatočnou podmienkou $$y(t_0) = y_0.$$\n",
    "    * Zvoľme si časový krok $h$.\n",
    "    * Potom hodnoty neznámej funkcie $y$ sú rekurentne definované ako $$y_{n+1} = y_n + hf(t_n,y_n).$$\n",
    "    \n",
    "*  V našom prípade $$i_{n+1} = i_n + h\\underbrace{(-\\frac{1}{RC}i_n)}_{f(t_n, i_n)} = i_n (1 - \\frac{h}{RC}).$$"
   ]
  },
  {
   "cell_type": "markdown",
   "metadata": {},
   "source": [
    "#### Vykreslenie časového priebehu prúdu v obvode"
   ]
  },
  {
   "cell_type": "code",
   "execution_count": null,
   "metadata": {},
   "outputs": [],
   "source": [
    "import numpy as np\n",
    "import matplotlib.pyplot as plt\n",
    "import ipywidgets as widgets\n",
    "%matplotlib inline"
   ]
  },
  {
   "cell_type": "code",
   "execution_count": null,
   "metadata": {},
   "outputs": [],
   "source": []
  },
  {
   "cell_type": "markdown",
   "metadata": {},
   "source": [
    "## Cirkulácia neurotransmitteru v synapsii sluchového nervu\n",
    "\n",
    "-----------\n",
    "\n",
    "* V sluchovom orgáne sa mechanické vibrácie premieňajú na nervové vzruchy, prenášané do mozgu (elektrický signál)\n",
    "* Pri stimulácii sluchového nervu monofrekvenčným tónom a meraní počtu vzruchov v sluchovom nerve získavame približne nasledujúci priebeh:\n",
    "\n",
    "<img src=\"./img/pocet.png\" width='400'>\n",
    "\n",
    "* Počet vzruchov je úmerný počtu transmitterov v štrbine. Model vývoja počtu transmitterov v jednotlivých častiach reťazca možno modelovať pomocou Meddisovho modelu, popísaného sústavou troch diferenciálnych rovníc o troch neznámych $w$, $q$ a $c$:\n",
    "\n",
    "<img src=\"./img/synapsia.png\" width='400'>\n",
    "\n",
    "$$\\begin{align}\\frac{\\mathrm{d}q}{\\mathrm{d}t} &= y(M-q)+xw-kq\\\\\n",
    "\\frac{\\mathrm{d}c}{\\mathrm{d}t} &= kq - (l+r)c\\\\\n",
    "\\frac{\\mathrm{d}w}{\\mathrm{d}t} &= rc-xw\\end{align}$$\n",
    "\n",
    "* V roku 2006 bol Meddisom jeho pôvodný model upravený tak, aby\n",
    "    * Počet transmitterov mohol nadobúdať iba diskrétne hodnoty\n",
    "    * Bola do procesu vnesená náhodnosť.\n",
    "* O zabezpečenie týchto bodov sa stará funkcia $N$:\n",
    "    * Vstup: \n",
    "        * Počet kvánt neurotransmitteru v danej časti reťazca\n",
    "        * Pravdepodobnosť emisie jedného kvanta do inej časti reťazca\n",
    "    * Výstup:\n",
    "        * Logická hodnota, udávajúca, či bolo prenesené kvantum, alebo nebolo.\n",
    "        \n",
    "$$\\begin{align}\\frac{\\mathrm{d}q}{\\mathrm{d}t} &= N(M-q, y) + N(w, x) - N(q, k)\\\\\n",
    "\\frac{\\mathrm{d}c}{\\mathrm{d}t} &= N(q, k) - (l + r)c\\\\\n",
    "\\frac{\\mathrm{d}w}{\\mathrm{d}t} &= rc-N(w, x)\\end{align}$$"
   ]
  },
  {
   "cell_type": "code",
   "execution_count": null,
   "metadata": {},
   "outputs": [],
   "source": []
  },
  {
   "cell_type": "code",
   "execution_count": null,
   "metadata": {
    "scrolled": true
   },
   "outputs": [],
   "source": []
  },
  {
   "cell_type": "code",
   "execution_count": null,
   "metadata": {},
   "outputs": [],
   "source": []
  },
  {
   "cell_type": "code",
   "execution_count": null,
   "metadata": {
    "scrolled": true
   },
   "outputs": [],
   "source": []
  },
  {
   "cell_type": "code",
   "execution_count": null,
   "metadata": {},
   "outputs": [],
   "source": []
  },
  {
   "cell_type": "code",
   "execution_count": null,
   "metadata": {},
   "outputs": [],
   "source": []
  }
 ],
 "metadata": {
  "kernelspec": {
   "display_name": "Python 3",
   "language": "python",
   "name": "python3"
  },
  "language_info": {
   "codemirror_mode": {
    "name": "ipython",
    "version": 3
   },
   "file_extension": ".py",
   "mimetype": "text/x-python",
   "name": "python",
   "nbconvert_exporter": "python",
   "pygments_lexer": "ipython3",
   "version": "3.7.5"
  }
 },
 "nbformat": 4,
 "nbformat_minor": 4
}
