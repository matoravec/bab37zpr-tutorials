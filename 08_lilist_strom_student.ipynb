{
 "cells": [
  {
   "cell_type": "markdown",
   "metadata": {},
   "source": [
    "# Zásobník (dokončenie z minulého cvičenia)\n",
    "\n",
    "![Zásobník](./img/stack.gif)\n",
    "\n",
    "## Úlohy z [CW](https://cw.fel.cvut.cz/wiki/courses/bab37zpr/tutorials/lab08)\n",
    "\n",
    "0. Implementujte triedu, ktorá bude realizovať zásobník. Dáta budú vnútorne uložené v zozname, metódami triedy budú `push`, `pop`, `is_empty`."
   ]
  },
  {
   "cell_type": "code",
   "execution_count": null,
   "metadata": {},
   "outputs": [],
   "source": []
  },
  {
   "cell_type": "markdown",
   "metadata": {},
   "source": [
    "1. Dekódujte správu zo štandardného vstupu pomocou zásobníku:\n",
    "    * Písmeno znamená *push* znaku (toho písmena) na zásobník\n",
    "    * Hviezdička znamená *pop* znaku zo zásobníku na výstup\n",
    "    * Medzery sa ignorujú\n",
    "    \n",
    "* Dekódujte vstup `TE*A*QYS***SEU****NI*O**`"
   ]
  },
  {
   "cell_type": "code",
   "execution_count": null,
   "metadata": {},
   "outputs": [],
   "source": []
  },
  {
   "cell_type": "markdown",
   "metadata": {},
   "source": [
    "2. Napíšte program, ktorý s využitím zásobníku zvaliduje výraz, obsahujúci párové zátvorky `()`."
   ]
  },
  {
   "cell_type": "code",
   "execution_count": null,
   "metadata": {},
   "outputs": [],
   "source": []
  },
  {
   "cell_type": "markdown",
   "metadata": {},
   "source": [
    "2b. Rozšírte program tak, aby vyhodnotil správnosť uzátvorkovania vo výraze so zátvorkami `()`, `[]`, `{}`."
   ]
  },
  {
   "cell_type": "code",
   "execution_count": null,
   "metadata": {},
   "outputs": [],
   "source": []
  },
  {
   "cell_type": "markdown",
   "metadata": {},
   "source": [
    "# Iné abstraktné dátové typy"
   ]
  },
  {
   "cell_type": "markdown",
   "metadata": {},
   "source": [
    "## Lineárny zoznam (zreťazený zoznam)\n",
    "\n",
    "- Ide o množinu prvkov, v ktorej každý pozná *nasledujúci prvok*.\n",
    "    - V prípade tzv. *obojstranne zreťazeného* zoznamu pozná každý prvok i svojho *predchodcu*.\n",
    "- Jednotlivé bunky môžu byť v pamäti uložené na rozličných miestach $-$ nie je nutné alokovať naraz pamäť pre celý zoznam.\n",
    "\n",
    "![Lineárny zoznam](./img/lilist.gif)\n",
    "\n",
    "- Každá bunka pozostáva z dvoch častí: \n",
    "    - Hodnota\n",
    "    - Referencia na ďalší prvok"
   ]
  },
  {
   "cell_type": "code",
   "execution_count": null,
   "metadata": {},
   "outputs": [],
   "source": []
  },
  {
   "cell_type": "code",
   "execution_count": null,
   "metadata": {},
   "outputs": [],
   "source": []
  },
  {
   "cell_type": "markdown",
   "metadata": {},
   "source": [
    "## Strom\n",
    "\n",
    "- Rozšírenie zreťazeného zoznamu: Každý prvok môže mať *viacero nasledovníkov* (potomkov)\n",
    "- Ustálená terminológia:\n",
    "    * **Koreň (*root node*):** Základný prvok\n",
    "    * **Vetvy (*branch nodes*):** Majú aspoň jedného predka a jedného potomka\n",
    "    * **Listy (*leaf nodes*):** Majú predka, nemajú žiadneho potomka\n",
    "\n",
    "![Strom](./img/strom.gif)"
   ]
  },
  {
   "cell_type": "code",
   "execution_count": null,
   "metadata": {},
   "outputs": [],
   "source": []
  },
  {
   "cell_type": "code",
   "execution_count": null,
   "metadata": {},
   "outputs": [],
   "source": []
  },
  {
   "cell_type": "markdown",
   "metadata": {},
   "source": [
    "### Binárny vyhľadávací strom (BST)\n",
    "\n",
    "- **Binárny:** každý uzol má najviac dvoch potomkov.\n",
    "- **Vyhľadávací:** je vhodný na efektívne vyhľadanie hodnoty.\n",
    "\n",
    "- Pre každý uzol: Hodnoty v ľavom podstrome sú menšie než hodnota uzlu. Hodnoty v pravom podstrome sú väčšie než hodnota uzlu.\n",
    "\n",
    "```\n",
    "15\n",
    "    28\n",
    "        35\n",
    "        16\n",
    "    4\n",
    "        5\n",
    "            -\n",
    "            6\n",
    "        8\n",
    "            7\n",
    "            -\n",
    "```\n",
    "\n",
    "#### Algoritmus vyhľadávania v BST\n",
    "\n",
    "- Začiatok v koreni\n",
    "\n",
    "- Porovnaj vyhľadávanú hodnotu s hodnotou uzlu. Podľa výsledku porovnania ďalej:\n",
    "    - *Rovnajú sa* $\\to$ ohlás nájdenie hodnoty\n",
    "    - *Vyhľadávaná hodnota je menšia* $\\to$ prehľadaj ľavý podstrom\n",
    "    - *Vyhľadávaná hodnota je väčšia* $\\to$ prehľadaj pravý podstrom\n",
    "    \n",
    "![BST](./img/bst.gif)"
   ]
  },
  {
   "cell_type": "code",
   "execution_count": null,
   "metadata": {},
   "outputs": [],
   "source": []
  },
  {
   "cell_type": "code",
   "execution_count": null,
   "metadata": {},
   "outputs": [],
   "source": []
  }
 ],
 "metadata": {
  "kernelspec": {
   "display_name": "Python 3",
   "language": "python",
   "name": "python3"
  },
  "language_info": {
   "codemirror_mode": {
    "name": "ipython",
    "version": 3
   },
   "file_extension": ".py",
   "mimetype": "text/x-python",
   "name": "python",
   "nbconvert_exporter": "python",
   "pygments_lexer": "ipython3",
   "version": "3.8.5"
  }
 },
 "nbformat": 4,
 "nbformat_minor": 4
}
