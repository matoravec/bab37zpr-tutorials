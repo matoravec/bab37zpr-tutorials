{
 "cells": [
  {
   "cell_type": "markdown",
   "metadata": {},
   "source": [
    "# Opakovanie a prehĺbenie už preberaného\n",
    "\n",
    "## Inicializácia"
   ]
  },
  {
   "cell_type": "code",
   "execution_count": 1,
   "metadata": {},
   "outputs": [],
   "source": [
    "import math"
   ]
  },
  {
   "cell_type": "markdown",
   "metadata": {},
   "source": [
    "## 1 Feedback anketa\n",
    "\n",
    "* **Ďakujeme** za vyplnenie\n",
    "* Ospravedlňujem sa za angličtinu v komentároch $-$ ukázalo sa, že je s ňou problém. Prechádzam na komentáre v slovenčine. Nomenklatúru ponechám anglickú, *Python* sám je celý po anglicky.\n",
    "* Poskytli ste nám množstvo tipov na problematiku, ktorú by sme mali prebrať ešte raz. Poďme teda na to :-)\n",
    "\n",
    "### 1.1 Lambda funkcie\n",
    "\n",
    "* Niekedy je potrebné ako argument funkcie dodať **funkciu**\n",
    "* **Príklad:** Chceme zoradiť pole celých čísel $(n_0,n_1,\\dots,n_N)$ podľa veľkosti výrazu \n",
    "\n",
    "$$n_k(-1)^{n_k},~~~k\\in\\{0,1,\\dots,N\\}$$"
   ]
  },
  {
   "cell_type": "code",
   "execution_count": 10,
   "metadata": {},
   "outputs": [
    {
     "name": "stdout",
     "output_type": "stream",
     "text": [
      "[9, 7, 7, -6, 5, -2, 1, 0, -1, -3, 6, 500]\n"
     ]
    }
   ],
   "source": [
    "a = [7, -6, -2, 0, 7, 5, 6, 1, 9, -3, -1, 500]\n",
    "\n",
    "# Možnosť #1\n",
    "def key_function(number):\n",
    "    return (-1)**number * number\n",
    "\n",
    "a.sort(key=key_function)\n",
    "print(a)"
   ]
  },
  {
   "cell_type": "code",
   "execution_count": 11,
   "metadata": {},
   "outputs": [
    {
     "name": "stdout",
     "output_type": "stream",
     "text": [
      "[9, 7, 7, -6, 5, -2, 1, 0, -1, -3, 6, 500]\n"
     ]
    }
   ],
   "source": [
    "a = [7, -6, -2, 0, 7, 5, 6, 1, 9, -3, -1, 500]\n",
    "\n",
    "# Možnosť #2\n",
    "a.sort(key=lambda number: (-1)**number * number)\n",
    "print(a)"
   ]
  },
  {
   "cell_type": "markdown",
   "metadata": {},
   "source": [
    "* **Iný príklad** na využitie `lambda` funkcie: Zoradenie poľa písmen `letters` podľa poradia ich výskytu v stringu `word`.\n",
    "    * Návratovou hodnotou funkcie môže byť aj *funkcia*"
   ]
  },
  {
   "cell_type": "code",
   "execution_count": 14,
   "metadata": {},
   "outputs": [
    {
     "name": "stdout",
     "output_type": "stream",
     "text": [
      "['p', 'a', 'c', 'm', 'n']\n",
      "['m', 'n', 'c', 'p', 'a']\n",
      "['c', 'a', 'm', 'p', 'n']\n"
     ]
    }
   ],
   "source": [
    "letters = ['a', 'c', 'm', 'n', 'p']\n",
    "\n",
    "def key_function(word):\n",
    "    return lambda letter: word.find(letter)\n",
    "\n",
    "letters.sort(key=key_function('pacman'))\n",
    "print(letters)\n",
    "\n",
    "letters.sort(key=key_function('municipal'))\n",
    "print(letters)\n",
    "\n",
    "letters.sort(key=key_function('champion'))\n",
    "print(letters)"
   ]
  },
  {
   "cell_type": "markdown",
   "metadata": {},
   "source": [
    "### 1.2 Triedy a objekty\n",
    "\n",
    "* Na popis niektorých entít nie sú štandardné dátové typy vhodné\n",
    "    * Entita **študent**:\n",
    "        * Parametre: Meno, ročník, počet zapísaných predmetov\n",
    "        * Operácie, ktoré možno na študenta aplikovať: Zápis predmetu, odstránenie predmetu, pokrok o ročník ďalej\n",
    "        * Možno implementovať bez použitia triedy, ale aj (vhodnejšie) s jej použitím:"
   ]
  },
  {
   "cell_type": "code",
   "execution_count": 16,
   "metadata": {},
   "outputs": [
    {
     "name": "stdout",
     "output_type": "stream",
     "text": [
      "A student represented by a dictionary.\n",
      "Name: Eva Nováková\n",
      "Year: 2\n",
      "Number of courses 6.\n",
      "\n",
      "A student represented by a dictionary.\n",
      "Name: Eva Nováková\n",
      "Year: 3\n",
      "Number of courses 7.\n",
      "\n"
     ]
    }
   ],
   "source": [
    "# a) Bez použitia triedy\n",
    "\n",
    "student1 = {\n",
    "    'name': 'Eva Nováková',\n",
    "    'year': 2,\n",
    "    'n_courses': 6\n",
    "} # Použitie slovníka ako reprezentácie študenta\n",
    "\n",
    "\n",
    "def check_values(student):\n",
    "    if isinstance(student, dict):\n",
    "        if all([key in list(student.keys()) for key in ['name', 'year', 'n_courses']]):\n",
    "            if isinstance(student['name'], str) and isinstance(student['year'], int) and isinstance(student['n_courses'], int):\n",
    "                return student\n",
    "            else:\n",
    "                raise ValueError('The \\'name\\' cell has to contain a string, the \\'year\\' and \\'n_courses\\' cells have to contain both an integer.')\n",
    "        else:\n",
    "            raise ValueError('Each student has to contain \\'name\\', \\'year\\', and \\'n_courses\\' keys.')\n",
    "    else:\n",
    "        raise ValueError('A student has to be a dictionary instance.')\n",
    "        \n",
    "\n",
    "def increment_year(student):\n",
    "    student = check_values(student)\n",
    "    \n",
    "    student['year'] += 1\n",
    "    \n",
    "    \n",
    "def add_course(student):\n",
    "    student = check_values(student)\n",
    "    \n",
    "    student['n_courses'] += 1\n",
    "        \n",
    "    \n",
    "def delete_course(student):\n",
    "    student = check_values(student)\n",
    "    \n",
    "    student['n_courses'] = max(student['n_courses'] - 1, 0)\n",
    "    \n",
    "    \n",
    "def print_student(student):\n",
    "    student = check_values(student)\n",
    "    \n",
    "    print('\\n'.join([\n",
    "        'A student represented by a dictionary.',\n",
    "        'Name: {}'.format(student['name']),\n",
    "        'Year: {:d}'.format(student['year']),\n",
    "        'Number of courses {:d}.\\n'.format(student['n_courses'])\n",
    "    ]))\n",
    "\n",
    "\n",
    "print_student(student1) # Zobrazenie parametrov pre student1\n",
    "add_course(student1) # Pridanie predmetu\n",
    "increment_year(student1) # Pokročenie o ročník vyššie\n",
    "print_student(student1) # Zobrazenie parametrov pre student1"
   ]
  },
  {
   "cell_type": "code",
   "execution_count": 19,
   "metadata": {},
   "outputs": [
    {
     "name": "stdout",
     "output_type": "stream",
     "text": [
      "Class student.\n",
      "Name: Jozef Kalman\n",
      "Year: 5\n",
      "Number of courses 0.\n",
      "\n",
      "Class student.\n",
      "Name: Jozef Kalman\n",
      "Year: 6\n",
      "Number of courses 1.\n",
      "\n"
     ]
    }
   ],
   "source": [
    "# b) S použitím triedy\n",
    "\n",
    "class Student:\n",
    "    def __init__(self, name, year=1, n_courses=0):\n",
    "        if not isinstance(name, str):\n",
    "            raise ValueError('Name has to be a string.')\n",
    "        elif not isinstance(year, int):\n",
    "            raise ValueError('Year has to be an integer.')\n",
    "        elif not isinstance(n_courses, int):\n",
    "            raise ValueError('Number of courses has to be an integer.')\n",
    "        else:\n",
    "            self.name = name\n",
    "            self.year = year\n",
    "            self.n_courses = n_courses\n",
    "            \n",
    "            \n",
    "    def __repr__(self):\n",
    "        return '\\n'.join([\n",
    "        'Class student.',\n",
    "        'Name: {}'.format(self.name),\n",
    "        'Year: {:d}'.format(self.year),\n",
    "        'Number of courses {:d}.\\n'.format(self.n_courses)\n",
    "        ])\n",
    "    \n",
    "    \n",
    "    def increment_year(self):\n",
    "        self.year += 1\n",
    "        \n",
    "        \n",
    "    def add_course(self):\n",
    "        self.n_courses += 1\n",
    "        \n",
    "        \n",
    "    def delete_course(self):\n",
    "        self.n_courses = max(0, self.n_courses - 1)\n",
    "            \n",
    "        \n",
    "student2 = Student('Jozef Kalman', 5)\n",
    "\n",
    "print(student2)\n",
    "student2.add_course()\n",
    "student2.increment_year()\n",
    "print(student2)"
   ]
  },
  {
   "cell_type": "markdown",
   "metadata": {},
   "source": [
    "* Výhody použitia triedy:\n",
    "    * Metódy a atribúty sú *priamo zviazané* so všetkými objektami danej triedy\n",
    "        * Vieme sa pozrieť na všetky metódy, ktoré je na objekt možné volať (`dir(Student)`)\n",
    "    * Je možné využiť **dedičnosť**\n",
    "        * Nová trieda (tzv. *podtrieda* (subclass)) môže byť vytvorená pomocou špecifikácie *modifikácií* oproti jej materskej triede.\n",
    "    * Je možné využiť (pseudo)**zapuzdrenie**\n",
    "        * Viditeľnosť premenných a dát iba v rámci tých blokov, v ktorých je s nimi požadovaná manipulácia\n",
    "            * *Protected* premenné\n",
    "                * Začínajú podtržítkom (napr. `_var`)\n",
    "                * Očakáva sa, že budú viditeľné iba v rámci objektov triedy a objektov jej podtried\n",
    "            * *Private* premenné\n",
    "                * Začínajú aspoň dvoma podtržítkami (napr. `__var`)\n",
    "                * Očakáva sa, že budú viditeľné iba v rámci objektov danej triedy.\n",
    "        * V oboch prípadoch ide ale iba o **konvenciu**. \n",
    "            * Protected premenné sú dostupné a modifikovateľné priamo\n",
    "            * Private premenné *Python* premenováva (tzv. *name mangling*) podľa kľúča `object.__var` $\\to$ `object._Class__var`. Pomocou tohoto zmeneného mena sú potom dostupné aj zvonku.\n",
    "        * Je teda možné ich meniť, ale **slušný programátor tieto konvencie dodržiava**\n",
    "            * Nesiaha na *protected* premenné mimo definícií triedy a jej podried\n",
    "            * Nesiaha na *private* premenné ani v definíciach podtried"
   ]
  },
  {
   "cell_type": "code",
   "execution_count": 47,
   "metadata": {},
   "outputs": [
    {
     "name": "stdout",
     "output_type": "stream",
     "text": [
      "9\n",
      "90\n",
      "500\n"
     ]
    }
   ],
   "source": [
    "class Mother:\n",
    "    def __init__(self):\n",
    "        self.var_public = 5\n",
    "        self._var_protected = 50\n",
    "        self.__var_private = 500\n",
    "        \n",
    "    def print_public(self):\n",
    "        print(self.var_public)\n",
    "        \n",
    "    def print_protected(self):\n",
    "        print(self._var_protected)\n",
    "        \n",
    "    def print_private(self):\n",
    "        print(self.__var_private)\n",
    "        \n",
    "\n",
    "class Child(Mother):\n",
    "    def __init__(self):\n",
    "        super().__init__() # Volanie konštruktora materskej triedy\n",
    "        \n",
    "        self.var_public = 9 # OK\n",
    "        self._var_protected = 90 # OK, Child je podtriedou triedy Mother\n",
    "        self.__var_private = 900 # Síce OK, ale premenná __var_private triedy Mother nie je prepísaná\n",
    "        #self._Mother__var_private = 600 # Možné, ale neslušné\n",
    "\n",
    "ch = Child()\n",
    "#ch._var_protected = 40 # Možné, ale neslušné\n",
    "ch.print_public()\n",
    "ch.print_protected()\n",
    "ch.print_private()"
   ]
  },
  {
   "cell_type": "markdown",
   "metadata": {},
   "source": [
    "### 1.3 Ošetrenie chýb\n",
    "\n",
    "* Máme dve základné možnosti:\n",
    "    1. Prejsť všetky možnosti výsledku a pre každú z nich zvoliť iné ukončenie programu / podprogramu\n",
    "    2. Využiť bloky `try`/`except`/`finally`"
   ]
  },
  {
   "cell_type": "code",
   "execution_count": 50,
   "metadata": {},
   "outputs": [
    {
     "name": "stdout",
     "output_type": "stream",
     "text": [
      "25\n"
     ]
    },
    {
     "ename": "TypeError",
     "evalue": "unsupported operand type(s) for ** or pow(): 'str' and 'int'",
     "output_type": "error",
     "traceback": [
      "\u001b[0;31m---------------------------------------------------------------------------\u001b[0m",
      "\u001b[0;31mTypeError\u001b[0m                                 Traceback (most recent call last)",
      "\u001b[0;32m<ipython-input-50-4a660d9e01a2>\u001b[0m in \u001b[0;36m<module>\u001b[0;34m\u001b[0m\n\u001b[1;32m      4\u001b[0m \u001b[0;34m\u001b[0m\u001b[0m\n\u001b[1;32m      5\u001b[0m \u001b[0mprint\u001b[0m\u001b[0;34m(\u001b[0m\u001b[0msquare\u001b[0m\u001b[0;34m(\u001b[0m\u001b[0;36m5\u001b[0m\u001b[0;34m)\u001b[0m\u001b[0;34m)\u001b[0m \u001b[0;31m# OK\u001b[0m\u001b[0;34m\u001b[0m\u001b[0;34m\u001b[0m\u001b[0m\n\u001b[0;32m----> 6\u001b[0;31m \u001b[0mprint\u001b[0m\u001b[0;34m(\u001b[0m\u001b[0msquare\u001b[0m\u001b[0;34m(\u001b[0m\u001b[0;34m'g'\u001b[0m\u001b[0;34m)\u001b[0m\u001b[0;34m)\u001b[0m \u001b[0;31m# TypeError\u001b[0m\u001b[0;34m\u001b[0m\u001b[0;34m\u001b[0m\u001b[0m\n\u001b[0m",
      "\u001b[0;32m<ipython-input-50-4a660d9e01a2>\u001b[0m in \u001b[0;36msquare\u001b[0;34m(n)\u001b[0m\n\u001b[1;32m      1\u001b[0m \u001b[0;31m# Bez ošetrenia vstupu\u001b[0m\u001b[0;34m\u001b[0m\u001b[0;34m\u001b[0m\u001b[0;34m\u001b[0m\u001b[0m\n\u001b[1;32m      2\u001b[0m \u001b[0;32mdef\u001b[0m \u001b[0msquare\u001b[0m\u001b[0;34m(\u001b[0m\u001b[0mn\u001b[0m\u001b[0;34m)\u001b[0m\u001b[0;34m:\u001b[0m\u001b[0;34m\u001b[0m\u001b[0;34m\u001b[0m\u001b[0m\n\u001b[0;32m----> 3\u001b[0;31m     \u001b[0;32mreturn\u001b[0m \u001b[0mn\u001b[0m\u001b[0;34m**\u001b[0m\u001b[0;36m2\u001b[0m\u001b[0;34m\u001b[0m\u001b[0;34m\u001b[0m\u001b[0m\n\u001b[0m\u001b[1;32m      4\u001b[0m \u001b[0;34m\u001b[0m\u001b[0m\n\u001b[1;32m      5\u001b[0m \u001b[0mprint\u001b[0m\u001b[0;34m(\u001b[0m\u001b[0msquare\u001b[0m\u001b[0;34m(\u001b[0m\u001b[0;36m5\u001b[0m\u001b[0;34m)\u001b[0m\u001b[0;34m)\u001b[0m \u001b[0;31m# OK\u001b[0m\u001b[0;34m\u001b[0m\u001b[0;34m\u001b[0m\u001b[0m\n",
      "\u001b[0;31mTypeError\u001b[0m: unsupported operand type(s) for ** or pow(): 'str' and 'int'"
     ]
    }
   ],
   "source": [
    "# Bez ošetrenia vstupu\n",
    "def square(n):\n",
    "    return n**2\n",
    "\n",
    "print(square(5)) # OK\n",
    "print(square('g')) # TypeError"
   ]
  },
  {
   "cell_type": "code",
   "execution_count": 51,
   "metadata": {},
   "outputs": [
    {
     "name": "stdout",
     "output_type": "stream",
     "text": [
      "25\n"
     ]
    },
    {
     "ename": "TypeError",
     "evalue": "Argument 'n' could only be float, int, or complex.",
     "output_type": "error",
     "traceback": [
      "\u001b[0;31m---------------------------------------------------------------------------\u001b[0m",
      "\u001b[0;31mTypeError\u001b[0m                                 Traceback (most recent call last)",
      "\u001b[0;32m<ipython-input-51-9c3166829e50>\u001b[0m in \u001b[0;36m<module>\u001b[0;34m\u001b[0m\n\u001b[1;32m      7\u001b[0m \u001b[0;34m\u001b[0m\u001b[0m\n\u001b[1;32m      8\u001b[0m \u001b[0mprint\u001b[0m\u001b[0;34m(\u001b[0m\u001b[0msquare\u001b[0m\u001b[0;34m(\u001b[0m\u001b[0;36m5\u001b[0m\u001b[0;34m)\u001b[0m\u001b[0;34m)\u001b[0m \u001b[0;31m# OK\u001b[0m\u001b[0;34m\u001b[0m\u001b[0;34m\u001b[0m\u001b[0m\n\u001b[0;32m----> 9\u001b[0;31m \u001b[0mprint\u001b[0m\u001b[0;34m(\u001b[0m\u001b[0msquare\u001b[0m\u001b[0;34m(\u001b[0m\u001b[0;34m'g'\u001b[0m\u001b[0;34m)\u001b[0m\u001b[0;34m)\u001b[0m \u001b[0;31m# TypeError\u001b[0m\u001b[0;34m\u001b[0m\u001b[0;34m\u001b[0m\u001b[0m\n\u001b[0m",
      "\u001b[0;32m<ipython-input-51-9c3166829e50>\u001b[0m in \u001b[0;36msquare\u001b[0;34m(n)\u001b[0m\n\u001b[1;32m      4\u001b[0m         \u001b[0;32mreturn\u001b[0m \u001b[0mn\u001b[0m\u001b[0;34m**\u001b[0m\u001b[0;36m2\u001b[0m\u001b[0;34m\u001b[0m\u001b[0;34m\u001b[0m\u001b[0m\n\u001b[1;32m      5\u001b[0m     \u001b[0;32melse\u001b[0m\u001b[0;34m:\u001b[0m\u001b[0;34m\u001b[0m\u001b[0;34m\u001b[0m\u001b[0m\n\u001b[0;32m----> 6\u001b[0;31m         \u001b[0;32mraise\u001b[0m \u001b[0mTypeError\u001b[0m\u001b[0;34m(\u001b[0m\u001b[0;34m'Argument \\'n\\' could only be float, int, or complex.'\u001b[0m\u001b[0;34m)\u001b[0m\u001b[0;34m\u001b[0m\u001b[0;34m\u001b[0m\u001b[0m\n\u001b[0m\u001b[1;32m      7\u001b[0m \u001b[0;34m\u001b[0m\u001b[0m\n\u001b[1;32m      8\u001b[0m \u001b[0mprint\u001b[0m\u001b[0;34m(\u001b[0m\u001b[0msquare\u001b[0m\u001b[0;34m(\u001b[0m\u001b[0;36m5\u001b[0m\u001b[0;34m)\u001b[0m\u001b[0;34m)\u001b[0m \u001b[0;31m# OK\u001b[0m\u001b[0;34m\u001b[0m\u001b[0;34m\u001b[0m\u001b[0m\n",
      "\u001b[0;31mTypeError\u001b[0m: Argument 'n' could only be float, int, or complex."
     ]
    }
   ],
   "source": [
    "# Ošetrenie pomocou vetvenia\n",
    "def square(n):\n",
    "    if isinstance(n, (float, int, complex)):\n",
    "        return n**2\n",
    "    else:\n",
    "        raise TypeError('Argument \\'n\\' could only be float, int, or complex.')\n",
    "\n",
    "print(square(5)) # OK\n",
    "print(square('g')) # TypeError"
   ]
  },
  {
   "cell_type": "code",
   "execution_count": null,
   "metadata": {},
   "outputs": [],
   "source": [
    "# Ošetrenie pomocou try - except a napr. nezmyselnej návratovej hodnoty\n",
    "def square(n):\n",
    "    try:\n",
    "        return n**2\n",
    "    except TypeError:\n",
    "        return -1\n",
    "        \n",
    "print(square(5)) # OK\n",
    "print(square('g')) # TypeError"
   ]
  },
  {
   "cell_type": "markdown",
   "metadata": {},
   "source": [
    "### 1.4 List/set comprehensions"
   ]
  },
  {
   "cell_type": "code",
   "execution_count": 55,
   "metadata": {},
   "outputs": [
    {
     "name": "stdout",
     "output_type": "stream",
     "text": [
      "[1, 2, 3, 4, 5, 6, 7, 8, 9, 10]\n",
      "[1, 2, 3, 4, 5, 6, 7, 8, 9, 10]\n"
     ]
    }
   ],
   "source": [
    "# Vytvorenie zoznamu čísel od 1 do 10 bez použitia pretypovania iterátoru range() na zoznam\n",
    "\n",
    "# a) Bez list comprehension:\n",
    "l = []\n",
    "for i in range(1, 11):\n",
    "    l.append(i)\n",
    "print(l)\n",
    "\n",
    "# b) S list comprehension:\n",
    "l = [i for i in range(1, 11)]\n",
    "print(l)"
   ]
  },
  {
   "cell_type": "code",
   "execution_count": 58,
   "metadata": {},
   "outputs": [
    {
     "name": "stdout",
     "output_type": "stream",
     "text": [
      "Is homogeneous.\n",
      "Is homogeneous.\n"
     ]
    }
   ],
   "source": [
    "# Overenie homogenity zoznamu\n",
    "a = [7, 8, 9, 5, -6, 7, 2]\n",
    "\n",
    "# a) Bez list comprehension:\n",
    "isthesame = [True] # Pole, ktoré bude obsahovať na n-tej pozícii hodnotu True, pokiaľ bude n-tý prvok poľa a mať rovnaký typ ako prvok a[0]. Pokiaľ s ich typy budú líšiť, bude na n-tej pozícii hodnota False.\n",
    "for i in range(1, len(a)):\n",
    "    isthesame.append(type(a[i]) == type(a[0]))\n",
    "print('Is homogeneous.' if all(isthesame) else 'Is heterogeneous.')\n",
    "\n",
    "# b) S použitím list comprehension:\n",
    "print('Is homogeneous.' if all([type(element) == type(a[0]) for element in a]) else 'Is heterogeneous.')"
   ]
  },
  {
   "cell_type": "markdown",
   "metadata": {},
   "source": [
    "### 1.5 Rozdiel medzi *yield* a *return*\n",
    "\n",
    "* Bežná **funkcia** je ukončená príkazom `return`.\n",
    "    * Vráti celú svoju návratovú hodnotu naraz\n",
    "    * Návratová hodnota je (s ohľadom na parametrizáciu) konštantná."
   ]
  },
  {
   "cell_type": "code",
   "execution_count": 59,
   "metadata": {},
   "outputs": [
    {
     "data": {
      "text/plain": [
       "[25, 36, 49]"
      ]
     },
     "execution_count": 59,
     "metadata": {},
     "output_type": "execute_result"
    }
   ],
   "source": [
    "def f(l):\n",
    "    \"\"\"Squares the input list elementwise. \"\"\"\n",
    "    return [e**2 for e in l]\n",
    "\n",
    "f([5, 6, 7])"
   ]
  },
  {
   "cell_type": "markdown",
   "metadata": {},
   "source": [
    "* **Generátor** vráti v závislosti na *poradovom čísle volania* vždy špecifickú hodnotu.\n",
    "    * Každé volanie je ukončené jedným príkazom `yield`\n",
    "        * Hodnoty dostávame postupne pomocou volania funkcie `next()` na inštanciu generátoru\n",
    "    * Je rozdiel medzi **predpisom** (definíciou) a **inštanciou**\n",
    "        * Inštancia generátoru si musí zapamätať *stav* na konci posledného volania funkcie `next()`\n",
    "        \n",
    "    * Výhoda oproti funkcii: \n",
    "        * Pokiaľ chceme napr. pracovať iba s ďalším prvkom poľa, nemusíme ukladať celé pole (šetrenie pamäte)\n",
    "        * Pre niekoho prehľadnosť"
   ]
  },
  {
   "cell_type": "code",
   "execution_count": 62,
   "metadata": {},
   "outputs": [
    {
     "name": "stdout",
     "output_type": "stream",
     "text": [
      "25\n",
      "36\n",
      "49\n",
      "[25, 36, 49]\n"
     ]
    }
   ],
   "source": [
    "def g(l):\n",
    "    \"\"\"Yields squares of the input list elements. \"\"\"\n",
    "    for element in l:\n",
    "        yield element**2\n",
    "        \n",
    "squaregen = g([5, 6, 7])\n",
    "another_squaregen = g([5, 6, 7])\n",
    "\n",
    "print(next(squaregen))\n",
    "print(next(squaregen))\n",
    "print(next(squaregen))\n",
    "\n",
    "print(list(another_squaregen)) # Generátor možno pretypovať na zoznam"
   ]
  },
  {
   "cell_type": "markdown",
   "metadata": {},
   "source": [
    "### 1.6 Viacrozmerné zoznamy, matice\n",
    "\n",
    "* V základnom *Pythone* neexistuje špecifický dátový typ pre matice.\n",
    "* Matice je preto nutné nejako *reprezentovať*\n",
    "\n",
    "1. Reprezentácia matice ako zoznam jej prvkov\n",
    "    * Je potrebné si pamätať počet jej prvkov (resp. rozmery)\n",
    "\n",
    "![abcd](img/matrix_by_elements.gif)"
   ]
  },
  {
   "cell_type": "code",
   "execution_count": 81,
   "metadata": {},
   "outputs": [
    {
     "name": "stdout",
     "output_type": "stream",
     "text": [
      " 1  2  3  4 \n",
      " 5  6  7  8 \n",
      " 9 10 11 12 \n",
      "13 14 15 16 \n",
      "\n",
      "15\n"
     ]
    }
   ],
   "source": [
    "matrix = [1, 2, 3, 4, 5, 6, 7, 8, 9, 10, 11, 12, 13, 14, 15, 16]\n",
    "n_rows = 4\n",
    "n_columns = 4\n",
    "\n",
    "# Výpis celej matice:\n",
    "for i in range(n_rows):\n",
    "    for j in range(n_columns):\n",
    "        print('{:2d} '.format(matrix[i * n_columns + j]), end='')\n",
    "        if j == n_columns - 1:\n",
    "            print()\n",
    "            \n",
    "# Prvok na \"indexe\" (3, 2):\n",
    "print() # Odriadkovanie\n",
    "print(matrix[3 * n_columns + 2])"
   ]
  },
  {
   "cell_type": "markdown",
   "metadata": {},
   "source": [
    "2. Reprezentícia matice ako zoznam jej riadkov\n",
    "    * Každý riadok je zoznamom\n",
    "    * Prvky celkového zoznamu budú tieto riadky $-$ *zoznamy*\n",
    "    \n",
    "![abcd](img/matrix_by_rows.gif)"
   ]
  },
  {
   "cell_type": "code",
   "execution_count": 82,
   "metadata": {},
   "outputs": [
    {
     "name": "stdout",
     "output_type": "stream",
     "text": [
      " 1  2  3  4\n",
      " 5  6  7  8\n",
      " 9 10 11 12\n",
      "13 14 15 16\n",
      "\n",
      "15\n"
     ]
    }
   ],
   "source": [
    "matrix = [[1, 2, 3, 4], [5, 6, 7, 8], [9, 10, 11, 12], [13, 14, 15, 16]]\n",
    "\n",
    "n_rows = len(matrix)\n",
    "n_columns = len(matrix[0])\n",
    "\n",
    "for r in matrix:\n",
    "    print(str(['{:2d}'.format(element) for element in r]).replace('\\'', '').replace('[', '').replace(']', '').replace(',', ''))\n",
    "    \n",
    "# Prvok na \"indexe\" (3, 2):\n",
    "print() # Odriadkovanie\n",
    "print(matrix[3][2])"
   ]
  },
  {
   "cell_type": "markdown",
   "metadata": {},
   "source": [
    "## Úlohy z [CW](https://cw.fel.cvut.cz/wiki/courses/bab37zpr/tutorials/lab08)\n",
    "\n",
    "0. Implementujte triedu, ktorá bude realizovať zásobník. Dáta budú vnútorne uložené v zozname, metódami triedy budú `push`, `pop`, `is_empty`."
   ]
  },
  {
   "cell_type": "code",
   "execution_count": 88,
   "metadata": {},
   "outputs": [],
   "source": [
    "class Stack:\n",
    "    def __init__(self, content):\n",
    "        if isinstance(content, list):\n",
    "            self.content = content\n",
    "        else:\n",
    "            self.content = []\n",
    "            print('Warning: Creating an empty Stack.')\n",
    "            \n",
    "    def is_empty(self):\n",
    "        return len(self.content) == 0\n",
    "    \n",
    "    def push(self, value):\n",
    "        self.content.append(value)\n",
    "        \n",
    "    def pop(self):\n",
    "        return self.content.pop(-1)"
   ]
  },
  {
   "cell_type": "markdown",
   "metadata": {},
   "source": [
    "1. Dekódujte správu zo štandardného vstupu pomocou zásobníku:\n",
    "    * Písmeno znamená *push* znaku (toho písmena) na zásobník\n",
    "    * Hviezdička znamená *pop* znaku zo zásobníku na výstup\n",
    "    * Medzery sa ignorujú\n",
    "    \n",
    "* Dekódujte vstup `TE*A*QYS***SEU****NI*O**`"
   ]
  },
  {
   "cell_type": "code",
   "execution_count": 89,
   "metadata": {},
   "outputs": [
    {
     "name": "stdout",
     "output_type": "stream",
     "text": [
      "Enter a message: TE*A*QYS***SEU****NI*O**\n",
      "EASYQUESTION\n"
     ]
    }
   ],
   "source": [
    "s = Stack([])\n",
    "\n",
    "message = input('Enter a message: ')\n",
    "output = ''\n",
    "\n",
    "for character in message:\n",
    "    if character.isalpha():\n",
    "        s.push(character.upper())\n",
    "    elif character == '*':\n",
    "        output += s.pop()\n",
    "    else:\n",
    "        pass\n",
    "    \n",
    "print(output)"
   ]
  },
  {
   "cell_type": "markdown",
   "metadata": {},
   "source": [
    "2. Napíšte program, ktorý s využitím zásobníku zvaliduje výraz, obsahujúci párové zátvorky `()`."
   ]
  },
  {
   "cell_type": "code",
   "execution_count": 98,
   "metadata": {},
   "outputs": [
    {
     "name": "stdout",
     "output_type": "stream",
     "text": [
      "Enter an expression: abcf(ff(ff((gg))))\n",
      "Valid.\n"
     ]
    }
   ],
   "source": [
    "s = Stack([])\n",
    "\n",
    "expression = input('Enter an expression: ')\n",
    "valid = True\n",
    "\n",
    "for character in expression:\n",
    "    if character == '(':\n",
    "        s.push(character)\n",
    "        valid = False\n",
    "    elif character == ')':\n",
    "        if not s.is_empty():\n",
    "            valid = True\n",
    "            s.pop()\n",
    "        else:\n",
    "            valid = False\n",
    "    \n",
    "print('Valid.' if valid else 'Invalid.')"
   ]
  },
  {
   "cell_type": "markdown",
   "metadata": {},
   "source": [
    "2b. Rozšírte program tak, aby vyhodnotil správnosť uzátvorkovania vo výraze so zátvorkami `()`, `[]`, `{}`."
   ]
  },
  {
   "cell_type": "code",
   "execution_count": 109,
   "metadata": {},
   "outputs": [
    {
     "name": "stdout",
     "output_type": "stream",
     "text": [
      "Enter an expression: abc{[(]}\n",
      "Invalid.\n"
     ]
    }
   ],
   "source": [
    "s = Stack([])\n",
    "\n",
    "expression = input('Enter an expression: ')\n",
    "valid = True\n",
    "\n",
    "for character in expression:\n",
    "    if character in ['(', '[', '{']:\n",
    "        valid = False\n",
    "        s.push(character)\n",
    "    elif character in [')', ']', '}']:\n",
    "        if not s.is_empty():\n",
    "            if character == ')':\n",
    "                if s.pop() == '(':\n",
    "                    valid = True\n",
    "                else:\n",
    "                    valid = False\n",
    "            if character == ']':\n",
    "                if s.pop() == '[':\n",
    "                    valid = True\n",
    "                else:\n",
    "                    valid = False\n",
    "            if character == '}':\n",
    "                if s.pop() == '{':\n",
    "                    valid = True\n",
    "                else:\n",
    "                    valid = False\n",
    "        else:\n",
    "            valid = False\n",
    "    else:\n",
    "        pass\n",
    "        \n",
    "print('Valid.' if valid else 'Invalid.')"
   ]
  },
  {
   "cell_type": "code",
   "execution_count": null,
   "metadata": {},
   "outputs": [],
   "source": []
  }
 ],
 "metadata": {
  "kernelspec": {
   "display_name": "Python 3",
   "language": "python",
   "name": "python3"
  },
  "language_info": {
   "codemirror_mode": {
    "name": "ipython",
    "version": 3
   },
   "file_extension": ".py",
   "mimetype": "text/x-python",
   "name": "python",
   "nbconvert_exporter": "python",
   "pygments_lexer": "ipython3",
   "version": "3.8.5"
  }
 },
 "nbformat": 4,
 "nbformat_minor": 4
}
