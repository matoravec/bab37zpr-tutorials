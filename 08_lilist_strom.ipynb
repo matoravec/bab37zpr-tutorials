{
 "cells": [
  {
   "cell_type": "markdown",
   "metadata": {},
   "source": [
    "# Zásobník (dokončenie z minulého cvičenia)\n",
    "\n",
    "![Zásobník](./img/stack.gif)\n",
    "\n",
    "## Úlohy z [CW](https://cw.fel.cvut.cz/wiki/courses/bab37zpr/tutorials/lab08)\n",
    "\n",
    "0. Implementujte triedu, ktorá bude realizovať zásobník. Dáta budú vnútorne uložené v zozname, metódami triedy budú `push`, `pop`, `is_empty`."
   ]
  },
  {
   "cell_type": "code",
   "execution_count": 3,
   "metadata": {},
   "outputs": [],
   "source": [
    "class Stack:\n",
    "    def __init__(self, content=[]): # Konštruktor. Bude možné vytvoriť už naplnený zásobník.\n",
    "        if isinstance(content, (list, tuple)):\n",
    "            self.content = list(content) # Pokiaľ je argument content list alebo tuple, \"priamo\" ním naplníme atribút self.content\n",
    "        else:\n",
    "            self.content = [] # V opačnom prípade inicializujeme self.content ako prázdny zoznam\n",
    "            print('Warning: Creating an empty Stack.') # (Voliteľné) Varovná hláška\n",
    "            \n",
    "    def is_empty(self): # Pokiaľ je obsah zásobníka prázdny, vráti True. Inak vráti False.\n",
    "        return len(self.content) == 0\n",
    "    \n",
    "    def push(self, value): # Pridanie hodnoty do zásobníka (na koniec zoznamu self.content).\n",
    "        self.content.append(value)\n",
    "        \n",
    "    def pop(self): # Vráti hodnotu z vrchu zásobníku (poslednú hodnotu poľa self.content). Pokiaľ je zásobník prázdny, vráti None.\n",
    "        if not self.is_empty():\n",
    "            return self.content.pop(-1)\n",
    "        else:\n",
    "            return None"
   ]
  },
  {
   "cell_type": "markdown",
   "metadata": {},
   "source": [
    "1. Dekódujte správu zo štandardného vstupu pomocou zásobníku:\n",
    "    * Písmeno znamená *push* znaku (toho písmena) na zásobník\n",
    "    * Hviezdička znamená *pop* znaku zo zásobníku na výstup\n",
    "    * Medzery sa ignorujú\n",
    "    \n",
    "* Dekódujte vstup `TE*A*QYS***SEU****NI*O**`"
   ]
  },
  {
   "cell_type": "code",
   "execution_count": 5,
   "metadata": {},
   "outputs": [
    {
     "name": "stdout",
     "output_type": "stream",
     "text": [
      "Enter a message: TE*A*QYS***SEU****NI*O**\n",
      "EASYQUESTION\n"
     ]
    }
   ],
   "source": [
    "s = Stack() # Vytvorenie prázdneho zásobníku\n",
    "\n",
    "message = input('Enter a message: ') # Správa vypýtaná od užívateľa\n",
    "output = '' # Dekódovaná správa - inicializácia\n",
    "\n",
    "for character in message: # Pre každý znak správy...\n",
    "    if character.isalpha(): # Najprv rozhodni, či je to veľké alebo malé písmeno\n",
    "        s.push(character.upper()) # Ak áno, pridaj jeho veľkú podobu do zásobníku\n",
    "    elif character == '*': # Ak to nie je písmeno, ale je to *...\n",
    "        output += s.pop() # Pridaj hodnotu z vrchu zásobníku na koniec reťazca output (Pozn. reťazce sú nemodifikovateľné; V skutočnosti bude pre každé nové písmenko vytvorený nový reťazec.)\n",
    "    else: # Ak to nie je ani písmenko, ani *...\n",
    "        pass # Neurob nič\n",
    "    \n",
    "print(output) # Vypíš dekódovanú správu"
   ]
  },
  {
   "cell_type": "markdown",
   "metadata": {},
   "source": [
    "2. Napíšte program, ktorý s využitím zásobníku zvaliduje výraz, obsahujúci párové zátvorky `()`."
   ]
  },
  {
   "cell_type": "code",
   "execution_count": 6,
   "metadata": {},
   "outputs": [
    {
     "name": "stdout",
     "output_type": "stream",
     "text": [
      "Enter an expression: a(2)\n",
      "Valid.\n"
     ]
    }
   ],
   "source": [
    "s = Stack() # Prázdny zásobník\n",
    "\n",
    "expression = input('Enter an expression: ') # Vypýtajme si od užívateľa skúmaný výraz\n",
    "valid = True # Premenná, vyjadrujúca, či je výraz validný z hľadiska kompletnosti zátvoriek. Inicializujeme na True.\n",
    "\n",
    "for character in expression: # Pre každý znak výrazu...\n",
    "    if character == '(': # Ak ide o otváraciu zátvorku\n",
    "        s.push(character) # Pridaj ju do zásobníku\n",
    "        valid = False # A zmeň stav výrazu na nevalidný (otváracia zátvorka ešte nebola ukončená zatváracou)\n",
    "    elif character == ')': # Ak je to zatváracia zátvorka\n",
    "        if not s.is_empty(): # A ak v zásobníku zároveň už je nejaká otváracia zátvorka\n",
    "            valid = True # Prehlás výraz za validný\n",
    "            s.pop() # A tú otváraciu zátvorku zo zásobníka odober\n",
    "        else: # Ak v zásobníku zatiaľ nič nie je a aj tak prišla zatváracia zátvorka\n",
    "            valid = False # Prehlás výraz za nevalidný\n",
    "    \n",
    "print('Valid.' if valid else 'Invalid.') # Výpis výsledku"
   ]
  },
  {
   "cell_type": "markdown",
   "metadata": {},
   "source": [
    "2b. Rozšírte program tak, aby vyhodnotil správnosť uzátvorkovania vo výraze so zátvorkami `()`, `[]`, `{}`."
   ]
  },
  {
   "cell_type": "code",
   "execution_count": 8,
   "metadata": {},
   "outputs": [
    {
     "name": "stdout",
     "output_type": "stream",
     "text": [
      "Enter an expression: a{a]7\n",
      "Invalid.\n"
     ]
    }
   ],
   "source": [
    "s = Stack()\n",
    "\n",
    "expression = input('Enter an expression: ')\n",
    "valid = True\n",
    "\n",
    "for char in expression:\n",
    "    if char in ['(', '[', '{']: # Ak ide o otváraciu zátvorku...\n",
    "        valid = False # Výraz je nevalidný, pretože ešte neprišla zodpovedajúca zatváracia zátvorka\n",
    "        s.push(char) # Šup s ňou do zásobníka\n",
    "        \n",
    "    elif char == ')': # Ak je zatváracia okrúhla\n",
    "        if s.is_empty(): # A zásobník je prázdny\n",
    "            valid = False # Znamená to, že výraz je nadobro nevalidný\n",
    "            break # Skúmanie ďalších znakov nemá zmysel (a je nežiadané)\n",
    "        else: # Ak v zásobníku niečo je...\n",
    "            if s.pop() == '(': # ...a je to tá správna zátvorka\n",
    "                if s.is_empty(): # Tak zhodnoť, či v zásobníku po jej vybratí ešte niečo zostalo\n",
    "                    valid = True # Ak nie, okrúhle zátvorky sú spárované a výraz je zatiaľ validný\n",
    "                else: # Ak tam ale ešte niečo zostalo\n",
    "                    valid = False # Musíme ešte počkať na zatváracie zátvorky toho, čo tam zostalo\n",
    "            else: # Ak to nie je tá správna uzatvárajúca zátvorka (okrúhla)\n",
    "                valid = False # Výraz už je ako celok nevalidný\n",
    "                break # A nič na tom nemožno zmeniť\n",
    "                \n",
    "    elif char == ']': # To isté pre hranaté zátvorky\n",
    "        if s.is_empty():\n",
    "            valid = False\n",
    "            break\n",
    "        else:\n",
    "            if s.pop() == '[':\n",
    "                if s.is_empty():\n",
    "                    valid = True\n",
    "                else:\n",
    "                    valid = False\n",
    "            else:\n",
    "                valid = False\n",
    "                break\n",
    "        \n",
    "    elif char == '}': # To isté pre kučeravé zátvorky\n",
    "        if s.is_empty():\n",
    "            valid = False\n",
    "            break\n",
    "        else:\n",
    "            if s.pop() == '{':\n",
    "                if s.is_empty():\n",
    "                    valid = True\n",
    "                else:\n",
    "                    valid = False\n",
    "            else:\n",
    "                valid = False\n",
    "                break   \n",
    "                \n",
    "print('Valid' if valid else 'Invalid')"
   ]
  },
  {
   "cell_type": "markdown",
   "metadata": {},
   "source": [
    "# Iné abstraktné dátové typy"
   ]
  },
  {
   "cell_type": "markdown",
   "metadata": {},
   "source": [
    "## Lineárny zoznam (zreťazený zoznam)\n",
    "\n",
    "- Ide o množinu prvkov, v ktorej každý pozná *nasledujúci prvok*.\n",
    "    - V prípade tzv. *obojstranne zreťazeného* zoznamu pozná každý prvok i svojho *predchodcu*.\n",
    "- Jednotlivé bunky môžu byť v pamäti uložené na rozličných miestach $-$ nie je nutné alokovať naraz pamäť pre celý zoznam.\n",
    "\n",
    "![Lineárny zoznam](./img/lilist.gif)\n",
    "\n",
    "- Každá bunka pozostáva z dvoch častí: \n",
    "    - Hodnota\n",
    "    - Referencia na ďalší prvok"
   ]
  },
  {
   "cell_type": "code",
   "execution_count": 9,
   "metadata": {},
   "outputs": [],
   "source": [
    "class Node: # Jedna bunka\n",
    "    def __init__(self, value=None, next_node=None):\n",
    "        self.value = value\n",
    "        if type(next_node) is Node:\n",
    "            self.next_node = next_node\n",
    "        else:\n",
    "            self.next_node = None\n",
    "            \n",
    "            \n",
    "class Lilist: # Zreťazený zoznam\n",
    "    def __init__(self, head=None):\n",
    "        if type(head) is Node:\n",
    "            self.head = head\n",
    "        else:\n",
    "            self.head = None\n",
    "            \n",
    "    def n_nodes(self):\n",
    "        n = 0\n",
    "        if self.head is not None:\n",
    "            n = 1\n",
    "            next_node = self.head.next_node\n",
    "            while next_node is not None:\n",
    "                n += 1\n",
    "                next_node = next_node.next_node\n",
    "        \n",
    "        return n\n",
    "    \n",
    "    def to_list(self):\n",
    "        l = []\n",
    "        if self.head is not None:\n",
    "            l.append(self.head.value)\n",
    "            next_node = self.head.next_node\n",
    "            while next_node is not None:\n",
    "                l.append(next_node.value)\n",
    "                next_node = next_node.next_node\n",
    "        return l\n",
    "    \n",
    "    def __repr__(self):\n",
    "        return 'Linked list containing {:d} elements.'.format(self.n_nodes())"
   ]
  },
  {
   "cell_type": "code",
   "execution_count": 10,
   "metadata": {},
   "outputs": [
    {
     "name": "stdout",
     "output_type": "stream",
     "text": [
      "Linked list containing 5 elements.\n",
      "[0, 1, 2, 3, 4]\n"
     ]
    }
   ],
   "source": [
    "n4 = Node(4) # Koncový prvok\n",
    "n3 = Node(3, n4)\n",
    "n2 = Node(2, n3)\n",
    "n1 = Node(1, n2)\n",
    "h = Node(0, n1) # Hlava\n",
    "\n",
    "ll = Lilist(h)\n",
    "print(ll)\n",
    "\n",
    "print(ll.to_list())"
   ]
  },
  {
   "cell_type": "markdown",
   "metadata": {},
   "source": [
    "## Strom\n",
    "\n",
    "- Rozšírenie zreťazeného zoznamu: Každý prvok môže mať *viacero nasledovníkov* (potomkov)\n",
    "- Ustálená terminológia:\n",
    "    * **Koreň (*root node*):** Základný prvok\n",
    "    * **Vetvy (*branch nodes*):** Majú aspoň jedného predka a jedného potomka\n",
    "    * **Listy (*leaf nodes*):** Majú predka, nemajú žiadneho potomka\n",
    "\n",
    "![Strom](./img/strom.gif)"
   ]
  },
  {
   "cell_type": "code",
   "execution_count": 1,
   "metadata": {},
   "outputs": [],
   "source": [
    "class Treenode: # Uzol stromu\n",
    "    def __init__(self, value=None, next_nodes=None):\n",
    "        self.value = value\n",
    "        if isinstance(next_nodes, (list, tuple)) and all([isinstance(a, Treenode) for a in next_nodes]):\n",
    "            self.next_nodes = next_nodes\n",
    "        else:\n",
    "            self.next_nodes = []\n",
    "            \n",
    "    def count_below(self): # Vráti počet hodnôt v podstrome (hlavu podstromu nezapočítava)\n",
    "        n = 0\n",
    "        if self.next_nodes != []:\n",
    "            n += len(self.next_nodes)\n",
    "            for node in self.next_nodes:\n",
    "                n += node.count_below()\n",
    "        return n\n",
    "    \n",
    "    def add_next(self, nodes): # Pridá bunke ďalšieho potomka (ďalších potomkov)\n",
    "        if isinstance(nodes, Treenode):\n",
    "            self.next_nodes.append(nodes)\n",
    "        elif isinstance(nodes, list) and all([isisnstance(a, Treenode) for a in next_nodes]):\n",
    "            self.next_nodes.extend(nodes)\n",
    "        else:\n",
    "            pass\n",
    "\n",
    "class Tree: # Strom\n",
    "    def __init__(self, root=None):\n",
    "        if type(root) is Treenode:\n",
    "            self.root = root\n",
    "        else:\n",
    "            self.root = None"
   ]
  },
  {
   "cell_type": "code",
   "execution_count": 2,
   "metadata": {},
   "outputs": [
    {
     "name": "stdout",
     "output_type": "stream",
     "text": [
      "6\n"
     ]
    }
   ],
   "source": [
    "l1 = Treenode('l1')\n",
    "l2 = Treenode('l2')\n",
    "l3 = Treenode('l3')\n",
    "b1 = Treenode('b1', [l1])\n",
    "b2 = Treenode('b2', [l2, l3])\n",
    "r = Treenode('r', [b1, b2])\n",
    "\n",
    "l4 = Treenode('l4')\n",
    "b1.add_next(l4)\n",
    "\n",
    "tree = Tree(r)\n",
    "print(tree.root.count_below())"
   ]
  },
  {
   "cell_type": "markdown",
   "metadata": {},
   "source": [
    "### Binárny vyhľadávací strom (BST)\n",
    "\n",
    "- **Binárny:** každý uzol má najviac dvoch potomkov.\n",
    "- **Vyhľadávací:** je vhodný na efektívne vyhľadanie hodnoty.\n",
    "\n",
    "- Pre každý uzol: Hodnoty v ľavom podstrome sú menšie než hodnota uzlu. Hodnoty v pravom podstrome sú väčšie než hodnota uzlu.\n",
    "\n",
    "```\n",
    "15\n",
    "    28\n",
    "        35\n",
    "        16\n",
    "    4\n",
    "        5\n",
    "            -\n",
    "            6\n",
    "        8\n",
    "            7\n",
    "            -\n",
    "```\n",
    "\n",
    "#### Algoritmus vyhľadávania v BST\n",
    "\n",
    "- Začiatok v koreni\n",
    "\n",
    "- Porovnaj vyhľadávanú hodnotu s hodnotou uzlu. Podľa výsledku porovnania ďalej:\n",
    "    - *Rovnajú sa* $\\to$ ohlás nájdenie hodnoty\n",
    "    - *Vyhľadávaná hodnota je menšia* $\\to$ prehľadaj ľavý podstrom\n",
    "    - *Vyhľadávaná hodnota je väčšia* $\\to$ prehľadaj pravý podstrom\n",
    "    \n",
    "![BST](./img/bst.gif)"
   ]
  },
  {
   "cell_type": "code",
   "execution_count": 15,
   "metadata": {},
   "outputs": [],
   "source": [
    "class Node_bst:\n",
    "    def __init__(self, value=None, right=None, left=None):\n",
    "        self.value = value\n",
    "        self.right = right\n",
    "        self.left = left\n",
    "        \n",
    "    def add_node(self, node): # Pridanie bunky do BST\n",
    "        if node.value < self.value:\n",
    "            if self.left is None:\n",
    "                self.left = node\n",
    "            else:\n",
    "                self.left.add_node(node)\n",
    "        elif node.value > self.value:\n",
    "            if self.right is None:\n",
    "                self.right = node\n",
    "            else:\n",
    "                self.right.add_node(node)\n",
    "        else:\n",
    "            pass\n",
    "        \n",
    "    def search_for(self, value): # Vyhľadanie hodnoty v BST. Vráti hodnotu, pokiaľ bola nájdená. V opačnom prípade vráti None.\n",
    "        if value == self.value:\n",
    "            return value\n",
    "        elif value > self.value:\n",
    "            if self.right is not None:\n",
    "                return self.right.search_for(value)\n",
    "            else:\n",
    "                return None\n",
    "        else:\n",
    "            if self.left is not None:\n",
    "                return self.left.search_for(value)\n",
    "            else:\n",
    "                return None\n",
    "            \n",
    "        \n",
    "class Bst:\n",
    "    def __init__(self, root=None):\n",
    "        self.root = root\n",
    "        \n",
    "    def add_node(self, node):\n",
    "        self.root.add_node(node)\n",
    "        \n",
    "    def search_for(self, value):\n",
    "        return self.root.search_for(value)"
   ]
  },
  {
   "cell_type": "code",
   "execution_count": 16,
   "metadata": {},
   "outputs": [
    {
     "name": "stdout",
     "output_type": "stream",
     "text": [
      "Root: 10\n",
      "Level 1 right: 15\n",
      "Level 1 left: 5\n",
      "Level 2 left right: 6\n",
      "5\n",
      "15\n",
      "None\n"
     ]
    }
   ],
   "source": [
    "n1 = Node_bst(10)\n",
    "bst = Bst(n1)\n",
    "\n",
    "n21 = Node_bst(15)\n",
    "n22 = Node_bst(5)\n",
    "n31 = Node_bst(6)\n",
    "\n",
    "bst.add_node(n21)\n",
    "bst.add_node(n22)\n",
    "bst.add_node(n31)\n",
    "\n",
    "\n",
    "print('Root: {}'.format(bst.root.value))\n",
    "print('Level 1 right: {}'.format(bst.root.right.value))\n",
    "print('Level 1 left: {}'.format(bst.root.left.value))\n",
    "print('Level 2 left right: {}'.format(bst.root.left.right.value))\n",
    "\n",
    "\n",
    "print(bst.search_for(5))\n",
    "print(bst.search_for(15))\n",
    "print(bst.search_for(7))"
   ]
  },
  {
   "cell_type": "code",
   "execution_count": null,
   "metadata": {},
   "outputs": [],
   "source": []
  }
 ],
 "metadata": {
  "kernelspec": {
   "display_name": "Python 3",
   "language": "python",
   "name": "python3"
  },
  "language_info": {
   "codemirror_mode": {
    "name": "ipython",
    "version": 3
   },
   "file_extension": ".py",
   "mimetype": "text/x-python",
   "name": "python",
   "nbconvert_exporter": "python",
   "pygments_lexer": "ipython3",
   "version": "3.8.5"
  }
 },
 "nbformat": 4,
 "nbformat_minor": 4
}
