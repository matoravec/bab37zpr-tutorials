{
 "cells": [
  {
   "cell_type": "markdown",
   "metadata": {},
   "source": [
    "# Vektorová a maticová matematika bez použitia Numpy\n",
    "\n",
    "## Inicializácia"
   ]
  },
  {
   "cell_type": "code",
   "execution_count": 1,
   "metadata": {},
   "outputs": [],
   "source": [
    "import math\n",
    "import random"
   ]
  },
  {
   "cell_type": "code",
   "execution_count": 2,
   "metadata": {},
   "outputs": [],
   "source": [
    "def randvector(n, start=-100, stop=100, *, dtype='f'):\n",
    "    if start > stop:\n",
    "        raise ValueError('Start value cannot be greater than stop value.')\n",
    "    if dtype == 'f':\n",
    "        return [start + random.random() * (stop - start) for i in range(n)]\n",
    "    elif dtype == 'i':\n",
    "        return [random.randint(int(start), int(stop)) for i in range(n)]\n",
    "    elif dtype == 'c':\n",
    "        return [complex(start + random.random() * (stop - start), start + random.random() * (stop - start)) for i in range(n)]\n",
    "    else:\n",
    "        return"
   ]
  },
  {
   "cell_type": "markdown",
   "metadata": {},
   "source": [
    "----------\n",
    "## Zopár konvencií\n",
    "\n",
    "V tomto notebooku budeme používať bežné matematické výrazy ako *vektor*, *matica* apod. Vzhľadom na to, že dátové typy týchto názvov v čistom *Python*e neexistujú, dohodneme sa na použití nasledujúcich prezývok:\n",
    "\n",
    "| Názov v tomto notebooku | Čo je tým myslené |\n",
    "|:----------------------- | -----------------:|\n",
    "| Vektor | Homogénny zoznam |\n",
    "| Matica | Homogénny zoznam vektorov o jednotnej dĺžke |\n",
    "\n",
    "-------------\n",
    "## Vlastné matematické operácie\n",
    "\n",
    "### 1. Násobenie vektorov\n",
    "\n",
    "#### 1.1 Skalárne\n",
    "\n",
    "Nech $a = (a_0, a_1,\\ldots,a_{N-1})^{\\top}$ a $b = (b_0, b_1,\\ldots,b_{N-1})^{\\top}$ sú vektory. Ich skalárnym súčinom (Ospravedlňujem sa za zanedbávanie všetkých matematických presností, skalárny súčin možno, samozrejme, definovať i inak než euklidovsky) nazveme výraz\n",
    "\n",
    "$$ a \\cdot b = \\sum_{i=0}^{N-1} a_ib_i.$$\n",
    "\n",
    "##### Na čo si treba pri implementácii dávať pozor\n",
    "\n",
    "* Aby vektory skutočne boli vektormi (viď tabuľka vyššie)\n",
    "* Aby mali vektory rovnaký počet prvkov"
   ]
  },
  {
   "cell_type": "code",
   "execution_count": 3,
   "metadata": {},
   "outputs": [],
   "source": [
    "a = randvector(10, dtype='i')\n",
    "b = randvector(10, dtype='i')\n",
    "\n",
    "def ishomo(v):\n",
    "    \"\"\"Judges whether a list is homogeneous.\"\"\"\n",
    "    \n",
    "    return all([type(element) is type(v[0]) for element in v])\n",
    "\n",
    "def dot(a, b):\n",
    "    \"\"\"\n",
    "    Vector dot product.\n",
    "    \n",
    "    Args:\n",
    "        a (list): The first vector. Has to be homogeneous.\n",
    "        b (list): The second vector. Has to be homogeneous.\n",
    "        \n",
    "    Returns:\n",
    "        float or int: Dot product of `a` and `b`.\n",
    "        \n",
    "    Raises:\n",
    "        ValueError: If dimensions mismatch is detected or any of the vectors is heterogeneous.\n",
    "        \n",
    "    \"\"\"\n",
    "    if len(a) != len(b): # Detecting length mismatch\n",
    "        raise ValueError('Dimensions mismatch. Length of a ({:d}) != length of b ({:d})'.format(len(a), len(b)))\n",
    "    elif (not ishomo(a)) or (not ishomo(b)): # Detecting heterogeneity\n",
    "        raise ValueError('Input vectors are not instances of homogeneous list.')\n",
    "    else:\n",
    "        product = 0\n",
    "        for i in range(len(a)):\n",
    "            product += a[i] * b[i]      \n",
    "        return product"
   ]
  },
  {
   "cell_type": "code",
   "execution_count": 4,
   "metadata": {},
   "outputs": [
    {
     "name": "stdout",
     "output_type": "stream",
     "text": [
      "-9592\n"
     ]
    }
   ],
   "source": [
    "print(dot(a, b))"
   ]
  },
  {
   "cell_type": "markdown",
   "metadata": {},
   "source": [
    "#### 1.2 Vektorové\n",
    "\n",
    "* Vektorový súčin bežne definujeme pre vektory v $\\mathbb{R}^3$.\n",
    "* $ a \\times b = \\lVert a\\rVert \\lVert b\\rVert \\sin(\\angle) n_1$, kde $\\angle$ je uhol, ktorý vektory $a$ a $b$ zvierajú a $n_1$ je jednotkový normálový vektor roviny, v ktorej ležia oba činitele. Smer vektoru $n$ je daný pravidlom pravej ruky.\n",
    "* Praktický výpočet: definícia pomocou formálneho determinantu\n",
    "\n",
    "$$a\\times b=\\left\\lvert\\begin{array}{ccc}i&j&k\\\\ a_1&a_2&a_3\\\\ b_1&b_2&b_3\\end{array}\\right\\rvert$$\n",
    "\n",
    "kde $i$, $j$, $k$ je štandardná báza $\\mathbb{R}^3$.\n",
    "\n",
    "##### Na čo si treba pri implementácii dávať pozor\n",
    "\n",
    "* Homogenita vstupných polí\n",
    "* Dátový typ ich prvkov (vektorový súčin definovaný nad reálnymi číslami)\n",
    "* Počet prvkov vstupných vektorov (oba by mali byť trojprvkové)"
   ]
  },
  {
   "cell_type": "code",
   "execution_count": 5,
   "metadata": {},
   "outputs": [],
   "source": [
    "def cross(a, b):\n",
    "    \"\"\"\n",
    "    Vector cross product\n",
    "    \n",
    "    Args:\n",
    "        a (list): The first vector. Has to be homogeneous.\n",
    "        b (list): The second vector. Has to be homogeneous.\n",
    "        \n",
    "    Returns:\n",
    "        list: Homogeneous list containing three values.\n",
    "        \n",
    "    \"\"\"\n",
    "    if (not ishomo(a)) or (not ishomo(b)): # Detecting heterogeneity\n",
    "        raise ValueError('Input vectors are not instances of homogeneous list.')\n",
    "    if not (len(a) == 3 and len(b) == 3): # Detecting length mismatch\n",
    "        raise ValueError('Each of the input vectors has to contain exactly 3 elements.')\n",
    "    else:\n",
    "        return [a[1] * b[2] - a[2] * b[0],\\\n",
    "                a[2] * b[0] - a[0] * b[2],\\\n",
    "                a[0] * b[1] - a[1] * b[0]]"
   ]
  },
  {
   "cell_type": "code",
   "execution_count": 6,
   "metadata": {},
   "outputs": [
    {
     "name": "stdout",
     "output_type": "stream",
     "text": [
      "[7, 9, -18]\n"
     ]
    }
   ],
   "source": [
    "a = randvector(3, 0, 10, dtype='i')\n",
    "b = randvector(3, 0, 10, dtype='i')\n",
    "\n",
    "print(cross(a, b))"
   ]
  },
  {
   "cell_type": "markdown",
   "metadata": {},
   "source": [
    "----------\n",
    "### 2 Násobenie matíc\n",
    "\n",
    "#### 2.1 Po prvkoch\n",
    "\n",
    "* Rozmery všetkých matíc, vstupujúcich i vystupujúcich, musia byť rovnaké."
   ]
  },
  {
   "cell_type": "code",
   "execution_count": 7,
   "metadata": {},
   "outputs": [],
   "source": [
    "def mat_prod_ew(*matrices):\n",
    "    \"\"\"\n",
    "    Element-wise matrix multiplication.\n",
    "    \n",
    "    Args:\n",
    "        matrices (list of list each): Matrices to be multiplied, each one as a distinct argument\n",
    "        \n",
    "    Returns:\n",
    "        list of list: Element-wise product of the matrices\n",
    "        \n",
    "    \"\"\"\n",
    "    n_matrices = len(matrices) # Number of matrices to multiply\n",
    "    n_rows = [len(matrices[i]) for i in range(n_matrices)]\n",
    "    if not all([n_rows[0] == n for n in n_rows]):\n",
    "        raise ValueError('All the input matrices have to have the same number of rows. Row counts of the actual matrices are: {}'.format(n_rows))\n",
    "    else:\n",
    "        n_columns = []\n",
    "        for matrix in matrices:\n",
    "            for row in matrix:\n",
    "                n_columns.append(len(row))\n",
    "        if not all([n_columns[0] == n for n in n_columns]):\n",
    "            raise ValueError('Each of the input matrices has to have each of its rows of the same length. The rowlength has to be the same for all the input matrices.')\n",
    "        else:\n",
    "            ewp = [[1] * n_columns[0] for r in range(n_rows[0])] # Initializing\n",
    "            for r in range(n_rows[0]):\n",
    "                for c in range(n_columns[0]):\n",
    "                    for matrix in range(n_matrices):\n",
    "                        ewp[r][c] *= matrices[matrix][r][c]\n",
    "                        \n",
    "            return ewp\n",
    "        print(ewp)"
   ]
  },
  {
   "cell_type": "code",
   "execution_count": 8,
   "metadata": {},
   "outputs": [
    {
     "data": {
      "text/plain": [
       "[[126, 560, 0, 240, 0],\n",
       " [108, 72, 180, 90, 630],\n",
       " [441, 0, 20, 72, 0],\n",
       " [0, 32, 15, 70, 600],\n",
       " [189, 108, 160, 160, 4],\n",
       " [0, 126, 216, 0, 640]]"
      ]
     },
     "execution_count": 8,
     "metadata": {},
     "output_type": "execute_result"
    }
   ],
   "source": [
    "m1 = [randvector(5, 0, 10, dtype='i') for i in range(6)]\n",
    "m2 = [randvector(5, 0, 10, dtype='i') for i in range(6)]\n",
    "m3 = [randvector(5, 0, 10, dtype='i') for i in range(6)]\n",
    "mat_prod_ew(m1, m2, m3)"
   ]
  },
  {
   "cell_type": "markdown",
   "metadata": {},
   "source": [
    "#### 2.2 Maticovo\n",
    "\n",
    "Majme matice\n",
    "\n",
    "$$A = \\left[ \\begin{array}{cccc} A_{0,0}&A_{0,1}&\\cdots &A_{0,c_A-1}\\\\ A_{1,0}&A_{1,1}&\\cdots &A_{1,c_A-1}\\\\ \\vdots&\\vdots&\\ddots&\\vdots\\\\ A_{r_A-1,0}&A_{r_A-1,1}&\\cdots &A_{r_A-1,c_A-1}\\\\  \\end{array} \\right]\\hspace{2cm} B = \\left[ \\begin{array}{cccc} B_{0,0}&B_{0,1}&\\cdots &B_{0,c_B-1}\\\\ B_{1,0}&B_{1,1}&\\cdots &B_{1,c_B-1}\\\\ \\vdots&\\vdots&\\ddots&\\vdots\\\\ B_{r_B-1,0}&B_{r_B-1,1}&\\cdots &B_{r_B-1,c_B-1}\\\\  \\end{array} \\right],$$\n",
    "\n",
    "kde $r_A, c_A, r_B$ a $c_B$ sú počty riadkov a stĺpcov v maticiach $A$ a $B$.\n",
    "\n",
    "Pokiaľ platí, že $c_A = r_B$, maticový súčin $A\\cdot B$ definujeme ako maticu $P$ o rozmeroch $r_A\\times c_B$, ktorej prvky sú\n",
    "\n",
    "$$ P_{i,k} = \\sum_{j=0}^{c_A - 1} A_{i,j}B_{j,k}.$$\n",
    "\n",
    "##### Na čo si dať pri implementácii pozor \n",
    "\n",
    "* Rozmery vstupných matíc"
   ]
  },
  {
   "cell_type": "code",
   "execution_count": 9,
   "metadata": {},
   "outputs": [],
   "source": [
    "def isfull(m):\n",
    "    \"\"\"Checks whether the given list of lists has the same number of elements in each of its sublists. \"\"\"\n",
    "    if all([type(element) is list for element in m]) and all([ishomo(element) for element in m]):\n",
    "        if all([len(element) == len(m[0]) for element in m]):\n",
    "            return True\n",
    "        else:\n",
    "            return False\n",
    "    else:\n",
    "        raise ValueError('Argument m has to be a homogeneous list of homogeneous lists.')"
   ]
  },
  {
   "cell_type": "code",
   "execution_count": 10,
   "metadata": {},
   "outputs": [],
   "source": [
    "def mat_prod(A, B):\n",
    "    \"\"\"\n",
    "    Matrix product A . B.\n",
    "    \n",
    "    Args:\n",
    "        A (list of list): The first (left) matrix. Expected shape is i * j.\n",
    "        B (list of list): The second (right) matrix. Expected shape is j * k.\n",
    "        \n",
    "    Returns:\n",
    "        list of list: Matrix of shape i * k\n",
    "        \n",
    "    \"\"\"\n",
    "    if (not isfull(A)) or (not isfull(B)):\n",
    "        raise ValueError('Both the A and the B arguments have to be homogeneous lists of homogeneous lists. For both of them, number of elements in each of their sublists has to be the same for all its sublists.')\n",
    "    elif not (isinstance(A[0][0], int) or isinstance(A[0][0], float) or isinstance(A[0][0], complex)):\n",
    "        raise ValueError('Elements of the input matrices have to be of one of {int, float, complex} types.')\n",
    "    elif not (isinstance(B[0][0], int) or isinstance(B[0][0], float) or isinstance(B[0][0], complex)):\n",
    "        raise ValueError('Elements of the input matrices have to be of one of {int, float, complex} types.')\n",
    "    elif len(A[0]) != len(B):\n",
    "        raise ValueError('Number of columns of the matrix A ({:d}) has to be equal to number of rows of the matrix B ({:d}).'.format(len(A[0])), len(B))\n",
    "    else:\n",
    "        product = [len(B[0]) * [0] for i in range(len(A))] # Initialization\n",
    "        for i in range(len(A)):\n",
    "            for k in range(len(B[0])):\n",
    "                for j in range(len(B)):\n",
    "                    product[i][k] += A[i][j] * B[j][k]\n",
    "        return product"
   ]
  },
  {
   "cell_type": "code",
   "execution_count": 11,
   "metadata": {},
   "outputs": [
    {
     "name": "stdout",
     "output_type": "stream",
     "text": [
      "[[3, 5, 8, 2, 7, 6], [9, 7, 6, 9, 6, 5], [6, 1, 9, 6, 0, 8]]\n",
      "[[10, 8, 9], [0, 3, 6], [2, 1, 9], [0, 7, 10], [0, 0, 4], [10, 1, 9]]\n",
      "[[106, 67, 231], [152, 167, 336], [158, 110, 273]]\n"
     ]
    }
   ],
   "source": [
    "m1 = [randvector(3, 0, 10, dtype='i') for i in range(6)]\n",
    "m2 = [randvector(6, 0, 10, dtype='i') for i in range(3)]\n",
    "\n",
    "print(m2)\n",
    "print(m1)\n",
    "\n",
    "p = mat_prod(m2, m1)\n",
    "\n",
    "print(p)"
   ]
  },
  {
   "cell_type": "markdown",
   "metadata": {},
   "source": [
    "---------\n",
    "##### Try - except - finally\n",
    "\n",
    "* Ošetrovanie vstupov nie je nutné robiť iba pomocou podmienok (`if`)\n",
    "* Pokiaľ vieme, že program, ktorému nebudú poskytnuté korektné vstupy skončí chybou, môžeme použiť vyhodnotenie pomocou `try` - `except` - `finally`:\n",
    "\n",
    "```python\n",
    "try:\n",
    "    <Program, ktorý chceme uskutočniť>\n",
    "except <Voliteľne: konkrétny názov výnimky>:\n",
    "    <Program, ktorý bude uskutočnený v prípade chyby>\n",
    "finally: # Nemusí byť prítomné, je to voliteľný príkaz\n",
    "    <Program, ktorý bude uskutočnený v ktoromkoľvek prípade>\n",
    "```"
   ]
  },
  {
   "cell_type": "code",
   "execution_count": 12,
   "metadata": {},
   "outputs": [],
   "source": [
    "def mat_prod(A, B):\n",
    "    \"\"\"\n",
    "    Matrix product A . B.\n",
    "    \n",
    "    Args:\n",
    "        A (list of list): The first (left) matrix. Expected shape is i * j.\n",
    "        B (list of list): The second (right) matrix. Expected shape is j * k.\n",
    "        \n",
    "    Returns:\n",
    "        list of list: Matrix of shape i * k\n",
    "        \n",
    "    \"\"\"\n",
    "    try:\n",
    "        product = [len(B[0]) * [0] for i in range(len(A))] # Initialization\n",
    "        for i in range(len(A)):\n",
    "            for k in range(len(B[0])):\n",
    "                for j in range(len(B)):\n",
    "                    product[i][k] += A[i][j] * B[j][k]\n",
    "        return product\n",
    "    except:\n",
    "        print('Something got wrong.') # Use more explanatory statement."
   ]
  },
  {
   "cell_type": "code",
   "execution_count": 13,
   "metadata": {},
   "outputs": [
    {
     "name": "stdout",
     "output_type": "stream",
     "text": [
      "[[10, 10, 7, 8, 9, 8], [10, 2, 0, 2, 10, 4], [4, 5, 3, 3, 7, 2]]\n",
      "[[0, 9, 9], [3, 9, 5], [0, 9, 5], [2, 1, 6], [8, 7, 4], [10, 2, 10]]\n",
      "Something got wrong.\n",
      "None\n",
      "[[198, 330, 339], [130, 188, 192], [97, 164, 142]]\n"
     ]
    }
   ],
   "source": [
    "m1 = [randvector(3, 0, 10, dtype='i') for i in range(6)]\n",
    "m2 = [randvector(6, 0, 10, dtype='i') for i in range(3)]\n",
    "\n",
    "print(m2)\n",
    "print(m1)\n",
    "\n",
    "p = mat_prod(m1, m1)\n",
    "\n",
    "print(p)\n",
    "\n",
    "p = mat_prod(m2, m1)\n",
    "\n",
    "print(p)"
   ]
  },
  {
   "cell_type": "markdown",
   "metadata": {},
   "source": [
    "-----\n",
    "## A na čo to možno použiť?\n",
    "\n",
    "* Cieľom bolo skôr naučiť sa používať výnimky (*Exceptions*) a ošetrovať program pred neželanými vstupmi\n",
    "* Využitie sa, samozrejme, ponúka kdekoľvek, kde je treba násobiť vektory či matice, k dispozícii sú však i omnoho efektívnejšie implementácie\n",
    "    * **Balíček itertools** ([dokumentácia](https://docs.python.org/3/library/itertools.html))\n",
    "    * **Balíček Numpy** ([dokumentácia](https://numpy.org/doc/stable/)), ktorý je dnes na desktopoch pre vektorové operácie výrazne preferovaný\n",
    "        * Niektoré jeho funkcie sú predkompilovaným kódom v C\n",
    "        * Dosahuje niekoľkonásobne vyššie rýchlosti než použitie čistého *Python*u."
   ]
  },
  {
   "cell_type": "code",
   "execution_count": null,
   "metadata": {},
   "outputs": [],
   "source": []
  }
 ],
 "metadata": {
  "kernelspec": {
   "display_name": "Python 3",
   "language": "python",
   "name": "python3"
  },
  "language_info": {
   "codemirror_mode": {
    "name": "ipython",
    "version": 3
   },
   "file_extension": ".py",
   "mimetype": "text/x-python",
   "name": "python",
   "nbconvert_exporter": "python",
   "pygments_lexer": "ipython3",
   "version": "3.8.5"
  }
 },
 "nbformat": 4,
 "nbformat_minor": 4
}
