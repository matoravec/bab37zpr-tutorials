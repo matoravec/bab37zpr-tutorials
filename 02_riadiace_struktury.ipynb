{
 "cells": [
  {
   "cell_type": "markdown",
   "metadata": {},
   "source": [
    "# Riadiace štruktúry\n",
    "\n",
    "------------\n",
    "\n",
    "## Inicializácia\n",
    "\n",
    "----------\n",
    "\n",
    "> Pre správne zobrazenie interaktívnych grafov a symbolického výpočtu v tomto notebooku je nutné mať nainštalované balíčky `matplotlib`, `numpy`, `ipympl`, `ipywidgets` a `sympy` (Inštalácia pomocou *pip*) a tiež povoliť *ipywidgets* doplnok v *Jupyter notebook*:\n",
    "> ```\n",
    "> jupyter nbextension enable --py widgetsnbextension\n",
    "> ```"
   ]
  },
  {
   "cell_type": "code",
   "execution_count": 3,
   "metadata": {},
   "outputs": [],
   "source": [
    "import math\n",
    "import ipywidgets as widgets\n",
    "import numpy as np\n",
    "import matplotlib.pyplot as plt\n",
    "from sympy import *\n",
    "%matplotlib inline"
   ]
  },
  {
   "cell_type": "markdown",
   "metadata": {},
   "source": [
    "## Názorná ukážka, o čo dnes pôjde\n",
    "\n",
    "-----------\n",
    "\n",
    "- *Príklad*: výpočet plochy pod grafom funkcie $y=2\\sin(5x) - \\frac{x}{6}$ na intervale $\\langle0,\\,2\\pi\\rangle$\n",
    "\n",
    "![Čo chceme vypočítať](img/y_fill.png)"
   ]
  },
  {
   "cell_type": "code",
   "execution_count": 4,
   "metadata": {},
   "outputs": [
    {
     "data": {
      "application/vnd.jupyter.widget-view+json": {
       "model_id": "11b6038302be48578c2edc73aae2666b",
       "version_major": 2,
       "version_minor": 0
      },
      "text/plain": [
       "interactive(children=(IntSlider(value=10, description='n', max=200, min=2, step=6), Output()), _dom_classes=('…"
      ]
     },
     "metadata": {},
     "output_type": "display_data"
    }
   ],
   "source": [
    "x = np.linspace(0, 2 * np.pi, num=200)\n",
    "y = 2 * np.sin(5 * x) - x / 6\n",
    "\n",
    "def update(n=10):\n",
    "    fig, ax = plt.subplots(figsize=(13, 6))\n",
    "    ax.set_xlabel('x')\n",
    "    ax.set_ylabel('y')\n",
    "    \n",
    "    x_stairs = np.linspace(0, 2 * np.pi, num=n)\n",
    "    y_stairs = 2 * np.sin(5 * x_stairs) - x_stairs / 6\n",
    "    \n",
    "    x_step = x_stairs[1] - x_stairs[0]\n",
    "    area = np.sum(y_stairs * x_step)\n",
    "    \n",
    "    ax.plot(x, y, lw=3, c='r')\n",
    "    ax.fill_between(x_stairs, y_stairs, step='pre', alpha=.5)\n",
    "    ax.plot(x_stairs, y_stairs, ds='steps', lw=3)\n",
    "    \n",
    "    \n",
    "    plt.title('Počet krokov: {:d}{}Vypočítaná plocha: {:.5f}'.format(n - 1, 10 * ' ', area), fontdict={'fontsize': 25})\n",
    "\n",
    "    fig.canvas.draw()\n",
    "\n",
    "widgets.interact(update, n=(2, 200, 6));"
   ]
  },
  {
   "cell_type": "markdown",
   "metadata": {},
   "source": [
    "### Výpočet\n",
    "\n",
    "- Presný: [Riemannov integrál](https://en.wikipedia.org/wiki/Riemann_integral)"
   ]
  },
  {
   "cell_type": "code",
   "execution_count": 5,
   "metadata": {},
   "outputs": [
    {
     "data": {
      "text/latex": [
       "$\\displaystyle -3.28986813369645$"
      ],
      "text/plain": [
       "-3.28986813369645"
      ]
     },
     "execution_count": 5,
     "metadata": {},
     "output_type": "execute_result"
    }
   ],
   "source": [
    "# Using sympy\n",
    "x = symbols('x')\n",
    "integrate(2 * sin(5 * x) - x / 6, (x, 0, 2 * np.pi))"
   ]
  },
  {
   "cell_type": "markdown",
   "metadata": {},
   "source": [
    "- Odhad: Integrálny súčet na konečnom delení intervalu\n",
    "\n",
    "#### Riešenie č. 1\n",
    "\n",
    "- Pripomeňme si predpis funkcie: $y=2\\sin(5x) - \\frac{x}{6}$ a interval, na ktorom plochu počítame $\\langle0,\\,2\\pi\\rangle$"
   ]
  },
  {
   "cell_type": "code",
   "execution_count": 6,
   "metadata": {},
   "outputs": [
    {
     "name": "stdout",
     "output_type": "stream",
     "text": [
      "-4.9348022005446825\n"
     ]
    }
   ],
   "source": [
    "# An uniform partition of the interval\n",
    "x1 = 0.\n",
    "x2 = math.pi\n",
    "x3 = 2 * math.pi\n",
    "\n",
    "# Function values at the points of the partition\n",
    "y1 = 2 * math.sin(5 * x1) - x1 / 6\n",
    "y2 = 2 * math.sin(5 * x2) - x2 / 6\n",
    "y3 = 2 * math.sin(5 * x3) - x3 / 6\n",
    "\n",
    "# Sum of the rectangle areas\n",
    "area = (x2 - x1) * y2 + (x3 - x2) * y3\n",
    "\n",
    "print(area)"
   ]
  },
  {
   "cell_type": "markdown",
   "metadata": {},
   "source": [
    "- Aj pre veľmi hrubé delenie intervalu je toto riešenie *veľmi zdĺhavé*\n",
    "    - Prepisovanie veľmi podobných častí kódu niekoľkokrát za sebou\n",
    "    \n",
    "#### Riešenie č. 2"
   ]
  },
  {
   "cell_type": "code",
   "execution_count": 7,
   "metadata": {},
   "outputs": [
    {
     "name": "stdout",
     "output_type": "stream",
     "text": [
      "-3.289884583037101\n"
     ]
    }
   ],
   "source": [
    "def linspace(start, stop, n):\n",
    "    '''\n",
    "    We do not have to calculate the points of a partition by hand!\n",
    "    '''\n",
    "    i = 1\n",
    "    while i <= n:\n",
    "        yield start + i * (stop - start) / n\n",
    "        i += 1\n",
    "        \n",
    "xs = list(linspace(0, 2 * math.pi, int(2e5))) # One variable now serves for 200 000 values!\n",
    "ys = [] # An empty variable of type 'list'\n",
    "\n",
    "for x in xs: # We use a loop to perform the same operation many times\n",
    "    ys.append(2 * math.sin(5 * x) - x / 6)\n",
    "    \n",
    "if len(xs) != len(ys): # Are the lists of the same length?\n",
    "    print('Lists xs and ys contain different number of elements!')\n",
    "\n",
    "area = 0.\n",
    "for i in range(len(xs)):\n",
    "    step = xs[1] - xs[0]\n",
    "    area += ys[i] * step\n",
    "    \n",
    "print(area)"
   ]
  },
  {
   "cell_type": "markdown",
   "metadata": {},
   "source": [
    "- Použitie rôznych **typov** premenných na rôzne účely\n",
    "- Použitie **cyklov** na opakovanie podobných operácií mnohokrát\n",
    "- Použitie **funkcií** a **generátorov** na zapuzdrenie podprogramov\n",
    "- **Parametrizácia** a **modularita** celého programu"
   ]
  },
  {
   "cell_type": "markdown",
   "metadata": {},
   "source": [
    "## Vetvenie programu\n",
    "\n",
    "-----------\n",
    "\n",
    "- Viacero možností prechodu programom v závislosti na určitých *podmienkach*.\n",
    "\n",
    "### Podmienka *if*\n",
    "\n",
    "```python\n",
    "if logický_výraz:\n",
    "    <príkaz>\n",
    "    <príkaz>\n",
    "    ...\n",
    "    <príkaz>\n",
    "```\n",
    "\n",
    "#### Príklad: Výpis, či je v premennej _a_ uložené celé číslo"
   ]
  },
  {
   "cell_type": "code",
   "execution_count": 8,
   "metadata": {},
   "outputs": [],
   "source": [
    "a = 'b'\n",
    "if type(a) is int:\n",
    "    print('Variable a represents an integer.')"
   ]
  },
  {
   "cell_type": "markdown",
   "metadata": {},
   "source": [
    "### Podmienka *if* $-$ *else*\n",
    "\n",
    "```python\n",
    "if logický_výraz:\n",
    "    <príkaz>\n",
    "    <príkaz>\n",
    "    ...\n",
    "    <príkaz>\n",
    "else:\n",
    "    <príkaz>\n",
    "    <príkaz>\n",
    "    ...\n",
    "    <príkaz>\n",
    "```\n",
    "\n",
    "#### Príklad: Porovnanie dvoch celých čísel"
   ]
  },
  {
   "cell_type": "code",
   "execution_count": 9,
   "metadata": {},
   "outputs": [
    {
     "name": "stdout",
     "output_type": "stream",
     "text": [
      "a <= b\n"
     ]
    }
   ],
   "source": [
    "a = 5\n",
    "b = 7\n",
    "\n",
    "if a > b:\n",
    "    print('a > b')\n",
    "else:\n",
    "    print('a <= b')"
   ]
  },
  {
   "cell_type": "markdown",
   "metadata": {},
   "source": [
    "### Podmienka *if* $-$ *elif* $-$ *else*\n",
    "\n",
    "```python\n",
    "if logický_výraz:\n",
    "    <príkaz>\n",
    "    <príkaz>\n",
    "    ...\n",
    "    <príkaz>\n",
    "elif logický_výraz:\n",
    "    <príkaz>\n",
    "    <príkaz>\n",
    "    ...\n",
    "    <príkaz>\n",
    "...\n",
    "else:\n",
    "    <príkaz>\n",
    "    <príkaz>\n",
    "    ...\n",
    "    <príkaz>\n",
    "```\n",
    "\n",
    "#### Príklad: Porovnanie dvoch celých čísel"
   ]
  },
  {
   "cell_type": "code",
   "execution_count": 10,
   "metadata": {},
   "outputs": [
    {
     "name": "stdout",
     "output_type": "stream",
     "text": [
      "a < b\n"
     ]
    }
   ],
   "source": [
    "a = 5\n",
    "b = 7\n",
    "\n",
    "if a > b:\n",
    "    print('a > b')\n",
    "elif a == b:\n",
    "    print('a = b')\n",
    "else:\n",
    "    print('a < b')"
   ]
  },
  {
   "cell_type": "markdown",
   "metadata": {},
   "source": [
    "> **Úloha 1**: (2 min)\n",
    "> - Máme k dispozícii program, ktorý si od užívateľa vypýta celé čislo. Dopíšte do neho výpis reťazca `'Even'` v prípade, že ide o párne (sudé) číslo a výpis reťazca `'Odd'` v prípade, že ide o nepárne (liché) číslo."
   ]
  },
  {
   "cell_type": "code",
   "execution_count": 11,
   "metadata": {},
   "outputs": [
    {
     "name": "stdout",
     "output_type": "stream",
     "text": [
      "Enter an integer: 7\n"
     ]
    }
   ],
   "source": [
    "n = int(input('Enter an integer: '))\n",
    "\n",
    "##################\n",
    "# Your code here #\n",
    "##################"
   ]
  },
  {
   "cell_type": "markdown",
   "metadata": {},
   "source": [
    "> **Riešenie:**"
   ]
  },
  {
   "cell_type": "code",
   "execution_count": 12,
   "metadata": {
    "scrolled": true
   },
   "outputs": [
    {
     "name": "stdout",
     "output_type": "stream",
     "text": [
      "Enter an integer: 7\n",
      "Odd\n"
     ]
    }
   ],
   "source": [
    "n = int(input('Enter an integer: '))\n",
    "\n",
    "if n % 2 == 0:\n",
    "    print('Even')\n",
    "else:\n",
    "    print('Odd')"
   ]
  },
  {
   "cell_type": "markdown",
   "metadata": {},
   "source": [
    "## Cykly\n",
    "\n",
    "-----------------\n",
    "\n",
    "- Opakovanie podprogramu viackrát\n",
    "\n",
    "### Cyklus *for*\n",
    "\n",
    "- Pre vopred známy počet opakovaní\n",
    "\n",
    "```python\n",
    "for <premenná> in <iterovateľný_objekt>:\n",
    "    <príkaz>\n",
    "    <príkaz>\n",
    "    ...\n",
    "    <príkaz>\n",
    "```\n",
    "\n",
    "#### Príklad: Výpis 7 trpaslíkov"
   ]
  },
  {
   "cell_type": "code",
   "execution_count": 13,
   "metadata": {},
   "outputs": [
    {
     "name": "stdout",
     "output_type": "stream",
     "text": [
      "trpaslík 1\n",
      "trpaslík 2\n",
      "trpaslík 3\n",
      "trpaslík 4\n",
      "trpaslík 5\n",
      "trpaslík 6\n",
      "trpaslík 7\n"
     ]
    }
   ],
   "source": [
    "for i in range(7):\n",
    "    print('trpaslík ' + str(i + 1))"
   ]
  },
  {
   "cell_type": "markdown",
   "metadata": {},
   "source": [
    "### Cyklus *while*\n",
    "\n",
    "- Typicky pre vopred neznámy alebo nekonečný počet opakovaní\n",
    "\n",
    "```python\n",
    "while <logický_výraz_vyhodnocovaný_v_každom_cykle>:\n",
    "    <príkaz>\n",
    "    <príkaz>\n",
    "    ...\n",
    "    <príkaz>\n",
    "```\n",
    "\n",
    "- Možnosť vystúpiť z cyklu: príkaz `break`.\n",
    "\n",
    "#### Príklad: Detekcia hrušky medzi jablkami"
   ]
  },
  {
   "cell_type": "code",
   "execution_count": 14,
   "metadata": {},
   "outputs": [
    {
     "name": "stdout",
     "output_type": "stream",
     "text": [
      "apple\n",
      "apple\n",
      "apple\n",
      "apple\n",
      "apple\n",
      ">>>>>>>>>>>>>>>>>pear<<<<<<<<<<<<<<<<<<<<\n"
     ]
    }
   ],
   "source": [
    "def fruit(n_pieces):\n",
    "    for i in range(n_pieces):\n",
    "        yield np.random.choice(['apple', 'pear'], p=[.9, .1])\n",
    "        \n",
    "fruitgen = fruit(10000)\n",
    "\n",
    "f = ''\n",
    "while True:\n",
    "    f = next(fruitgen)\n",
    "    if f == 'apple':\n",
    "        print('apple')\n",
    "    else:\n",
    "        print('>>>>>>>>>>>>>>>>>pear<<<<<<<<<<<<<<<<<<<<')\n",
    "        break\n"
   ]
  },
  {
   "cell_type": "markdown",
   "metadata": {},
   "source": [
    "## Príklady z [CW](https://cw.fel.cvut.cz/wiki/courses/bab37zpr/tutorials/lab02)\n",
    "\n",
    "-----------------\n",
    "\n",
    "1. Vypíšte čísla od 1 do 10 s využitím cyklu `for`"
   ]
  },
  {
   "cell_type": "code",
   "execution_count": 15,
   "metadata": {},
   "outputs": [
    {
     "name": "stdout",
     "output_type": "stream",
     "text": [
      "1\n",
      "2\n",
      "3\n",
      "4\n",
      "5\n",
      "6\n",
      "7\n",
      "8\n",
      "9\n",
      "10\n"
     ]
    }
   ],
   "source": [
    "for i in range(10):\n",
    "    print(i + 1)"
   ]
  },
  {
   "cell_type": "markdown",
   "metadata": {},
   "source": [
    "2. Vypíšte čísla od 1 do 10 s využitím cyklu `while`"
   ]
  },
  {
   "cell_type": "code",
   "execution_count": 16,
   "metadata": {},
   "outputs": [
    {
     "name": "stdout",
     "output_type": "stream",
     "text": [
      "1\n",
      "2\n",
      "3\n",
      "4\n",
      "5\n",
      "6\n",
      "7\n",
      "8\n",
      "9\n",
      "10\n"
     ]
    }
   ],
   "source": [
    "i = 1\n",
    "while i <= 10:\n",
    "    print(i)\n",
    "    i += 1"
   ]
  },
  {
   "cell_type": "markdown",
   "metadata": {},
   "source": [
    "3. Vypíšte všetky párne čísla od 1 do $n$, kde $n$ zadá užívateľ"
   ]
  },
  {
   "cell_type": "code",
   "execution_count": 17,
   "metadata": {},
   "outputs": [
    {
     "name": "stdout",
     "output_type": "stream",
     "text": [
      "Zadaj n: 8\n",
      "[2, 4, 6, 8]\n"
     ]
    }
   ],
   "source": [
    "n = int(input('Zadaj n: '))\n",
    "even = []\n",
    "\n",
    "for i in range(1, n + 1):\n",
    "    if not i % 2:\n",
    "        even.append(i)\n",
    "\n",
    "print(even)"
   ]
  },
  {
   "cell_type": "markdown",
   "metadata": {},
   "source": [
    "4. Vypíšte súčin všetkých čísel z predchádzajúceho kroku"
   ]
  },
  {
   "cell_type": "code",
   "execution_count": 19,
   "metadata": {},
   "outputs": [
    {
     "name": "stdout",
     "output_type": "stream",
     "text": [
      "384\n"
     ]
    }
   ],
   "source": [
    "if len(even) < 1:\n",
    "    print('There are no numbers in the list.')\n",
    "else:\n",
    "    product = 1\n",
    "    for number in even:\n",
    "        product *= number\n",
    "    print(product)"
   ]
  },
  {
   "cell_type": "markdown",
   "metadata": {},
   "source": [
    "5. Vypíšte rad $n$ čísel v tvare $1, -1, 1, -1, \\ldots$"
   ]
  },
  {
   "cell_type": "code",
   "execution_count": 20,
   "metadata": {},
   "outputs": [
    {
     "name": "stdout",
     "output_type": "stream",
     "text": [
      "1,-1,1,-1,1,-1,1,-1,1,-1,1,-1,1,-1,1,-1,1,-1,1,-1,1,-1,1,-1,1,-1,1,-1,1,-1,1,-1,1,-1,1,-1,1,-1,1,-1,1,-1,1,-1,1,-1,1,-1,1,-1,1,-1,1,-1,1,-1,1,-1,1,-1,1,-1,1,-1,1,-1,1,-1,1,-1,1,-1,1,-1,1,-1,1,-1,1,-1,1,-1,1,-1,1,-1,1,-1,1,-1,1,-1,1,-1,1,-1,1,-1,1,-1\n"
     ]
    }
   ],
   "source": [
    "n = 100\n",
    "series = ''\n",
    "for i in range(n - 1):\n",
    "    series += str((-1)**i) + ','\n",
    "series += str((-1)**(n - 1))\n",
    "    \n",
    "print(series)"
   ]
  },
  {
   "cell_type": "markdown",
   "metadata": {},
   "source": [
    "6. Napíšte program, ktorý umožní výpočet Ludolfovho čísla ako súčtu Leibnizovho radu $$\\pi=4\\sum^{\\infty}_{k=0}\\frac{(-1)^k}{2k+1}$$"
   ]
  },
  {
   "cell_type": "code",
   "execution_count": 130,
   "metadata": {},
   "outputs": [
    {
     "name": "stdout",
     "output_type": "stream",
     "text": [
      "pi: 3.1315929035585537\n"
     ]
    }
   ],
   "source": [
    "infinity = int(1e2)\n",
    "pi = 0\n",
    "\n",
    "for k in range(infinity):\n",
    "    pi += 4 * (-1)**k / (2 * k + 1)\n",
    "    \n",
    "print('pi: ' + str(pi))"
   ]
  },
  {
   "cell_type": "markdown",
   "metadata": {},
   "source": [
    "## Funkcie\n",
    "\n",
    "------------\n",
    "\n",
    "<img src=\"img/funkcie_nacrt/funkcie_nacrt.png\" width=\"600\"/>\n",
    "\n",
    "- **Opakované použitie** časti kódu\n",
    "\n",
    "```python\n",
    "def <názov_funkcie>(<parametre_funkcie>):\n",
    "    <príkaz>\n",
    "    <príkaz>\n",
    "    ...\n",
    "    <príkaz>\n",
    "    \n",
    "    return <výstup>\n",
    "```\n",
    "#### Príklad: Funkcia na výpočet obsahu trojuholníka z dĺžky jeho strán"
   ]
  },
  {
   "cell_type": "code",
   "execution_count": 21,
   "metadata": {},
   "outputs": [],
   "source": [
    "def heron(a, b, c):\n",
    "    s = (a + b + c) / 2\n",
    "    A = math.sqrt(s * (s-a) * (s-b) * (s-c))\n",
    "    \n",
    "    return A"
   ]
  },
  {
   "cell_type": "code",
   "execution_count": 22,
   "metadata": {},
   "outputs": [
    {
     "name": "stdout",
     "output_type": "stream",
     "text": [
      "6.0\n"
     ]
    }
   ],
   "source": [
    "print(heron(3,4,5))"
   ]
  },
  {
   "cell_type": "markdown",
   "metadata": {},
   "source": [
    "### Default hodnoty parametrov\n",
    "\n",
    "- Priradenie default hodnoty pri definícii funkcie\n",
    "- Možnosť volať funkciu **bez explicitného zadania hodnôt parametrov**"
   ]
  },
  {
   "cell_type": "code",
   "execution_count": 23,
   "metadata": {},
   "outputs": [
    {
     "name": "stdout",
     "output_type": "stream",
     "text": [
      "25\n",
      "81\n"
     ]
    },
    {
     "data": {
      "text/plain": [
       "NoneType"
      ]
     },
     "execution_count": 23,
     "metadata": {},
     "output_type": "execute_result"
    }
   ],
   "source": [
    "def f(a=5):\n",
    "    print(a**2)\n",
    "    \n",
    "a = f()\n",
    "b = f(9)\n",
    "\n",
    "type(a)"
   ]
  },
  {
   "cell_type": "markdown",
   "metadata": {},
   "source": [
    "- Vytvorenie „nadštandardnej funkcionality“"
   ]
  },
  {
   "cell_type": "code",
   "execution_count": 24,
   "metadata": {},
   "outputs": [
    {
     "name": "stdout",
     "output_type": "stream",
     "text": [
      "5.0\n",
      "5.0\n"
     ]
    }
   ],
   "source": [
    "def hypotenuse(cathetus1, cathetus2, sqrt_fun=math.sqrt):\n",
    "    return sqrt_fun(cathetus1**2 + cathetus2**2)\n",
    "\n",
    "print(hypotenuse(3, 4))\n",
    "\n",
    "print(hypotenuse(3, 4, np.sqrt))"
   ]
  },
  {
   "cell_type": "markdown",
   "metadata": {},
   "source": [
    "### Malé terminologické okienko\n",
    "\n",
    "- **Parameter** je *premenná*, s ktorou pracuje *definícia* funkcie\n",
    "- **Argument** je *hodnota premennej*, ktorú inštancia funkcie dostáva pri jej volaní\n",
    "\n",
    "### *Argumenty* vs. *keyword argumenty*\n",
    "\n",
    "- Funkcie je možné volať aj s explicitným vyjadrením názvov ich parametrov"
   ]
  },
  {
   "cell_type": "code",
   "execution_count": 25,
   "metadata": {},
   "outputs": [
    {
     "name": "stdout",
     "output_type": "stream",
     "text": [
      "5.0\n"
     ]
    }
   ],
   "source": [
    "print(hypotenuse(cathetus1=3, cathetus2=4))"
   ]
  },
  {
   "cell_type": "markdown",
   "metadata": {},
   "source": [
    "- Výhody:\n",
    "    - Možnosť *meniť poradie* parametrov\n",
    "    - Pri funkciách s veľkým množstvom parametrov *prehľadnosť*\n",
    "    \n",
    "### Funkcie s premenným množstvom argumentov\n",
    "\n",
    "```python\n",
    "def f(<povinný_parameter_1><povinný_parameter_2,...,<povinný_parameter_3>, *args):\n",
    "    ...\n",
    "    return ...\n",
    "```\n",
    "\n",
    "- Namiesto zoznamu `args` možno dosadiť akékoľvek množstvo *pozičných* argumentov\n",
    "    - Ich hodnoty budú brané s ohľadom na **poradie**, nemožno ich do funkcie dodávať s menami"
   ]
  },
  {
   "cell_type": "code",
   "execution_count": 26,
   "metadata": {},
   "outputs": [
    {
     "name": "stdout",
     "output_type": "stream",
     "text": [
      "1890\n"
     ]
    }
   ],
   "source": [
    "def f(a, b, *args):\n",
    "    product = a * b\n",
    "    \n",
    "    for arg in args:\n",
    "        product *= arg\n",
    "        \n",
    "    return product\n",
    "\n",
    "\n",
    "print(f(5, 6, 7, 9))"
   ]
  },
  {
   "cell_type": "markdown",
   "metadata": {},
   "source": [
    "### Funkcie s povinne-keyword argumentami\n",
    "\n",
    "```python\n",
    "def f(<povinný_parameter_1>, <povinný_parameter_2, ..., <povinný_parameter_3>, *args, <povinný_kwarg_1>, <povinný_kwarg_2>, ...):\n",
    "    ...\n",
    "    return ...\n",
    "```\n",
    "\n",
    "- Nie je nutné využiť variabilné argumenty ([PEP-3102](https://www.python.org/dev/peps/pep-3102/)):\n",
    "```python\n",
    "def f(<povinný_parameter_1>, <povinný_parameter_2, ..., <povinný_parameter_3>, *, <povinný_kwarg_1>, <povinný_kwarg_2>, ...):\n",
    "    ...\n",
    "    return ...\n",
    "```"
   ]
  },
  {
   "cell_type": "code",
   "execution_count": 27,
   "metadata": {},
   "outputs": [
    {
     "name": "stdout",
     "output_type": "stream",
     "text": [
      "210\n"
     ]
    }
   ],
   "source": [
    "def f(a, b, *, c=8):\n",
    "    return a * b * c\n",
    "\n",
    "    \n",
    "print(f(5, 6, c=7))"
   ]
  },
  {
   "cell_type": "markdown",
   "metadata": {},
   "source": [
    "### Anonymné funkcie\n",
    "\n",
    "- Bežnejšie označované ako *lambda* funkcie\n",
    "- Skutočne *nemajú meno* :-)\n",
    "\n",
    "#### Príklad: Návrat päťnásobku argumentu\n",
    "*Pozn.:* Aby sme mohli anonymnú funkciu zavolať, tentokrát jej meno *priradíme* (správnejšie, no menej logicky povedané, priradíme *funkciu do mena*) "
   ]
  },
  {
   "cell_type": "code",
   "execution_count": 28,
   "metadata": {},
   "outputs": [
    {
     "name": "stdout",
     "output_type": "stream",
     "text": [
      "35\n",
      "aaaaa\n"
     ]
    }
   ],
   "source": [
    "f = lambda x: 5 * x\n",
    "\n",
    "print(f(7))\n",
    "print(f('a'))"
   ]
  },
  {
   "cell_type": "markdown",
   "metadata": {},
   "source": [
    "- Využitie:\n",
    "    - Najčastejšie asi pri volaní funkcií, ktoré majú *funkcie ako parametre*\n",
    "    - Jednoduché klonovanie funkcií podobného určenia"
   ]
  },
  {
   "cell_type": "code",
   "execution_count": 29,
   "metadata": {},
   "outputs": [
    {
     "name": "stdout",
     "output_type": "stream",
     "text": [
      "12.5\n"
     ]
    }
   ],
   "source": [
    "print(hypotenuse(3, 4, lambda x: x / 2))"
   ]
  },
  {
   "cell_type": "code",
   "execution_count": 31,
   "metadata": {},
   "outputs": [
    {
     "name": "stdout",
     "output_type": "stream",
     "text": [
      "One beer for table 5\n",
      "One coffee for table 14\n",
      "One beer for table 14\n"
     ]
    }
   ],
   "source": [
    "def orders(table):\n",
    "    return lambda drink: 'One {} for table {:d}'.format(drink, table)\n",
    "\n",
    "o5 = orders(5)\n",
    "o14 = orders(14)\n",
    "\n",
    "print(o5('beer'))\n",
    "print(o14('coffee'))\n",
    "print(o14('beer'))"
   ]
  },
  {
   "cell_type": "markdown",
   "metadata": {},
   "source": [
    "## Jedna samostatná úloha\n",
    "\n",
    "---"
   ]
  },
  {
   "cell_type": "markdown",
   "metadata": {},
   "source": [
    "> **Úloha 2**: (5 min)\n",
    "> - Máme zoznam hodnôt s jednotkami *pF* a *A*.\n",
    "> - Hodnoty v pikofaradoch predstavujú *kondenzátory*, hodnoty v ampéroch *zdroje*.\n",
    "> - Chceme spočítať, koľko je v zozname kondenzátorov a koľko zdrojov.\n",
    "> - Príklad: Pre vstup \n",
    "```console\n",
    "['486 A', '99 A', '50 pF', '346 pF', '131 pF', '358 A', '482 A', '24 pF', '51 A', '407 A']\n",
    "```\n",
    "> by sme sa chceli dopočítať k 6 zdrojom a 4 kondenzátorom\n",
    "\n",
    "> - *Nápoveda 1*: Získanie jednotiek z reťazca tvaru `'24 pF'` možno urobiť pomocou `'24 pF'.split(' ')[-1]`\n",
    "> - *Nápoveda 2*: Aplikácia operácie na každý element poľa: funkcia `map`"
   ]
  },
  {
   "cell_type": "code",
   "execution_count": 141,
   "metadata": {},
   "outputs": [
    {
     "name": "stdout",
     "output_type": "stream",
     "text": [
      "[1, 4, 9, 16, 25]\n"
     ]
    }
   ],
   "source": [
    "l = [1, 2, 3, 4, 5]\n",
    "\n",
    "print(list(map(lambda k: k**2, l)))"
   ]
  },
  {
   "cell_type": "code",
   "execution_count": 142,
   "metadata": {},
   "outputs": [],
   "source": [
    "values = ['{:2d} {}'.format(value, unit) for value, unit in zip(list(np.random.randint(500, size=10)), list(np.random.choice(['pF', 'A'], 10)))]\n",
    "\n",
    "##################\n",
    "# Your code here #\n",
    "##################"
   ]
  },
  {
   "cell_type": "markdown",
   "metadata": {},
   "source": [
    "> **Riešenie:**"
   ]
  },
  {
   "cell_type": "code",
   "execution_count": 32,
   "metadata": {},
   "outputs": [
    {
     "name": "stdout",
     "output_type": "stream",
     "text": [
      "There are 6 sources and 4 capacitors in the list.\n"
     ]
    }
   ],
   "source": [
    "values = ['{:2d} {}'.format(value, unit) for value, unit in zip(list(np.random.randint(500, size=10)), list(np.random.choice(['pF', 'A'], 10)))]\n",
    "\n",
    "units = list(map(lambda k: k.split(' ')[-1], values))\n",
    "\n",
    "c = s = 0\n",
    "for u in units:\n",
    "    if u == 'pF':\n",
    "        c += 1\n",
    "    elif u == 'A':\n",
    "        s += 1\n",
    "        \n",
    "print('There are ' + str(s) + ' sources and ' + str(c) + ' capacitors in the list.')"
   ]
  },
  {
   "cell_type": "markdown",
   "metadata": {},
   "source": [
    "## Dokončenie úloh z CW\n",
    "\n",
    "---"
   ]
  },
  {
   "cell_type": "markdown",
   "metadata": {},
   "source": [
    "7. Vytvorte *funkciu* pre výpočet Ludolfovho čísla pomocou $n$ prvkov Leibnizovho radu"
   ]
  },
  {
   "cell_type": "code",
   "execution_count": 33,
   "metadata": {},
   "outputs": [
    {
     "name": "stdout",
     "output_type": "stream",
     "text": [
      "pi: 3.1415826535897198\n"
     ]
    }
   ],
   "source": [
    "def pi_leibniz(n=1000):\n",
    "    pi = 0\n",
    "    \n",
    "    for k in range(n):\n",
    "        pi += 4 * (-1)**k / (2 * k + 1)\n",
    "    \n",
    "    return pi\n",
    "\n",
    "\n",
    "print('pi: ' + str(pi_leibniz(int(1e5))))"
   ]
  },
  {
   "cell_type": "markdown",
   "metadata": {},
   "source": [
    "8. Zistite, koľko členov radu je treba zahrnúť, aby sme dostali $\\pi$ s presnosťou na $10^{-6}$"
   ]
  },
  {
   "cell_type": "code",
   "execution_count": 34,
   "metadata": {},
   "outputs": [
    {
     "name": "stdout",
     "output_type": "stream",
     "text": [
      "100\n"
     ]
    }
   ],
   "source": [
    "precision = 1e-2\n",
    "pi_true = np.pi\n",
    "\n",
    "n = 1\n",
    "while np.abs(pi_true - pi_leibniz(n)) > precision:\n",
    "    n += 1\n",
    "\n",
    "print(n)"
   ]
  },
  {
   "cell_type": "markdown",
   "metadata": {},
   "source": [
    "### Jednoduchý automat na mince\n",
    "\n",
    "- Napíšte program, ktorý pre zadanú čiastku (v celých korunách) vypíše najmenší počet mincí (20, 10, 5, 2, 1), z ktorých sa dá daná čiastka zložiť"
   ]
  },
  {
   "cell_type": "code",
   "execution_count": 35,
   "metadata": {},
   "outputs": [
    {
     "name": "stdout",
     "output_type": "stream",
     "text": [
      "3\n"
     ]
    }
   ],
   "source": [
    "def automat(amount):\n",
    "    n_coins = 0\n",
    "    coins = [20, 10, 5, 2, 1]\n",
    "    \n",
    "    for coin in coins:\n",
    "        n_coins += amount // coin\n",
    "        amount -= (amount // coin) * coin\n",
    "        \n",
    "    return n_coins\n",
    "\n",
    "\n",
    "print(automat(50))"
   ]
  },
  {
   "cell_type": "markdown",
   "metadata": {},
   "source": [
    "- Rozšírte program tak, aby vypisoval použité mince"
   ]
  },
  {
   "cell_type": "code",
   "execution_count": 36,
   "metadata": {},
   "outputs": [
    {
     "name": "stdout",
     "output_type": "stream",
     "text": [
      "20 20 20 20 20 5 2 \n"
     ]
    }
   ],
   "source": [
    "def automat(amount):\n",
    "    coins = [20, 10, 5, 2, 1]\n",
    "    used_coins = ''\n",
    "    \n",
    "    for coin in coins:\n",
    "        used_coins += (amount // coin) * (str(coin) + ' ')\n",
    "        amount -= (amount // coin) * coin\n",
    "        \n",
    "    return used_coins\n",
    "\n",
    "\n",
    "print(automat(107))"
   ]
  },
  {
   "cell_type": "markdown",
   "metadata": {},
   "source": [
    "- Nechajte program vypísať vloženú čiastku aj v iných menách"
   ]
  },
  {
   "cell_type": "code",
   "execution_count": 37,
   "metadata": {},
   "outputs": [
    {
     "name": "stdout",
     "output_type": "stream",
     "text": [
      "1000 CZK = 0.004 bitcoin\n"
     ]
    }
   ],
   "source": [
    "def exchange(amount, currency='euro'):\n",
    "    rates = {'euro': .037,\n",
    "             'chilean_peso': 34.14,\n",
    "             'bitcoin': 4e-6,\n",
    "             'australian_dollar': .061,\n",
    "             'belize_dollar': .088} # 1 CZK == ...\n",
    "    \n",
    "    if currency in rates.keys():\n",
    "        return amount * rates[currency]\n",
    "    else:\n",
    "        print('No evidence.')\n",
    "        return None\n",
    "    \n",
    "\n",
    "amount = 1000\n",
    "currency = 'bitcoin'\n",
    "print(str(amount) + ' CZK = ' + str(exchange(amount, currency)) + ' ' + currency)"
   ]
  },
  {
   "cell_type": "markdown",
   "metadata": {},
   "source": [
    "## Čo ďalej\n",
    "\n",
    "---\n",
    "\n",
    "- Ešte raz si prejsť dnešné cvičenie, pochopenie dnešnej látky je naozaj dôležité.\n",
    "- Naprogramovať si zopár vlastných úloh\n",
    "    - Tip 1: Skúste si prejsť zopár úloh z [KSP](https://ksp.mff.cuni.cz/tasks/32/tasks1.html)\n",
    "    - Tip 2: Výpočet $\\pi$ metódou Monte Carlo\n",
    "        - Trochu nad rámec dnešného cvičenia (je potrebné použiť nejaký generátor vzoriek)\n",
    "    - Tip 3: Hľadanie prvočísel menších než $N$ pomocou algoritmu [Eratosthenovho sita](https://en.wikipedia.org/wiki/Sieve_of_Eratosthenes).\n",
    "        - Jednoduchšia úloha"
   ]
  },
  {
   "cell_type": "code",
   "execution_count": null,
   "metadata": {},
   "outputs": [],
   "source": []
  }
 ],
 "metadata": {
  "kernelspec": {
   "display_name": "Python 3",
   "language": "python",
   "name": "python3"
  },
  "language_info": {
   "codemirror_mode": {
    "name": "ipython",
    "version": 3
   },
   "file_extension": ".py",
   "mimetype": "text/x-python",
   "name": "python",
   "nbconvert_exporter": "python",
   "pygments_lexer": "ipython3",
   "version": "3.8.3"
  }
 },
 "nbformat": 4,
 "nbformat_minor": 4
}
