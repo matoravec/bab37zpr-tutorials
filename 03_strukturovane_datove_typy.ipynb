{
 "cells": [
  {
   "cell_type": "markdown",
   "metadata": {},
   "source": [
    "# Štruktúrované dátové typy\n",
    "\n",
    "## Inicializácia"
   ]
  },
  {
   "cell_type": "code",
   "execution_count": 1,
   "metadata": {},
   "outputs": [],
   "source": [
    "import math\n",
    "import random"
   ]
  },
  {
   "cell_type": "markdown",
   "metadata": {},
   "source": [
    "## Zoznam (list)\n",
    "\n",
    "* **Usporiadaná** $n$-tica hodnôt\n",
    "* V jednom zozname môže byť **viacero dátových typov**\n",
    "* Vytvorenie zoznamu\n",
    "\n",
    "```python\n",
    "l1 = [] # An empty list\n",
    "l2 = [1, 2, 3] # By explicitly naming all of its values (from literal)\n",
    "l3 = ['string', 5, ['a', 'b', 'c']] # A list could contain a list as its element\n",
    "l4 = list(range(11)) # From another object (here: an iterator)\n",
    "```\n",
    "\n",
    "* Indexovanie *pozíciou*\n",
    "    * Hranaté zátvorky\n",
    "    \n",
    "    ```python\n",
    "    l3[0]\n",
    "    l3[-2]\n",
    "    ...\n",
    "    ```\n",
    "\n",
    "* **Modifikovateľná** štruktúra"
   ]
  },
  {
   "cell_type": "code",
   "execution_count": 2,
   "metadata": {},
   "outputs": [
    {
     "name": "stdout",
     "output_type": "stream",
     "text": [
      "[1, 2, 'three']\n"
     ]
    }
   ],
   "source": [
    "l = [1, 2, 3]\n",
    "l[-1] = 'three'\n",
    "\n",
    "print(l)"
   ]
  },
  {
   "cell_type": "markdown",
   "metadata": {},
   "source": [
    "* **Iterovateľný** dátový typ\n",
    "    * Možno využiť v predpise cyklu"
   ]
  },
  {
   "cell_type": "code",
   "execution_count": 3,
   "metadata": {},
   "outputs": [
    {
     "name": "stdout",
     "output_type": "stream",
     "text": [
      "1 4 9 "
     ]
    }
   ],
   "source": [
    "l = [1, 2, 3]\n",
    "\n",
    "for element in l:\n",
    "    print(element**2, end=' ')"
   ]
  },
  {
   "cell_type": "markdown",
   "metadata": {},
   "source": [
    "### Dynamické pridávanie prvkov\n",
    "\n",
    "* Metóda `list.append()`"
   ]
  },
  {
   "cell_type": "code",
   "execution_count": 4,
   "metadata": {},
   "outputs": [
    {
     "name": "stdout",
     "output_type": "stream",
     "text": [
      "['one', 5]\n"
     ]
    }
   ],
   "source": [
    "l = []\n",
    "\n",
    "l.append('one')\n",
    "l.append(5)\n",
    "\n",
    "print(l)"
   ]
  },
  {
   "cell_type": "markdown",
   "metadata": {},
   "source": [
    "### Dynamické odoberanie prvkov\n",
    "\n",
    "* Metóda `list.pop()`"
   ]
  },
  {
   "cell_type": "code",
   "execution_count": 5,
   "metadata": {
    "scrolled": true
   },
   "outputs": [
    {
     "name": "stdout",
     "output_type": "stream",
     "text": [
      "3\n",
      "[1, 2]\n"
     ]
    }
   ],
   "source": [
    "l = [1, 2, 3]\n",
    "\n",
    "last = l.pop(-1)\n",
    "\n",
    "print(last)\n",
    "print(l)"
   ]
  },
  {
   "cell_type": "markdown",
   "metadata": {},
   "source": [
    "### Otočenie poradia prvkov\n",
    "\n",
    "* Metóda `list.reverse()`"
   ]
  },
  {
   "cell_type": "code",
   "execution_count": 6,
   "metadata": {},
   "outputs": [
    {
     "name": "stdout",
     "output_type": "stream",
     "text": [
      "[9, 8, 7, 6, 5, 4, 3, 2, 1, 0]\n"
     ]
    }
   ],
   "source": [
    "l = list(range(10))\n",
    "\n",
    "l.reverse()\n",
    "\n",
    "print(l)"
   ]
  },
  {
   "cell_type": "markdown",
   "metadata": {},
   "source": [
    "### Ostatné metódy triedy *list*"
   ]
  },
  {
   "cell_type": "code",
   "execution_count": 7,
   "metadata": {},
   "outputs": [
    {
     "name": "stdout",
     "output_type": "stream",
     "text": [
      "['__add__', '__class__', '__contains__', '__delattr__', '__delitem__', '__dir__', '__doc__', '__eq__', '__format__', '__ge__', '__getattribute__', '__getitem__', '__gt__', '__hash__', '__iadd__', '__imul__', '__init__', '__init_subclass__', '__iter__', '__le__', '__len__', '__lt__', '__mul__', '__ne__', '__new__', '__reduce__', '__reduce_ex__', '__repr__', '__reversed__', '__rmul__', '__setattr__', '__setitem__', '__sizeof__', '__str__', '__subclasshook__', 'append', 'clear', 'copy', 'count', 'extend', 'index', 'insert', 'pop', 'remove', 'reverse', 'sort']\n"
     ]
    }
   ],
   "source": [
    "print(dir(list))"
   ]
  },
  {
   "cell_type": "markdown",
   "metadata": {},
   "source": [
    "-----------------------\n",
    "\n",
    "## N-tica (tuple)\n",
    "\n",
    "* Navonok veľmi podobná zoznamu, avšak **nie je modifikovateľná**\n",
    "* Niekedy vhodné použiť z dôvodu bezpečnosti\n",
    "    * Ak funkcii dáme ako argument *tuple*, funkcia ho bude môcť čítať, ale nie zmeniť\n",
    "* Vytvorenie podobne ako *list*, avšak s použitím **okrúhlych zátvoriek**, resp. metódy `tuple()`\n",
    "\n",
    "```python\n",
    "t = () # An empty tuple\n",
    "t = (0, 'one')\n",
    "t = ('a', ['b', 'c'], (1, 2, 3))\n",
    "t = tuple(range(10))\n",
    "```\n",
    "\n",
    "* Nedisponuje žiadnymi modifikujúcimi metódami (`append`, `pop`, `reverse`,...)"
   ]
  },
  {
   "cell_type": "code",
   "execution_count": 8,
   "metadata": {},
   "outputs": [
    {
     "name": "stdout",
     "output_type": "stream",
     "text": [
      "['__add__', '__class__', '__contains__', '__delattr__', '__dir__', '__doc__', '__eq__', '__format__', '__ge__', '__getattribute__', '__getitem__', '__getnewargs__', '__gt__', '__hash__', '__init__', '__init_subclass__', '__iter__', '__le__', '__len__', '__lt__', '__mul__', '__ne__', '__new__', '__reduce__', '__reduce_ex__', '__repr__', '__rmul__', '__setattr__', '__sizeof__', '__str__', '__subclasshook__', 'count', 'index']\n"
     ]
    }
   ],
   "source": [
    "print(dir(tuple))"
   ]
  },
  {
   "cell_type": "markdown",
   "metadata": {},
   "source": [
    "-----------\n",
    "\n",
    "## Množina (set)\n",
    "\n",
    "* Správanie ako množina v matematike\n",
    "    * Nie je usporiadaná\n",
    "        * Nemožno teda indexovať\n",
    "    * Každý z prvkov je unikátny\n",
    "    \n",
    "* Je **iterovateľná** a **modifikovateľná**\n",
    "    * Možno pridávať prvky\n",
    "    \n",
    "* Zápis pomocou kučeravých zátvoriek, resp. metódy `set()`\n",
    "\n",
    "```python\n",
    "s = set() # An empty set\n",
    "s = {1, 1, 2, 2, 3} # The same as {1, 2, 3}\n",
    "s = set(range(10))\n",
    "```"
   ]
  },
  {
   "cell_type": "code",
   "execution_count": 9,
   "metadata": {},
   "outputs": [
    {
     "name": "stdout",
     "output_type": "stream",
     "text": [
      "True\n",
      "False\n"
     ]
    }
   ],
   "source": [
    "print({1, 1, 2} == {1, 2}) # The same value\n",
    "print({1, 1, 2} is {1, 2}) # Two distinct objects"
   ]
  },
  {
   "cell_type": "markdown",
   "metadata": {},
   "source": [
    "### Ponechanie unikátnych prvkov v zozname"
   ]
  },
  {
   "cell_type": "code",
   "execution_count": 10,
   "metadata": {},
   "outputs": [
    {
     "name": "stdout",
     "output_type": "stream",
     "text": [
      "[1, 2, 3, 4, 5, 6, 7]\n"
     ]
    }
   ],
   "source": [
    "l = [1, 1, 1, 2, 3, 4, 4, 5, 6, 6, 6, 7]\n",
    "\n",
    "print(list(set(l)))"
   ]
  },
  {
   "cell_type": "markdown",
   "metadata": {},
   "source": [
    "--------\n",
    "\n",
    "## Slovník (dictionary)\n",
    "\n",
    "* Každý prvok tvorený **heslom** (*key*) a **hodnotou** (*value*)\n",
    "* Hodnoty sú ekvivalentné zoznamu, heslá slúžia na indexáciu\n",
    "* Vytvorenie slovníka\n",
    "\n",
    "```python\n",
    "d1 = {} # An empty dictionary\n",
    "d2 = dict() # An empty dictionary\n",
    "d3 = dict.fromkeys(['one', 'two', 'three']) # Empty with keys 'one', 'two', 'three'\n",
    "d4 = dict.fromkeys('abcde') # Empty with keys 'a', 'b', 'c', 'd', 'e'\n",
    "d5 = {'one': 1, 'two': [1, 2, 3]} # By a literal\n",
    "d6 = dict(zip('keys', [1, 2, 3, 4])) # {'k': 1, 'e': 2, 'y': 3, 's': 4}\n",
    "```\n",
    "* Indexovanie:\n",
    "```python\n",
    "d = {'a': [1, 2, 3], 'b': ['a', 'b', 'c']}\n",
    "d['a'][0]\n",
    "d['b']\n",
    "...\n",
    "```"
   ]
  },
  {
   "cell_type": "markdown",
   "metadata": {},
   "source": [
    "--------\n",
    "\n",
    "## Zjednodušený zápis štruktúrovaných typov: *list / set comprehensions*\n",
    "\n",
    "```python\n",
    "[<expression_using_variable> for <variable> in <iterable>]\n",
    "[<expression_using_variable> if <logical_expression> else <expression> for <variable> in <iterable>]\n",
    "```\n",
    "* To isté aj s množinovými zátvorkami"
   ]
  },
  {
   "cell_type": "code",
   "execution_count": 11,
   "metadata": {},
   "outputs": [
    {
     "name": "stdout",
     "output_type": "stream",
     "text": [
      "['p', 'o', 'p', 'o', 'c', 'a', 't', 'e', 'p', 'e', 't', 'l']\n",
      "[2, 4, 6, 8, 10, 12, 14, 16, 18, 20]\n"
     ]
    }
   ],
   "source": [
    "# List of letters of a string:\n",
    "string = 'popocatepetl'\n",
    "print([letter for letter in string])\n",
    "\n",
    "# Even numbers up to 20:\n",
    "print([2 * i for i in range(1, 11)])"
   ]
  },
  {
   "cell_type": "markdown",
   "metadata": {},
   "source": [
    "--------\n",
    "\n",
    "## Úlohy z [CW](https://cw.fel.cvut.cz/wiki/courses/bab37zpr/tutorials/lab04)\n",
    "\n",
    "1. Napíšte program, ktorý prehodí hodnoty dvoch premenných."
   ]
  },
  {
   "cell_type": "code",
   "execution_count": 12,
   "metadata": {},
   "outputs": [
    {
     "name": "stdout",
     "output_type": "stream",
     "text": [
      "a: 7, b: 5\n"
     ]
    }
   ],
   "source": [
    "a = 5\n",
    "b = 7\n",
    "\n",
    "aux = a\n",
    "a = b\n",
    "b = aux\n",
    "\n",
    "print('a: {:d}, b: {:d}'.format(a, b))"
   ]
  },
  {
   "cell_type": "code",
   "execution_count": 13,
   "metadata": {},
   "outputs": [
    {
     "name": "stdout",
     "output_type": "stream",
     "text": [
      "a: 7, b: 5\n"
     ]
    }
   ],
   "source": [
    "a = 5\n",
    "b = 7\n",
    "\n",
    "a = a + b\n",
    "b = a - b\n",
    "a = a - b\n",
    "\n",
    "print('a: {:d}, b: {:d}'.format(a, b))"
   ]
  },
  {
   "cell_type": "code",
   "execution_count": 14,
   "metadata": {},
   "outputs": [
    {
     "name": "stdout",
     "output_type": "stream",
     "text": [
      "a: 7, b: 5\n"
     ]
    }
   ],
   "source": [
    "a = 5\n",
    "b = 7\n",
    "\n",
    "a, b = b, a\n",
    "\n",
    "print('a: {:d}, b: {:d}'.format(a, b))"
   ]
  },
  {
   "cell_type": "markdown",
   "metadata": {},
   "source": [
    "2. Implementujte nasledujúci program:\n",
    "\n",
    "```python\n",
    "def rectangle(arg):\n",
    "    # A function for rectangular area calculation\n",
    "    \n",
    "def circle(arg):\n",
    "    # A function for circular area calculation\n",
    "    \n",
    "def area(f, arg):\n",
    "    # A function for circular or rectangular area calculation\n",
    "    \n",
    "print('Area of the circle: {:.5f}'.format(area('circle', 2.21)))\n",
    "print('Area of the rectangle: {:.5f}'.format(area('rectangle', (3, 4))))\n",
    "```"
   ]
  },
  {
   "cell_type": "code",
   "execution_count": 15,
   "metadata": {},
   "outputs": [
    {
     "name": "stdout",
     "output_type": "stream",
     "text": [
      "Area of the circle: 15.34385\n",
      "Area of the rectangle: 12.00000\n"
     ]
    }
   ],
   "source": [
    "def rectangle(sides):\n",
    "    return sides[0] * sides[1]\n",
    "    # return math.prod(sides) # An alternative\n",
    "    \n",
    "def circle(diameter):\n",
    "    return math.pi * diameter**2\n",
    "\n",
    "def area(shape, data):\n",
    "    return rectangle(data) if shape == 'rectangle' else circle(data)\n",
    "\n",
    "print('Area of the circle: {:.5f}'.format(area('circle', 2.21)))\n",
    "print('Area of the rectangle: {:.5f}'.format(area('rectangle', (3, 4))))"
   ]
  },
  {
   "cell_type": "markdown",
   "metadata": {},
   "source": [
    "3. Vyskúšajte rôzne spôsoby prechádzania a vytvárania zoznamov.\n",
    "\n",
    "\n",
    "* Postupné pridávanie prvkov:"
   ]
  },
  {
   "cell_type": "code",
   "execution_count": 16,
   "metadata": {},
   "outputs": [
    {
     "name": "stdout",
     "output_type": "stream",
     "text": [
      "[0, 1, 2, [3, 4, 5]]\n"
     ]
    }
   ],
   "source": [
    "l = []\n",
    "l.append(0)\n",
    "l.append(1)\n",
    "l.append(2)\n",
    "l.append([3, 4, 5])\n",
    "\n",
    "print(l)"
   ]
  },
  {
   "cell_type": "markdown",
   "metadata": {},
   "source": [
    "* Spájanie"
   ]
  },
  {
   "cell_type": "code",
   "execution_count": 17,
   "metadata": {},
   "outputs": [
    {
     "name": "stdout",
     "output_type": "stream",
     "text": [
      "[1, 2, 3, 1, 2, 3, 'a', 'b', 'c', 'a', 'b', 'c']\n"
     ]
    }
   ],
   "source": [
    "l = [1, 2, 3]\n",
    "l = l + l + 2 * ['a', 'b', 'c']\n",
    "\n",
    "print(l)"
   ]
  },
  {
   "cell_type": "markdown",
   "metadata": {},
   "source": [
    "* Metóda `list.extend()`"
   ]
  },
  {
   "cell_type": "code",
   "execution_count": 18,
   "metadata": {},
   "outputs": [
    {
     "name": "stdout",
     "output_type": "stream",
     "text": [
      "[1, 2, 3, 4, 5, 6]\n"
     ]
    }
   ],
   "source": [
    "l = [1, 2, 3]\n",
    "extension = [4, 5, 6]\n",
    "\n",
    "l.extend(extension)\n",
    "\n",
    "print(l)"
   ]
  },
  {
   "cell_type": "markdown",
   "metadata": {},
   "source": [
    "* Indexácia"
   ]
  },
  {
   "cell_type": "code",
   "execution_count": 19,
   "metadata": {},
   "outputs": [
    {
     "name": "stdout",
     "output_type": "stream",
     "text": [
      "0\n",
      "[0, 1, 2, 3, 4]\n",
      "[5, 6, 7, 8, 9]\n",
      "[4, 5, 6]\n"
     ]
    }
   ],
   "source": [
    "l = list(range(10))\n",
    "\n",
    "print(l[0])\n",
    "print(l[:5])\n",
    "print(l[5:])\n",
    "print(l[4:7])"
   ]
  },
  {
   "cell_type": "markdown",
   "metadata": {},
   "source": [
    "* Operátor ```in```"
   ]
  },
  {
   "cell_type": "code",
   "execution_count": 20,
   "metadata": {},
   "outputs": [
    {
     "name": "stdout",
     "output_type": "stream",
     "text": [
      "True\n",
      "True\n"
     ]
    }
   ],
   "source": [
    "l = ['a', 'b', 4, 8, [1, 2.5]]\n",
    "string = 'popocatepetl'\n",
    "\n",
    "print('a' in l)\n",
    "print('o' in string)"
   ]
  },
  {
   "cell_type": "markdown",
   "metadata": {},
   "source": [
    "4. Preskúmajte rozdiel medzi kópiou zoznamu a aliasom\n",
    "    * Kópia zoznamu: \n",
    "    ```python\n",
    "    copy_of_list = original_list.copy()\n",
    "    another_copy = list(original_list)\n",
    "    ```\n",
    "    * Odkaz na zoznam:\n",
    "    ```python\n",
    "    reference_to_list = original_list\n",
    "    ```"
   ]
  },
  {
   "cell_type": "code",
   "execution_count": 21,
   "metadata": {},
   "outputs": [
    {
     "name": "stdout",
     "output_type": "stream",
     "text": [
      "True\n",
      "True\n",
      "True\n",
      "False\n",
      "[1, 2, 3]\n"
     ]
    }
   ],
   "source": [
    "l = [1, 2, 3]\n",
    "l_copy1 = l.copy()\n",
    "l_copy2 = list(l)\n",
    "l_reference1 = l\n",
    "l_reference2 = l\n",
    "\n",
    "print(l == l_reference1)\n",
    "print(l == l_copy1)\n",
    "print(l is l_reference1)\n",
    "print(l is l_copy1)\n",
    "\n",
    "del(l_reference1)\n",
    "del(l_copy1)\n",
    "print(l)"
   ]
  },
  {
   "cell_type": "markdown",
   "metadata": {},
   "source": [
    "5. Navrhnite funkciu, ktorej návratovou hodnotou bude zoznam, inicializovaný náhodnými celými číslami v danom rozsahu."
   ]
  },
  {
   "cell_type": "code",
   "execution_count": 22,
   "metadata": {},
   "outputs": [
    {
     "name": "stdout",
     "output_type": "stream",
     "text": [
      "[7, 7, 4, 7, 4, 7, 5, 7, 5, 4]\n"
     ]
    }
   ],
   "source": [
    "def randint(n, start, stop):\n",
    "    return [random.randrange(start, stop) for i in range(n)]\n",
    "\n",
    "print(randint(10, 4, 8)) # 4 included, 8 not included"
   ]
  },
  {
   "cell_type": "markdown",
   "metadata": {},
   "source": [
    "6. Napíšte funkcie na sčítanie a skalárne násobenie $s$ vektorov."
   ]
  },
  {
   "cell_type": "code",
   "execution_count": 23,
   "metadata": {},
   "outputs": [
    {
     "name": "stdout",
     "output_type": "stream",
     "text": [
      "[4, 4, 5]\n",
      "[2, 0, 3]\n"
     ]
    }
   ],
   "source": [
    "# s = 3\n",
    "def vector_sum(v1, v2, v3):\n",
    "    return [i + j + k for i, j, k in zip(v1, v2, v3)]\n",
    "\n",
    "def vector_ewp(v1, v2, v3):\n",
    "    return [i * j * k for i, j, k in zip(v1, v2, v3)]\n",
    "\n",
    "v1 = [1, 2, 3]\n",
    "v2 = [1, 0, 1]\n",
    "v3 = [2, 2, 1]\n",
    "# ------------\n",
    "#    [4, 4, 5] (sum)\n",
    "#    [2, 0, 3] (element-wise product)\n",
    "\n",
    "print(vector_sum(v1, v2, v3))\n",
    "print(vector_ewp(v1, v2, v3))"
   ]
  },
  {
   "cell_type": "markdown",
   "metadata": {},
   "source": [
    "7. Vytvorte zoznam, reprezentujúci maticu. Napíšte program, ktorý vypíše jednotlivé prvky matice."
   ]
  },
  {
   "cell_type": "code",
   "execution_count": 24,
   "metadata": {},
   "outputs": [
    {
     "name": "stdout",
     "output_type": "stream",
     "text": [
      "  9  3  5  9  7  4  7  9\n",
      "  8  7  3  9  6  1  8  2\n",
      "  3  9  8  3  5  4  3  0\n",
      "  9  2  8  1  1  7  6  0\n",
      "  2  1  2  0  4  3  9  8\n"
     ]
    }
   ],
   "source": [
    "rows = 5 # Number of rows\n",
    "columns = 8 # Number of columns\n",
    "\n",
    "matrix = [[random.randrange(10) for c in range(columns)] for r in range(rows)]\n",
    "\n",
    "for r in range(rows):\n",
    "    row = matrix[r]\n",
    "    print((columns * ' {:2d}').format(*row))"
   ]
  },
  {
   "cell_type": "markdown",
   "metadata": {},
   "source": [
    "8. Zoznam áut je popísaný nasledujúcou dátovou štruktúrou. Vypíšte menný zoznam majiteľov áut. Koľko je v garáži áut značky Volvo?"
   ]
  },
  {
   "cell_type": "code",
   "execution_count": 25,
   "metadata": {},
   "outputs": [],
   "source": [
    "garaz = [(\"Petr Kellner\", [\"Porsche\", \"BMW\", \"Volvo\"]),\n",
    "         (\"Karel Komarek\", [\"BMW\", \"Volvo\"]),\n",
    "         (\"Andrej Babis\", [\"BMW\", \"Porsche\"]),\n",
    "         (\"Daniel Kretinsky\", [\"BMW\", \"Ferrari\", \"Ford Mustang\"])]"
   ]
  },
  {
   "cell_type": "code",
   "execution_count": 26,
   "metadata": {},
   "outputs": [
    {
     "name": "stdout",
     "output_type": "stream",
     "text": [
      "Petr Kellner, Karel Komarek, Andrej Babis, Daniel Kretinsky\n",
      "2\n"
     ]
    }
   ],
   "source": [
    "owners = [t[0] for t in garaz]\n",
    "\n",
    "n_volvos = 0\n",
    "for owner in range(len(garaz)):\n",
    "    for car in garaz[owner][1]:\n",
    "        n_volvos += car == 'Volvo'\n",
    "        \n",
    "print(*owners, sep=', ')\n",
    "print(n_volvos)"
   ]
  },
  {
   "cell_type": "code",
   "execution_count": null,
   "metadata": {},
   "outputs": [],
   "source": []
  }
 ],
 "metadata": {
  "kernelspec": {
   "display_name": "Python 3",
   "language": "python",
   "name": "python3"
  },
  "language_info": {
   "codemirror_mode": {
    "name": "ipython",
    "version": 3
   },
   "file_extension": ".py",
   "mimetype": "text/x-python",
   "name": "python",
   "nbconvert_exporter": "python",
   "pygments_lexer": "ipython3",
   "version": "3.7.5"
  }
 },
 "nbformat": 4,
 "nbformat_minor": 4
}
